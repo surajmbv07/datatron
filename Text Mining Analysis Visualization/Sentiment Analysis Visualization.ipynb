{
 "cells": [
  {
   "cell_type": "code",
   "execution_count": 1,
   "metadata": {},
   "outputs": [
    {
     "data": {
      "text/html": [
       "        <script type=\"text/javascript\">\n",
       "        window.PlotlyConfig = {MathJaxConfig: 'local'};\n",
       "        if (window.MathJax) {MathJax.Hub.Config({SVG: {font: \"STIX-Web\"}});}\n",
       "        if (typeof require !== 'undefined') {\n",
       "        require.undef(\"plotly\");\n",
       "        requirejs.config({\n",
       "            paths: {\n",
       "                'plotly': ['https://cdn.plot.ly/plotly-latest.min']\n",
       "            }\n",
       "        });\n",
       "        require(['plotly'], function(Plotly) {\n",
       "            window._Plotly = Plotly;\n",
       "        });\n",
       "        }\n",
       "        </script>\n",
       "        "
      ]
     },
     "metadata": {},
     "output_type": "display_data"
    }
   ],
   "source": [
    "\n",
    "import pandas as pd\n",
    "import numpy as np\n",
    "from textblob import TextBlob\n",
    "from sklearn.feature_extraction.text import CountVectorizer\n",
    "from sklearn.feature_extraction.text import TfidfVectorizer\n",
    "import warnings \n",
    "warnings.filterwarnings('ignore')\n",
    "import matplotlib\n",
    "import matplotlib.pyplot as plt\n",
    "import seaborn as sns\n",
    "%matplotlib inline\n",
    "matplotlib.rcParams['figure.figsize'] = (10.0, 6.0)\n",
    "#import plotly.graph_objs as go\n",
    "#import plotly.plotly as py\n",
    "import cufflinks\n",
    "pd.options.display.max_columns = 30\n",
    "from IPython.core.interactiveshell import InteractiveShell\n",
    "import plotly.figure_factory as ff\n",
    "InteractiveShell.ast_node_interactivity = 'all'\n",
    "from plotly.offline import iplot\n",
    "cufflinks.go_offline()\n",
    "cufflinks.set_config_file(world_readable=True, theme='pearl')\n",
    "from sklearn.decomposition import TruncatedSVD\n",
    "from sklearn.decomposition import LatentDirichletAllocation\n",
    "from sklearn.manifold import TSNE\n",
    "#from bokeh.plotting import figure, output_file, show\n",
    "#from bokeh.models import Label\n",
    "#from bokeh.io import output_notebook\n",
    "#output_notebook()\n",
    "from collections import Counter\n",
    "#import scattertext as st\n",
    "#import spacy\n",
    "from pprint import pprint\n",
    "#import en_core_web_sm\n",
    "#nlp = spacy.load('en_core_web_md')"
   ]
  },
  {
   "cell_type": "code",
   "execution_count": 2,
   "metadata": {},
   "outputs": [
    {
     "data": {
      "text/html": [
       "<div>\n",
       "<style scoped>\n",
       "    .dataframe tbody tr th:only-of-type {\n",
       "        vertical-align: middle;\n",
       "    }\n",
       "\n",
       "    .dataframe tbody tr th {\n",
       "        vertical-align: top;\n",
       "    }\n",
       "\n",
       "    .dataframe thead th {\n",
       "        text-align: right;\n",
       "    }\n",
       "</style>\n",
       "<table border=\"1\" class=\"dataframe\">\n",
       "  <thead>\n",
       "    <tr style=\"text-align: right;\">\n",
       "      <th></th>\n",
       "      <th>Video ID</th>\n",
       "      <th>Comment ID</th>\n",
       "      <th>comments</th>\n",
       "    </tr>\n",
       "  </thead>\n",
       "  <tbody>\n",
       "    <tr>\n",
       "      <th>0</th>\n",
       "      <td>zIwLWfaAg-8</td>\n",
       "      <td>UgzEsaDlwBB_3fJ3dHV4AaABAg</td>\n",
       "      <td>When  breathing  between  sentences    his  br...</td>\n",
       "    </tr>\n",
       "    <tr>\n",
       "      <th>1</th>\n",
       "      <td>zIwLWfaAg-8</td>\n",
       "      <td>UgyGTNVbBcCpPzxDkLd4AaABAg</td>\n",
       "      <td>We  live  in  time  of  Elon  Musk    people  ...</td>\n",
       "    </tr>\n",
       "    <tr>\n",
       "      <th>2</th>\n",
       "      <td>zIwLWfaAg-8</td>\n",
       "      <td>UgwcuyjJqSg6n7LyDtV4AaABAg</td>\n",
       "      <td>Watching  this  today  seems  so  surreal    c...</td>\n",
       "    </tr>\n",
       "    <tr>\n",
       "      <th>3</th>\n",
       "      <td>zIwLWfaAg-8</td>\n",
       "      <td>UgxC1Yf2B0rpztb0JGB4AaABAg</td>\n",
       "      <td>When  Elon  is  late  to  class    the  teache...</td>\n",
       "    </tr>\n",
       "    <tr>\n",
       "      <th>4</th>\n",
       "      <td>zIwLWfaAg-8</td>\n",
       "      <td>UgyESkNv2XRZPuAFkRZ4AaABAg</td>\n",
       "      <td>His  an  alien  just  trying  to  build  a  ro...</td>\n",
       "    </tr>\n",
       "  </tbody>\n",
       "</table>\n",
       "</div>"
      ],
      "text/plain": [
       "      Video ID                  Comment ID  \\\n",
       "0  zIwLWfaAg-8  UgzEsaDlwBB_3fJ3dHV4AaABAg   \n",
       "1  zIwLWfaAg-8  UgyGTNVbBcCpPzxDkLd4AaABAg   \n",
       "2  zIwLWfaAg-8  UgwcuyjJqSg6n7LyDtV4AaABAg   \n",
       "3  zIwLWfaAg-8  UgxC1Yf2B0rpztb0JGB4AaABAg   \n",
       "4  zIwLWfaAg-8  UgyESkNv2XRZPuAFkRZ4AaABAg   \n",
       "\n",
       "                                            comments  \n",
       "0  When  breathing  between  sentences    his  br...  \n",
       "1  We  live  in  time  of  Elon  Musk    people  ...  \n",
       "2  Watching  this  today  seems  so  surreal    c...  \n",
       "3  When  Elon  is  late  to  class    the  teache...  \n",
       "4  His  an  alien  just  trying  to  build  a  ro...  "
      ]
     },
     "execution_count": 2,
     "metadata": {},
     "output_type": "execute_result"
    }
   ],
   "source": [
    "df = pd.read_csv(r'C:\\Users\\mbvsuraj\\Documents\\Python_Scripts\\rrevif\\anastasija_p\\Yt_comment_Dataset_final.csv')\n",
    "df.head()"
   ]
  },
  {
   "cell_type": "code",
   "execution_count": 3,
   "metadata": {},
   "outputs": [],
   "source": [
    "\n",
    "def preprocess(ReviewText):\n",
    "    ReviewText = ReviewText.str.replace(\"(<br/>)\", \"\")\n",
    "    ReviewText = ReviewText.str.replace('(<a).*(>).*(</a>)', '')\n",
    "    ReviewText = ReviewText.str.replace('(&amp)', '')\n",
    "    ReviewText = ReviewText.str.replace('(&gt)', '')\n",
    "    ReviewText = ReviewText.str.replace('(&lt)', '')\n",
    "    ReviewText = ReviewText.str.replace('(\\xa0)', ' ')  \n",
    "    return ReviewText\n",
    "df['Review Text'] = preprocess(df['comments'])"
   ]
  },
  {
   "cell_type": "code",
   "execution_count": 4,
   "metadata": {},
   "outputs": [],
   "source": [
    "\n",
    "df['polarity'] = df['Review Text'].map(lambda text: TextBlob(text).sentiment.polarity)\n",
    "df['review_len'] = df['Review Text'].astype(str).apply(len)\n",
    "df['word_count'] = df['Review Text'].apply(lambda x: len(str(x).split()))"
   ]
  },
  {
   "cell_type": "code",
   "execution_count": 16,
   "metadata": {},
   "outputs": [
    {
     "name": "stdout",
     "output_type": "stream",
     "text": [
      "5 random reviews with the highest positive sentiment polarity: \n",
      "\n",
      "The  unequal  bag  regrettably  return  because  rectangle  neurologically  polish  beside  a  used  cucumber    perfect    misty  foam\n",
      "One  of    probably  the  best    to  make  his  thoughts  into  reality  in  the  history  of  our  planet    I'm  still  pondering  the  enormity  of  what  I  just  typed    Thank  the  universe  for  Elon  Musk\n",
      "They  say  there  is    excellent  software  EnotGlobal  for  PF  cheating    can  someone  here      have  experience  of  using\n",
      "12  20  the  best  part\n",
      "Reality  based  Abstract  ideas  generated  to    benefit  humanity    What  an  awesome  man\n"
     ]
    }
   ],
   "source": [
    "print('5 random reviews with the highest positive sentiment polarity: \\n')\n",
    "cl = df.loc[df.polarity == 1, ['Review Text']].sample(5).values\n",
    "for c in cl:\n",
    "    print(c[0].strip())"
   ]
  },
  {
   "cell_type": "code",
   "execution_count": 17,
   "metadata": {},
   "outputs": [
    {
     "name": "stdout",
     "output_type": "stream",
     "text": [
      "5 random reviews with the most neutral sentiment(zero) polarity: \n",
      "\n",
      "Please  Please    Try  to  have  him  on  again\n",
      "the  bodily  fluids  of  elon  musk    now  that's  a  movie  I'd  watch\n",
      "we  are  looking  at  the  Leonardo  da  vinci  of  our  times\n",
      "Aliens    Finally  these  'humans'  are  planning  to  use  the  planet    and  not  just  walking  around  the  surface  of  it\n",
      "How  about  save  the            So  is  space  crafts  think  of  silverserfer  I  see  futons\n"
     ]
    }
   ],
   "source": [
    "print('5 random reviews with the most neutral sentiment(zero) polarity: \\n')\n",
    "cl = df.loc[df.polarity == 0, ['Review Text']].sample(5).values\n",
    "for c in cl:\n",
    "    print(c[0].strip())"
   ]
  },
  {
   "cell_type": "code",
   "execution_count": 20,
   "metadata": {},
   "outputs": [
    {
     "data": {
      "text/plain": [
       "-1.0"
      ]
     },
     "execution_count": 20,
     "metadata": {},
     "output_type": "execute_result"
    },
    {
     "data": {
      "text/html": [
       "<div>\n",
       "<style scoped>\n",
       "    .dataframe tbody tr th:only-of-type {\n",
       "        vertical-align: middle;\n",
       "    }\n",
       "\n",
       "    .dataframe tbody tr th {\n",
       "        vertical-align: top;\n",
       "    }\n",
       "\n",
       "    .dataframe thead th {\n",
       "        text-align: right;\n",
       "    }\n",
       "</style>\n",
       "<table border=\"1\" class=\"dataframe\">\n",
       "  <thead>\n",
       "    <tr style=\"text-align: right;\">\n",
       "      <th></th>\n",
       "      <th>Video ID</th>\n",
       "      <th>Comment ID</th>\n",
       "      <th>comments</th>\n",
       "      <th>Review Text</th>\n",
       "      <th>polarity</th>\n",
       "      <th>review_len</th>\n",
       "      <th>word_count</th>\n",
       "    </tr>\n",
       "  </thead>\n",
       "  <tbody>\n",
       "    <tr>\n",
       "      <th>139</th>\n",
       "      <td>zIwLWfaAg-8</td>\n",
       "      <td>UgxGGYIUGWpI6BJ89EN4AaABAg</td>\n",
       "      <td>When  he  said    You'll  tell  me  if  it  ev...</td>\n",
       "      <td>When  he  said    You'll  tell  me  if  it  ev...</td>\n",
       "      <td>-1.0</td>\n",
       "      <td>86</td>\n",
       "      <td>13</td>\n",
       "    </tr>\n",
       "    <tr>\n",
       "      <th>176</th>\n",
       "      <td>zIwLWfaAg-8</td>\n",
       "      <td>Ugwj5erPc1E9NaTQOAN4AaABAg</td>\n",
       "      <td>Tesla    SpaceX    Hyperloop    Boring    Open...</td>\n",
       "      <td>Tesla    SpaceX    Hyperloop    Boring    Open...</td>\n",
       "      <td>-1.0</td>\n",
       "      <td>126</td>\n",
       "      <td>14</td>\n",
       "    </tr>\n",
       "    <tr>\n",
       "      <th>298</th>\n",
       "      <td>zIwLWfaAg-8</td>\n",
       "      <td>UgxKdxwAqCUphZ_xqs94AaABAg</td>\n",
       "      <td>The  worst  mistake  he  s  made  in  his  lif...</td>\n",
       "      <td>The  worst  mistake  he  s  made  in  his  lif...</td>\n",
       "      <td>-1.0</td>\n",
       "      <td>136</td>\n",
       "      <td>22</td>\n",
       "    </tr>\n",
       "    <tr>\n",
       "      <th>516</th>\n",
       "      <td>zIwLWfaAg-8</td>\n",
       "      <td>UgzsNt_hfcVx3xZTaQV4AaABAg</td>\n",
       "      <td>if  this  guy  becomes  evil  we'll  have  pro...</td>\n",
       "      <td>if  this  guy  becomes  evil  we'll  have  pro...</td>\n",
       "      <td>-1.0</td>\n",
       "      <td>50</td>\n",
       "      <td>8</td>\n",
       "    </tr>\n",
       "    <tr>\n",
       "      <th>563</th>\n",
       "      <td>zIwLWfaAg-8</td>\n",
       "      <td>UgzATYFEPsd3UzQc5j14AaABAg</td>\n",
       "      <td>The  jazzy  interactive  preauricularly  seal ...</td>\n",
       "      <td>The  jazzy  interactive  preauricularly  seal ...</td>\n",
       "      <td>-1.0</td>\n",
       "      <td>141</td>\n",
       "      <td>16</td>\n",
       "    </tr>\n",
       "    <tr>\n",
       "      <th>611</th>\n",
       "      <td>zIwLWfaAg-8</td>\n",
       "      <td>UgyfJRPyddRJ7BdlOlZ4AaABAg</td>\n",
       "      <td>Both  really  boring  to  listen  to</td>\n",
       "      <td>Both  really  boring  to  listen  to</td>\n",
       "      <td>-1.0</td>\n",
       "      <td>38</td>\n",
       "      <td>6</td>\n",
       "    </tr>\n",
       "    <tr>\n",
       "      <th>748</th>\n",
       "      <td>zIwLWfaAg-8</td>\n",
       "      <td>UgyyW45fOWg6tFeOWM14AaABAg</td>\n",
       "      <td>The  Boring  Company  2  3    Elon  Muks  Time</td>\n",
       "      <td>The  Boring  Company  2  3    Elon  Muks  Time</td>\n",
       "      <td>-1.0</td>\n",
       "      <td>46</td>\n",
       "      <td>8</td>\n",
       "    </tr>\n",
       "    <tr>\n",
       "      <th>779</th>\n",
       "      <td>zIwLWfaAg-8</td>\n",
       "      <td>Ugzkdf1QdDRnf1OC5kF4AaABAg</td>\n",
       "      <td>The  auspicious  litter  preferentially  separ...</td>\n",
       "      <td>The  auspicious  litter  preferentially  separ...</td>\n",
       "      <td>-1.0</td>\n",
       "      <td>144</td>\n",
       "      <td>17</td>\n",
       "    </tr>\n",
       "    <tr>\n",
       "      <th>1014</th>\n",
       "      <td>zIwLWfaAg-8</td>\n",
       "      <td>Ugw8QdDuNnpk-7CCJFx4AaABAg</td>\n",
       "      <td>He  has  guts  calling  his  company    The  B...</td>\n",
       "      <td>He  has  guts  calling  his  company    The  B...</td>\n",
       "      <td>-1.0</td>\n",
       "      <td>62</td>\n",
       "      <td>9</td>\n",
       "    </tr>\n",
       "    <tr>\n",
       "      <th>1211</th>\n",
       "      <td>zIwLWfaAg-8</td>\n",
       "      <td>UgxhGDmzOY3dXJyJ41V4AaABAg</td>\n",
       "      <td>People    insulting  government    on         ...</td>\n",
       "      <td>People    insulting  government    on         ...</td>\n",
       "      <td>-1.0</td>\n",
       "      <td>154</td>\n",
       "      <td>19</td>\n",
       "    </tr>\n",
       "    <tr>\n",
       "      <th>1405</th>\n",
       "      <td>zIwLWfaAg-8</td>\n",
       "      <td>UgxwXj6_6c4luLwjm5F4AaABAg</td>\n",
       "      <td>I  just  got  the  boring  joke  after  5  min...</td>\n",
       "      <td>I  just  got  the  boring  joke  after  5  min...</td>\n",
       "      <td>-1.0</td>\n",
       "      <td>88</td>\n",
       "      <td>15</td>\n",
       "    </tr>\n",
       "    <tr>\n",
       "      <th>1440</th>\n",
       "      <td>zIwLWfaAg-8</td>\n",
       "      <td>UgzwEjxSVHOIfRiTRW14AaABAg</td>\n",
       "      <td>Why  are  we  digging  tunnels  on  Mars    ...</td>\n",
       "      <td>Why  are  we  digging  tunnels  on  Mars    ...</td>\n",
       "      <td>-1.0</td>\n",
       "      <td>70</td>\n",
       "      <td>10</td>\n",
       "    </tr>\n",
       "    <tr>\n",
       "      <th>1448</th>\n",
       "      <td>zIwLWfaAg-8</td>\n",
       "      <td>Ugx_3Zew8xobL2wKXI94AaABAg</td>\n",
       "      <td>This  guy  called  Elon  boring               ...</td>\n",
       "      <td>This  guy  called  Elon  boring               ...</td>\n",
       "      <td>-1.0</td>\n",
       "      <td>91</td>\n",
       "      <td>6</td>\n",
       "    </tr>\n",
       "  </tbody>\n",
       "</table>\n",
       "</div>"
      ],
      "text/plain": [
       "         Video ID                  Comment ID  \\\n",
       "139   zIwLWfaAg-8  UgxGGYIUGWpI6BJ89EN4AaABAg   \n",
       "176   zIwLWfaAg-8  Ugwj5erPc1E9NaTQOAN4AaABAg   \n",
       "298   zIwLWfaAg-8  UgxKdxwAqCUphZ_xqs94AaABAg   \n",
       "516   zIwLWfaAg-8  UgzsNt_hfcVx3xZTaQV4AaABAg   \n",
       "563   zIwLWfaAg-8  UgzATYFEPsd3UzQc5j14AaABAg   \n",
       "611   zIwLWfaAg-8  UgyfJRPyddRJ7BdlOlZ4AaABAg   \n",
       "748   zIwLWfaAg-8  UgyyW45fOWg6tFeOWM14AaABAg   \n",
       "779   zIwLWfaAg-8  Ugzkdf1QdDRnf1OC5kF4AaABAg   \n",
       "1014  zIwLWfaAg-8  Ugw8QdDuNnpk-7CCJFx4AaABAg   \n",
       "1211  zIwLWfaAg-8  UgxhGDmzOY3dXJyJ41V4AaABAg   \n",
       "1405  zIwLWfaAg-8  UgxwXj6_6c4luLwjm5F4AaABAg   \n",
       "1440  zIwLWfaAg-8  UgzwEjxSVHOIfRiTRW14AaABAg   \n",
       "1448  zIwLWfaAg-8  Ugx_3Zew8xobL2wKXI94AaABAg   \n",
       "\n",
       "                                               comments  \\\n",
       "139   When  he  said    You'll  tell  me  if  it  ev...   \n",
       "176   Tesla    SpaceX    Hyperloop    Boring    Open...   \n",
       "298   The  worst  mistake  he  s  made  in  his  lif...   \n",
       "516   if  this  guy  becomes  evil  we'll  have  pro...   \n",
       "563   The  jazzy  interactive  preauricularly  seal ...   \n",
       "611              Both  really  boring  to  listen  to     \n",
       "748      The  Boring  Company  2  3    Elon  Muks  Time   \n",
       "779   The  auspicious  litter  preferentially  separ...   \n",
       "1014  He  has  guts  calling  his  company    The  B...   \n",
       "1211  People    insulting  government    on         ...   \n",
       "1405  I  just  got  the  boring  joke  after  5  min...   \n",
       "1440    Why  are  we  digging  tunnels  on  Mars    ...   \n",
       "1448  This  guy  called  Elon  boring               ...   \n",
       "\n",
       "                                            Review Text  polarity  review_len  \\\n",
       "139   When  he  said    You'll  tell  me  if  it  ev...      -1.0          86   \n",
       "176   Tesla    SpaceX    Hyperloop    Boring    Open...      -1.0         126   \n",
       "298   The  worst  mistake  he  s  made  in  his  lif...      -1.0         136   \n",
       "516   if  this  guy  becomes  evil  we'll  have  pro...      -1.0          50   \n",
       "563   The  jazzy  interactive  preauricularly  seal ...      -1.0         141   \n",
       "611              Both  really  boring  to  listen  to        -1.0          38   \n",
       "748      The  Boring  Company  2  3    Elon  Muks  Time      -1.0          46   \n",
       "779   The  auspicious  litter  preferentially  separ...      -1.0         144   \n",
       "1014  He  has  guts  calling  his  company    The  B...      -1.0          62   \n",
       "1211  People    insulting  government    on         ...      -1.0         154   \n",
       "1405  I  just  got  the  boring  joke  after  5  min...      -1.0          88   \n",
       "1440    Why  are  we  digging  tunnels  on  Mars    ...      -1.0          70   \n",
       "1448  This  guy  called  Elon  boring               ...      -1.0          91   \n",
       "\n",
       "      word_count  \n",
       "139           13  \n",
       "176           14  \n",
       "298           22  \n",
       "516            8  \n",
       "563           16  \n",
       "611            6  \n",
       "748            8  \n",
       "779           17  \n",
       "1014           9  \n",
       "1211          19  \n",
       "1405          15  \n",
       "1440          10  \n",
       "1448           6  "
      ]
     },
     "execution_count": 20,
     "metadata": {},
     "output_type": "execute_result"
    }
   ],
   "source": [
    "df.polarity.min()\n",
    "df.loc[df.polarity == -1.0]"
   ]
  },
  {
   "cell_type": "code",
   "execution_count": 25,
   "metadata": {},
   "outputs": [
    {
     "name": "stdout",
     "output_type": "stream",
     "text": [
      "5 reviews with the most negative polarity: \n",
      "\n",
      "Why  are  we  digging  tunnels  on  Mars        This  is  BORING\n",
      "This  guy  called  Elon  boring                                          WHAAAATT\n",
      "People    insulting  government    on              their  problems    Elon  musk      I  will  start  a  company  and  solve  it    With  earning  money\n",
      "The  worst  mistake  he  s  made  in  his  life  is  accidentally  saying  Gary  the  snail  was  from  South  Park  and  not  Spongebob\n",
      "The  Boring  Company  2  3    Elon  Muks  Time\n"
     ]
    }
   ],
   "source": [
    "print('5 reviews with the most negative polarity: \\n')\n",
    "cl = df.loc[df.polarity == -1.0, ['Review Text']].sample(5).values\n",
    "for c in cl:\n",
    "    print(c[0].strip())"
   ]
  },
  {
   "cell_type": "markdown",
   "metadata": {},
   "source": [
    "Distribution Plot of Polarity Score"
   ]
  },
  {
   "cell_type": "code",
   "execution_count": 8,
   "metadata": {},
   "outputs": [
    {
     "data": {
      "application/vnd.plotly.v1+json": {
       "config": {
        "linkText": "Export to plot.ly",
        "plotlyServerURL": "https://plot.ly",
        "showLink": true
       },
       "data": [
        {
         "histfunc": "count",
         "histnorm": "",
         "marker": {
          "color": "rgba(255, 153, 51, 1.0)",
          "line": {
           "color": "#000000",
           "width": 1.3
          }
         },
         "name": "polarity",
         "nbinsx": 50,
         "opacity": 0.8,
         "orientation": "v",
         "type": "histogram",
         "x": [
          0.13636363636363635,
          0.11212121212121212,
          0.25,
          -0.09999999999999999,
          -0.125,
          -0.15555555555555559,
          0,
          0,
          -0.08,
          0,
          0,
          0.16666666666666666,
          0,
          0.17222222222222222,
          0.25000000000000006,
          0.6000000000000001,
          0.375,
          -0.004166666666666667,
          -0.1777777777777778,
          0,
          -0.25,
          -0.3,
          -0.15555555555555559,
          0,
          -0.11388888888888889,
          -0.5,
          0.3833333333333333,
          0.13636363636363635,
          0.1,
          -0.3,
          1,
          0.8,
          0,
          0,
          0.1375,
          -0.1,
          0,
          0,
          0,
          -0.25,
          0,
          0.36818181818181817,
          0.3,
          -0.22499999999999998,
          0.016666666666666677,
          0,
          -0.5,
          0,
          0.11666666666666665,
          0.03125,
          0.1,
          -0.3,
          0.25,
          -0.1,
          -0.4444444444444444,
          0.13333333333333333,
          0.2857142857142857,
          -0.04166666666666663,
          0.5,
          0.4,
          0,
          0.5,
          0.4,
          0,
          0,
          0.75,
          0,
          0,
          0.49999999999999994,
          0.6,
          0.5,
          -0.5000000000000001,
          0.8,
          0.65,
          0.42500000000000004,
          -0.5,
          0.15,
          0.05,
          0,
          0.275,
          0.25,
          0.2,
          -0.07142857142857142,
          0.95,
          0.10000000000000002,
          0.21428571428571427,
          0.5,
          -0.35,
          -0.075,
          0.65,
          0.25000000000000006,
          0,
          0.425,
          -0.16666666666666669,
          -0.05555555555555555,
          -0.2916666666666667,
          -0.0625,
          1,
          0.06666666666666665,
          0.4125,
          -0.25,
          -0.07500000000000001,
          0.4,
          0,
          0.4,
          0,
          0,
          0.6,
          0,
          0.3,
          0,
          -0.13571428571428573,
          0.18333333333333332,
          0.2333333333333333,
          0.7,
          0.32499999999999996,
          0,
          0.7,
          -0.04285714285714286,
          0.8,
          0.8,
          0.07916666666666668,
          0.6,
          0,
          0,
          0.35714285714285715,
          0.30000000000000004,
          -0.175,
          0,
          0.0625,
          0.5,
          -0.2,
          0.15,
          0,
          -0.5000000000000001,
          0,
          0,
          0.25393939393939396,
          0.8,
          -1,
          0.8,
          0.5,
          0,
          0,
          0,
          0.1,
          0.4333333333333334,
          0.5,
          -0.03181818181818183,
          -0.2333333333333333,
          0,
          0.25,
          0.5,
          0.8,
          -0.004166666666666667,
          0.03333333333333333,
          1,
          0.22500000000000003,
          0.7,
          0.19336734693877553,
          0.5625,
          0,
          0,
          0.2857142857142857,
          0.5,
          0.32222222222222224,
          0.09999999999999998,
          0,
          0.31666666666666665,
          0.8,
          -0.05714285714285713,
          0.1,
          0.3333333333333333,
          0,
          0.5,
          0.5160714285714285,
          -1,
          0,
          0,
          0.25803571428571426,
          0,
          0.07500000000000002,
          -0.4,
          0,
          0,
          0,
          0.6,
          -0.5,
          -0.2277777777777778,
          0,
          0.7,
          0.3572727272727273,
          0.8500000000000001,
          0.35,
          -0.11249999999999999,
          0,
          0,
          0,
          -0.1,
          0.10000000000000003,
          0,
          0.3416666666666667,
          0,
          0,
          0,
          0,
          0.15000000000000002,
          0,
          0.16666666666666666,
          0,
          0.4166666666666667,
          0.45,
          0.5,
          0.4,
          0.5,
          0.25,
          0,
          0.09090909090909091,
          0.5,
          -0.05,
          0.15,
          0.1,
          0.003333333333333327,
          0,
          0.35,
          0,
          -0.475,
          0.425,
          -0.13333333333333333,
          -0.4,
          -0.15555555555555559,
          0,
          0.6000000000000001,
          0.2722222222222222,
          -0.25,
          0.35,
          -0.25,
          0,
          -0.07142857142857142,
          0.3666666666666667,
          0.1384126984126984,
          0.05000000000000001,
          0.5,
          0.3,
          -0.16666666666666669,
          0.06944444444444443,
          0,
          0,
          0.4166666666666667,
          0.10000000000000002,
          0,
          -0.06666666666666665,
          0,
          0,
          0.15,
          -0.3,
          0,
          0.04761904761904761,
          0.2,
          0,
          0,
          0,
          0,
          0,
          0.15,
          -0.13263888888888892,
          -0.65,
          0,
          0.059999999999999984,
          0,
          0,
          0,
          -0.15555555555555559,
          0.4,
          0.7333333333333334,
          0.1,
          0,
          0,
          0,
          0,
          0,
          0.4,
          -0.1138888888888889,
          -0.2,
          0.1875,
          0,
          0.13636363636363635,
          0,
          0,
          0.26666666666666666,
          -0.16,
          0.2,
          -0.15,
          0,
          0.39,
          0,
          0.6,
          0,
          -1,
          0,
          0.4000000000000001,
          0.15833333333333333,
          -0.1,
          0,
          0,
          0,
          0,
          0.06818181818181818,
          -0.15714285714285714,
          0.1619047619047619,
          0.204040404040404,
          0,
          0.8,
          0,
          0.275,
          0,
          0,
          0,
          0,
          0.2,
          0.36111111111111116,
          0,
          0,
          0.033333333333333326,
          -0.25,
          0.04999999999999999,
          0.8,
          0.05,
          0.7,
          -0.15833333333333335,
          0.1,
          -0.25,
          0,
          -0.075,
          -0.6,
          0.43125,
          0.35,
          0.43000000000000005,
          0,
          -0.09999999999999999,
          0,
          0,
          0,
          0.6000000000000001,
          0,
          0,
          0,
          0.16666666666666666,
          -0.2041666666666667,
          0.3,
          0,
          -0.09999999999999999,
          0.30000000000000004,
          -0.25,
          0,
          0.19999999999999998,
          0,
          0.07023809523809528,
          0.5666666666666667,
          0,
          0,
          0,
          0,
          0,
          1,
          0,
          0.4,
          -0.05,
          0.45,
          0.13636363636363635,
          -0.25,
          0.3333333333333333,
          -0.3125,
          -0.6,
          0,
          -0.7999999999999999,
          0.06666666666666667,
          0.6,
          -0.2,
          0.375,
          -0.25,
          -0.4,
          0.19999999999999998,
          0,
          0.6,
          0,
          -0.20222222222222228,
          0.2,
          -0.03333333333333333,
          0,
          0.5,
          0.1429752066115702,
          0,
          0,
          0.5,
          0.1626984126984127,
          0,
          1,
          0.075,
          -0.1,
          0,
          0,
          0,
          0.05,
          -0.008333333333333333,
          0,
          0.5,
          0,
          0,
          -0.1,
          0,
          0,
          0.3,
          0,
          0.4,
          0.07499999999999998,
          -0.12777777777777777,
          -0.07777777777777779,
          -0.175,
          -0.75,
          0.15,
          0.18333333333333335,
          0.07777777777777777,
          0,
          0,
          0.175,
          0.875,
          0,
          -0.16666666666666666,
          0.024999999999999994,
          0,
          -0.1,
          0.13636363636363635,
          0,
          0.75,
          0.1,
          -0.041666666666666664,
          0.16111111111111112,
          0.1,
          0,
          0,
          0.5,
          0,
          0,
          0.30476190476190473,
          0,
          0,
          0.275,
          -0.15555555555555559,
          0.22000000000000003,
          0.8,
          -0.062499999999999986,
          0,
          -0.25,
          0,
          -0.5,
          0.2,
          0,
          0.16666666666666666,
          0.13636363636363635,
          -0.26666666666666666,
          0,
          -0.15555555555555559,
          0.15,
          0.12222222222222223,
          0.5,
          -0.21111111111111105,
          0.5,
          0.3625,
          0.25,
          0,
          -0.1666666666666666,
          0,
          0,
          0.5,
          0.030952380952380953,
          0.55,
          0.175,
          0,
          0.5,
          0,
          0.5,
          0.43333333333333335,
          0,
          0,
          0.43333333333333335,
          0,
          0.13333333333333333,
          0.45,
          -0.004166666666666667,
          0,
          -0.2277777777777778,
          -0.15555555555555559,
          0.25,
          -0.05,
          0,
          0.5,
          0,
          0.5,
          0.08333333333333331,
          0.08333333333333333,
          0.17857142857142858,
          0.028787878787878782,
          0,
          0.25,
          0,
          0.10714285714285714,
          0,
          0.3,
          -0.3,
          0,
          0,
          0,
          -0.09999999999999999,
          -0.2,
          0,
          -1,
          0,
          0,
          -0.13333333333333333,
          0.5,
          0.175,
          0,
          -0.75,
          0.14450757575757575,
          -0.15000000000000002,
          0,
          0.2333333333333333,
          0.03809523809523809,
          0.5,
          0.3,
          1,
          -0.20222222222222228,
          0.03333333333333333,
          0.2898989898989899,
          -0.3,
          -0.04999999999999999,
          0,
          0,
          0,
          0,
          0.525,
          0,
          0,
          0.24227272727272728,
          0.19999999999999998,
          0.05,
          0,
          0.5,
          -0.25,
          0,
          0,
          0,
          0.18888888888888888,
          0.43333333333333335,
          1,
          0.2857142857142857,
          0.35,
          -0.2318181818181818,
          -0.15454545454545454,
          0,
          0.1,
          -0.06666666666666667,
          -1,
          0.35000000000000003,
          0.4166666666666667,
          0,
          0.2,
          0,
          0.33154761904761904,
          0,
          0.225,
          0.2,
          0,
          0.2778409090909091,
          -0.5,
          -0.156,
          -0.4,
          -0.15,
          0.1429752066115702,
          0,
          0.27999999999999997,
          0,
          0,
          0.15000000000000002,
          -0.041666666666666664,
          0.07499999999999998,
          0,
          0.2,
          0,
          0.3047619047619048,
          0.15555555555555556,
          0.07142857142857142,
          0,
          0.1,
          0,
          0,
          0,
          0,
          0,
          0,
          0.25,
          0.38055555555555554,
          -0.075,
          0.2,
          0.525,
          0.3,
          -0.049999999999999996,
          -0.024444444444444446,
          0.22465986394557827,
          -0.1,
          -1,
          -0.15555555555555559,
          0,
          -0.4222222222222223,
          0.2916666666666667,
          -0.25,
          0,
          0,
          0.2916666666666667,
          -0.25,
          0,
          -0.25,
          0,
          -0.15555555555555559,
          -0.08095238095238096,
          0.25,
          0,
          0,
          0,
          0.6000000000000001,
          0,
          0.5,
          0,
          0.6,
          -0.1,
          0.14123376623376624,
          0,
          0,
          0,
          0,
          -0.125,
          0.5,
          0.2,
          0.06999999999999999,
          0,
          1,
          0.25,
          0,
          -0.5,
          0,
          0.11212121212121212,
          0,
          0.050000000000000044,
          0.75,
          -0.09999999999999998,
          0.14805194805194805,
          0,
          0,
          -0.6,
          0,
          0,
          -0.15,
          0.08333333333333333,
          0,
          -0.35714285714285715,
          0,
          0,
          0.23611111111111113,
          -0.25,
          0.2178571428571429,
          -0.09999999999999999,
          0.475,
          0.6125,
          -0.35833333333333334,
          0.19166666666666665,
          -0.5,
          0,
          0,
          -0.25,
          1,
          0,
          -0.2833333333333333,
          0,
          -0.5,
          0.26666666666666666,
          0,
          0.016666666666666677,
          0.14999999999999997,
          0,
          0.5,
          0,
          -0.33181818181818185,
          0,
          0,
          -0.2277777777777778,
          1,
          -0.5,
          -0.25,
          0.8,
          -0.125,
          0,
          -0.4,
          -0.5,
          -0.16666666666666663,
          0,
          0,
          0.375,
          -0.15,
          0.12,
          0,
          0,
          0.3287878787878788,
          0.85,
          0.8,
          -0.13518518518518519,
          0.8,
          0,
          -0.5,
          0.14249084249084248,
          0.3,
          0,
          0.325,
          0,
          0.11875,
          0.25,
          0.7,
          -0.12857142857142856,
          -0.21666666666666665,
          0,
          0,
          1,
          0,
          0.5,
          0.35,
          0,
          0.22500000000000003,
          0.08937074829931972,
          0.3,
          0.32222222222222224,
          0.1,
          0.32500000000000007,
          -0.05,
          0.8,
          0,
          0.5,
          -0.2,
          0,
          -1,
          0.2,
          0,
          0.7000000000000001,
          0,
          0.2,
          -0.25,
          0,
          0,
          0,
          0,
          0,
          -0.0125,
          -0.15555555555555559,
          0.20000000000000007,
          0,
          -0.375,
          0,
          -0.025,
          -0.02999999999999998,
          0.07500000000000001,
          0,
          0,
          0.25,
          0.15,
          0.33809523809523806,
          0.027678571428571414,
          -0.17333333333333334,
          0.5,
          0.5,
          0.375,
          -1,
          -0.1,
          0,
          -0.15555555555555559,
          0,
          0,
          0.3333333333333333,
          0.2,
          -0.20833333333333334,
          0,
          0.2,
          0.2,
          0.25,
          0,
          0.10833333333333334,
          0,
          0.1,
          -0.5,
          0,
          0,
          0,
          0,
          0.5,
          0.4708333333333334,
          0.1125,
          0.5,
          -0.44999999999999996,
          0.04999999999999999,
          0.25,
          -0.05,
          0,
          -0.15,
          0.2,
          0,
          -0.20260416666666667,
          0,
          0,
          0.5,
          0,
          0,
          0,
          -0.5,
          0,
          0.52,
          0.075,
          0.26611330698287217,
          0.08333333333333333,
          0.04999999999999999,
          0,
          0.2125,
          -0.2,
          0.375,
          -0.13333333333333333,
          -0.10000000000000002,
          -0.13333333333333333,
          0.275,
          0,
          0.5,
          -0.6999999999999998,
          0.05,
          0.175,
          0.2,
          -0.05,
          0.775,
          -0.4,
          0.125,
          0,
          -0.4357142857142857,
          0,
          -0.25,
          0,
          -0.5,
          0.2,
          0.025,
          0.08750000000000001,
          0.3125,
          -0.08333333333333333,
          0.36666666666666664,
          0.4,
          0,
          0,
          0.19999999999999998,
          0.4000000000000001,
          0,
          0.04583333333333332,
          0.4375,
          0,
          0.35,
          0,
          0,
          -0.20222222222222228,
          0,
          -0.1,
          0.65,
          -0.25,
          0.45,
          0,
          0.25,
          0.21000000000000002,
          -0.15833333333333335,
          0.23333333333333336,
          0.16666666666666666,
          0.2,
          0.04999999999999999,
          -0.45,
          -0.125,
          0.25,
          0.46666666666666673,
          0.5,
          0.3,
          0.26666666666666666,
          -0.15555555555555559,
          0,
          0.16666666666666669,
          -0.09999999999999998,
          -0.8,
          0.45,
          -0.3,
          0.8,
          -0.375,
          0.25,
          0.5,
          0.4,
          0,
          0.11666666666666665,
          0.6000000000000001,
          0.8,
          0.21875,
          0,
          0,
          0,
          0.14444444444444446,
          0.4,
          0,
          0,
          -0.25,
          0.16666666666666666,
          -0.09722222222222221,
          0.6000000000000001,
          0.11727272727272728,
          0.2,
          -0.19999999999999998,
          0.36666666666666664,
          -0.43333333333333335,
          -0.2970238095238095,
          0.2,
          0.16666666666666666,
          0,
          0,
          0.1111111111111111,
          -0.25,
          -0.12222222222222223,
          0.26666666666666666,
          0.5,
          0.24545454545454545,
          -0.16666666666666666,
          0.45,
          -0.16666666666666666,
          0,
          0,
          0,
          0.3,
          -0.55625,
          -0.5571428571428572,
          0,
          0.15833333333333333,
          0.4,
          0.1,
          0.3,
          0.2,
          0,
          0.5777777777777778,
          1,
          0.2,
          0,
          0.1,
          1,
          0.033333333333333326,
          0,
          -0.5,
          -0.2777777777777778,
          0.0056547619047618985,
          0.022222222222222237,
          -0.07291666666666669,
          0,
          -0.3,
          0.05,
          -0.19999999999999998,
          0.25,
          0.13636363636363635,
          -0.2475,
          0.2111111111111111,
          0.08750000000000001,
          -0.05,
          0.5,
          0.09999999999999998,
          0.1,
          0.22500000000000003,
          0.16666666666666666,
          -0.31666666666666665,
          0.24583333333333335,
          0.2,
          -0.056249999999999994,
          0.3375,
          0.39999999999999997,
          0.2791666666666667,
          0.10833333333333334,
          0.5,
          0.4,
          -0.25,
          -0.125,
          0.35,
          0.3333333333333333,
          0.7,
          0.6,
          0.25,
          0,
          0.022222222222222213,
          0.45000000000000007,
          0.35,
          0,
          0,
          -0.23402777777777778,
          -0.16666666666666666,
          -0.13333333333333333,
          -0.2,
          0.625,
          0.06428571428571428,
          0.21428571428571427,
          0.0055288461538461585,
          0.18333333333333335,
          -0.08333333333333333,
          0.2,
          0.4666666666666666,
          0.18409090909090908,
          -1,
          0.03333333333333333,
          0.12222222222222223,
          0.8,
          0.006075757575757575,
          0.10902777777777779,
          0,
          0.2,
          0,
          0,
          0.19642857142857142,
          -0.2,
          0.5,
          0,
          0.0875,
          0.43333333333333335,
          0.14583333333333334,
          0.16666666666666666,
          0,
          0.2333333333333333,
          0.2222222222222222,
          0.38749999999999996,
          0.5,
          0.6,
          -0.25,
          0,
          0.1,
          0,
          0.022222222222222254,
          -0.05,
          0,
          -0.26666666666666666,
          0.55,
          0.5,
          0,
          -0.0035714285714285726,
          -0.006249999999999978,
          -0.5,
          0,
          -0.5,
          0.01948051948051948,
          -0.3572916666666666,
          0.27291666666666664,
          0.15,
          -0.15555555555555559,
          0.04999999999999999,
          0.5,
          0.11818181818181818,
          0,
          0.022222222222222213,
          0.25,
          0,
          0.47500000000000003,
          0.30000000000000004,
          0.6000000000000001,
          0.2333333333333333,
          0,
          0.16666666666666666,
          0,
          0.625,
          0,
          0,
          0.5,
          0.30000000000000004,
          0,
          0,
          0.7,
          -0.5,
          0.35,
          0,
          0.525,
          0.13636363636363635,
          0,
          0.05333333333333334,
          0,
          0.13333333333333333,
          0.25,
          0.39999999999999997,
          0.14375000000000002,
          1,
          0,
          0.5,
          0,
          0,
          0,
          0.2026666666666667,
          0,
          0.4083333333333333,
          -0.20535714285714285,
          -0.29166666666666663,
          -0.024999999999999994,
          0,
          0,
          -0.65,
          0.1,
          -0.14375,
          0.03194444444444444,
          0.2,
          -0.012244897959183673,
          -0.25,
          0,
          -0.25,
          -0.04999999999999996,
          0.375,
          0.0625,
          -0.3,
          0,
          0,
          0,
          0,
          0,
          0.32857142857142857,
          0.15625,
          0,
          0.375,
          0.375,
          -0.6499999999999999,
          -0.25,
          -0.13333333333333333,
          0,
          0,
          0.2,
          0,
          0.03333333333333335,
          -0.19999999999999998,
          0.16666666666666666,
          -0.6,
          0.5,
          0.25,
          -0.20222222222222228,
          0,
          0.04545454545454545,
          0,
          0.7,
          -0.75,
          0,
          0.5,
          0.225,
          0.43333333333333335,
          -0.08749999999999998,
          0.325,
          -0.15555555555555559,
          0,
          -0.6,
          0.25,
          0.25,
          0.7,
          0,
          0.8,
          -0.12988710635769463,
          0.12944444444444442,
          0,
          -0.05,
          0,
          0.125,
          0.35,
          0.11874999999999998,
          -0.025,
          0.35,
          0.15,
          0,
          -0.2333333333333333,
          0,
          0,
          -0.125,
          0.125,
          0,
          0.4,
          -0.25,
          -0.07121212121212121,
          0.5,
          0.03333333333333335,
          0.85,
          0,
          0,
          0,
          0,
          0,
          0.6,
          0,
          0,
          0.1,
          -0.30000000000000004,
          0.3,
          0,
          0,
          0.1,
          -0.125,
          0,
          -0.016666666666666663,
          0,
          0.9,
          -0.15555555555555559,
          0.9,
          0.25833333333333336,
          0,
          0.4681818181818182,
          -1,
          0,
          0,
          0.4333333333333333,
          0.55,
          -0.3,
          0.7,
          0,
          0.19444444444444445,
          0.1,
          0,
          0,
          0,
          0.4681818181818182,
          -0.0035714285714285865,
          0.5166666666666667,
          0.08227272727272723,
          0.3181818181818182,
          0,
          0,
          -0.25,
          0.75,
          0.15000000000000002,
          0,
          0.5,
          0,
          0.5,
          0,
          0.20833333333333331,
          0,
          0,
          0,
          -0.5,
          -0.03214285714285715,
          0,
          1,
          0.25,
          0.2785714285714286,
          0.05,
          0.22000000000000003,
          0.057272727272727274,
          0,
          0.375,
          0,
          0.3952380952380952,
          0.5,
          0.5,
          -0.1,
          -0.16666666666666666,
          0.25,
          0.5,
          0,
          0,
          0.30389610389610394,
          0.1647878787878788,
          -0.2916666666666667,
          0,
          -0.5,
          0,
          -0.1375,
          0,
          0,
          0,
          0.10515151515151516,
          0,
          0.0578125,
          0,
          0.26666666666666666,
          0,
          0,
          -0.15555555555555559,
          0.16666666666666666,
          0,
          -0.06650641025641023,
          0.4714285714285714,
          0,
          0,
          0.14285714285714285,
          0.8,
          0.65,
          0,
          0.5,
          -0.09999999999999999,
          0.125,
          0,
          0,
          0.7,
          0,
          0.03125,
          -0.175,
          0.1875,
          0.15000000000000002,
          0,
          0.39441558441558444,
          0.18333333333333332,
          0,
          1,
          0.053620991411689065,
          0.4000000000000001,
          0.18409090909090914,
          0,
          0,
          0,
          0,
          -0.22499999999999998,
          0.06818181818181818,
          -0.4,
          0,
          0.5,
          0,
          -0.16666666666666666,
          0,
          0,
          0.037500000000000006,
          -0.15185185185185188,
          0.03333333333333333,
          -0.25,
          -0.04999999999999999,
          0,
          0.3666666666666667,
          0.30000000000000004,
          0.2333333333333334,
          0,
          0,
          0,
          0.5,
          0,
          0,
          0.13636363636363635,
          0.07500000000000001,
          0.08333333333333333,
          0.85,
          0.45,
          0.8,
          -0.2,
          0.13636363636363635,
          0.13333333333333333,
          0,
          0,
          0,
          0,
          0.35,
          0,
          0.35714285714285715,
          0.2,
          0.125,
          0,
          0.5,
          0,
          0,
          0.5,
          0,
          1,
          0.6,
          -0.15416666666666665,
          0.25,
          0,
          0,
          0.3333333333333333,
          0,
          0.5,
          0,
          0.16666666666666666,
          -0.25,
          0,
          0.3142857142857143,
          0,
          -0.14583333333333334,
          -0.3,
          0.05,
          -0.3791666666666667,
          -0.13,
          0.35000000000000003,
          0.2,
          0.75,
          -0.5,
          0.18333333333333335,
          0,
          0.5525,
          0,
          0,
          0.11458333333333331,
          0.16666666666666666,
          0.5,
          0,
          -0.15555555555555559,
          0,
          0.6,
          0,
          0.6136363636363636,
          0.425,
          0.1,
          0.27749999999999997,
          0.6000000000000001,
          -1,
          0.2,
          0,
          0,
          0.8,
          0,
          0,
          0,
          0,
          0.25,
          0,
          0.09166666666666666,
          0.4666666666666667,
          0,
          0.07592592592592592,
          -0.11666666666666667,
          -0.425,
          0,
          -0.35000000000000003,
          0.5,
          -0.027500000000000004,
          0.25,
          0.16250000000000003,
          0.35714285714285715,
          0.5,
          0,
          -0.2,
          0.5,
          0.2777777777777778,
          -0.09999999999999999,
          0,
          0,
          0.32499999999999996,
          0,
          -0.09821428571428571,
          -1,
          0.7,
          0.2,
          0.2,
          0,
          1,
          0,
          -0.05,
          -1,
          0.65,
          0.3333333333333333,
          0,
          0,
          -0.5,
          -0.3333333333333333,
          0.24375,
          0,
          0.5,
          0.23125000000000004,
          -0.15555555555555559,
          0.35,
          0.3333333333333333,
          -0.2,
          0.45,
          -0.35714285714285715,
          0,
          0,
          0.282,
          0,
          -0.05,
          0,
          0,
          0.07575757575757576,
          0,
          0,
          0.135,
          0.2,
          0.13125,
          0,
          0.13636363636363635,
          0.2714285714285714,
          0.19999999999999998,
          0.04338624338624337,
          1,
          0.2033333333333333,
          -0.06666666666666667,
          0.04545454545454545,
          -0.14583333333333334,
          0,
          0,
          0,
          0.5,
          0.2552083333333333,
          0,
          -0.03333333333333336,
          0.30000000000000004,
          0.9,
          0,
          0,
          0.33999999999999997,
          0.13636363636363635,
          -0.2916666666666667,
          0.2,
          0,
          -0.2,
          0,
          0.15000000000000002,
          0.15000000000000002,
          0.26,
          -0.0638888888888889,
          0.425,
          0.16666666666666669,
          0,
          0,
          0.2,
          0,
          -0.3028571428571428,
          0.3333333333333333,
          0,
          0.07499999999999998,
          0.13636363636363635,
          0.3,
          0,
          0.16,
          0.03333333333333336,
          0.3575757575757576,
          0.6000000000000001,
          0,
          0,
          0.9,
          0.3104166666666667,
          0,
          -0.15,
          0,
          0.25,
          -0.06666666666666667,
          0.13636363636363635,
          0.3,
          0,
          -0.08333333333333334,
          0,
          0,
          -0.0875,
          0,
          0.16666666666666669,
          -0.09621212121212123,
          0.35,
          0,
          0.3,
          0,
          0,
          0.5,
          -0.05,
          0.20625,
          0,
          0,
          0,
          0.19318181818181818,
          -0.5,
          0,
          0,
          0.16666666666666666,
          0.3666666666666667,
          0,
          -0.0013888888888888944,
          -0.05,
          0,
          0.26785714285714285,
          0.6,
          0.3666666666666667,
          0,
          -0.25,
          0,
          0,
          -0.25,
          0,
          0,
          1,
          -0.15555555555555559,
          -0.049999999999999996,
          -0.2,
          0,
          0.2857142857142857,
          0,
          0,
          -0.1,
          0.44583333333333336,
          0,
          0.2,
          0,
          0,
          0.1875,
          0,
          0.16666666666666669,
          0.15000000000000002,
          0.16,
          0.2,
          -0.245,
          0.35714285714285715,
          0.24545454545454545,
          0,
          0,
          0.2,
          0.04464285714285714,
          0.7,
          0,
          0,
          0,
          -0.5,
          0.2875,
          0,
          0,
          0.4,
          0,
          0.2,
          0.2833333333333333,
          0,
          0,
          -0.0625,
          0.18645454545454548,
          0,
          0,
          0,
          0,
          0.19583333333333333,
          0.25,
          0.25,
          0.55,
          -0.07777777777777779,
          0,
          0,
          0,
          -0.2,
          0.35,
          0.245,
          0,
          -0.020833333333333343,
          0,
          0,
          0.303125,
          0,
          0,
          0.39999999999999997,
          0,
          -0.35000000000000003,
          0,
          0,
          -0.25,
          -0.3503787878787879,
          -0.1851851851851852,
          0,
          0.6,
          0.05,
          -0.5,
          -0.25,
          0.375,
          0.2964285714285715,
          -0.25,
          0.30833333333333335,
          0.7,
          0.6,
          -0.15555555555555559,
          0.4,
          0,
          0.55
         ]
        }
       ],
       "layout": {
        "barmode": "overlay",
        "legend": {
         "bgcolor": "#F5F6F9",
         "font": {
          "color": "#4D5663"
         }
        },
        "paper_bgcolor": "#F5F6F9",
        "plot_bgcolor": "#F5F6F9",
        "template": {
         "data": {
          "bar": [
           {
            "error_x": {
             "color": "#2a3f5f"
            },
            "error_y": {
             "color": "#2a3f5f"
            },
            "marker": {
             "line": {
              "color": "#E5ECF6",
              "width": 0.5
             }
            },
            "type": "bar"
           }
          ],
          "barpolar": [
           {
            "marker": {
             "line": {
              "color": "#E5ECF6",
              "width": 0.5
             }
            },
            "type": "barpolar"
           }
          ],
          "carpet": [
           {
            "aaxis": {
             "endlinecolor": "#2a3f5f",
             "gridcolor": "white",
             "linecolor": "white",
             "minorgridcolor": "white",
             "startlinecolor": "#2a3f5f"
            },
            "baxis": {
             "endlinecolor": "#2a3f5f",
             "gridcolor": "white",
             "linecolor": "white",
             "minorgridcolor": "white",
             "startlinecolor": "#2a3f5f"
            },
            "type": "carpet"
           }
          ],
          "choropleth": [
           {
            "colorbar": {
             "outlinewidth": 0,
             "ticks": ""
            },
            "type": "choropleth"
           }
          ],
          "contour": [
           {
            "colorbar": {
             "outlinewidth": 0,
             "ticks": ""
            },
            "colorscale": [
             [
              0,
              "#0d0887"
             ],
             [
              0.1111111111111111,
              "#46039f"
             ],
             [
              0.2222222222222222,
              "#7201a8"
             ],
             [
              0.3333333333333333,
              "#9c179e"
             ],
             [
              0.4444444444444444,
              "#bd3786"
             ],
             [
              0.5555555555555556,
              "#d8576b"
             ],
             [
              0.6666666666666666,
              "#ed7953"
             ],
             [
              0.7777777777777778,
              "#fb9f3a"
             ],
             [
              0.8888888888888888,
              "#fdca26"
             ],
             [
              1,
              "#f0f921"
             ]
            ],
            "type": "contour"
           }
          ],
          "contourcarpet": [
           {
            "colorbar": {
             "outlinewidth": 0,
             "ticks": ""
            },
            "type": "contourcarpet"
           }
          ],
          "heatmap": [
           {
            "colorbar": {
             "outlinewidth": 0,
             "ticks": ""
            },
            "colorscale": [
             [
              0,
              "#0d0887"
             ],
             [
              0.1111111111111111,
              "#46039f"
             ],
             [
              0.2222222222222222,
              "#7201a8"
             ],
             [
              0.3333333333333333,
              "#9c179e"
             ],
             [
              0.4444444444444444,
              "#bd3786"
             ],
             [
              0.5555555555555556,
              "#d8576b"
             ],
             [
              0.6666666666666666,
              "#ed7953"
             ],
             [
              0.7777777777777778,
              "#fb9f3a"
             ],
             [
              0.8888888888888888,
              "#fdca26"
             ],
             [
              1,
              "#f0f921"
             ]
            ],
            "type": "heatmap"
           }
          ],
          "heatmapgl": [
           {
            "colorbar": {
             "outlinewidth": 0,
             "ticks": ""
            },
            "colorscale": [
             [
              0,
              "#0d0887"
             ],
             [
              0.1111111111111111,
              "#46039f"
             ],
             [
              0.2222222222222222,
              "#7201a8"
             ],
             [
              0.3333333333333333,
              "#9c179e"
             ],
             [
              0.4444444444444444,
              "#bd3786"
             ],
             [
              0.5555555555555556,
              "#d8576b"
             ],
             [
              0.6666666666666666,
              "#ed7953"
             ],
             [
              0.7777777777777778,
              "#fb9f3a"
             ],
             [
              0.8888888888888888,
              "#fdca26"
             ],
             [
              1,
              "#f0f921"
             ]
            ],
            "type": "heatmapgl"
           }
          ],
          "histogram": [
           {
            "marker": {
             "colorbar": {
              "outlinewidth": 0,
              "ticks": ""
             }
            },
            "type": "histogram"
           }
          ],
          "histogram2d": [
           {
            "colorbar": {
             "outlinewidth": 0,
             "ticks": ""
            },
            "colorscale": [
             [
              0,
              "#0d0887"
             ],
             [
              0.1111111111111111,
              "#46039f"
             ],
             [
              0.2222222222222222,
              "#7201a8"
             ],
             [
              0.3333333333333333,
              "#9c179e"
             ],
             [
              0.4444444444444444,
              "#bd3786"
             ],
             [
              0.5555555555555556,
              "#d8576b"
             ],
             [
              0.6666666666666666,
              "#ed7953"
             ],
             [
              0.7777777777777778,
              "#fb9f3a"
             ],
             [
              0.8888888888888888,
              "#fdca26"
             ],
             [
              1,
              "#f0f921"
             ]
            ],
            "type": "histogram2d"
           }
          ],
          "histogram2dcontour": [
           {
            "colorbar": {
             "outlinewidth": 0,
             "ticks": ""
            },
            "colorscale": [
             [
              0,
              "#0d0887"
             ],
             [
              0.1111111111111111,
              "#46039f"
             ],
             [
              0.2222222222222222,
              "#7201a8"
             ],
             [
              0.3333333333333333,
              "#9c179e"
             ],
             [
              0.4444444444444444,
              "#bd3786"
             ],
             [
              0.5555555555555556,
              "#d8576b"
             ],
             [
              0.6666666666666666,
              "#ed7953"
             ],
             [
              0.7777777777777778,
              "#fb9f3a"
             ],
             [
              0.8888888888888888,
              "#fdca26"
             ],
             [
              1,
              "#f0f921"
             ]
            ],
            "type": "histogram2dcontour"
           }
          ],
          "mesh3d": [
           {
            "colorbar": {
             "outlinewidth": 0,
             "ticks": ""
            },
            "type": "mesh3d"
           }
          ],
          "parcoords": [
           {
            "line": {
             "colorbar": {
              "outlinewidth": 0,
              "ticks": ""
             }
            },
            "type": "parcoords"
           }
          ],
          "pie": [
           {
            "automargin": true,
            "type": "pie"
           }
          ],
          "scatter": [
           {
            "marker": {
             "colorbar": {
              "outlinewidth": 0,
              "ticks": ""
             }
            },
            "type": "scatter"
           }
          ],
          "scatter3d": [
           {
            "line": {
             "colorbar": {
              "outlinewidth": 0,
              "ticks": ""
             }
            },
            "marker": {
             "colorbar": {
              "outlinewidth": 0,
              "ticks": ""
             }
            },
            "type": "scatter3d"
           }
          ],
          "scattercarpet": [
           {
            "marker": {
             "colorbar": {
              "outlinewidth": 0,
              "ticks": ""
             }
            },
            "type": "scattercarpet"
           }
          ],
          "scattergeo": [
           {
            "marker": {
             "colorbar": {
              "outlinewidth": 0,
              "ticks": ""
             }
            },
            "type": "scattergeo"
           }
          ],
          "scattergl": [
           {
            "marker": {
             "colorbar": {
              "outlinewidth": 0,
              "ticks": ""
             }
            },
            "type": "scattergl"
           }
          ],
          "scattermapbox": [
           {
            "marker": {
             "colorbar": {
              "outlinewidth": 0,
              "ticks": ""
             }
            },
            "type": "scattermapbox"
           }
          ],
          "scatterpolar": [
           {
            "marker": {
             "colorbar": {
              "outlinewidth": 0,
              "ticks": ""
             }
            },
            "type": "scatterpolar"
           }
          ],
          "scatterpolargl": [
           {
            "marker": {
             "colorbar": {
              "outlinewidth": 0,
              "ticks": ""
             }
            },
            "type": "scatterpolargl"
           }
          ],
          "scatterternary": [
           {
            "marker": {
             "colorbar": {
              "outlinewidth": 0,
              "ticks": ""
             }
            },
            "type": "scatterternary"
           }
          ],
          "surface": [
           {
            "colorbar": {
             "outlinewidth": 0,
             "ticks": ""
            },
            "colorscale": [
             [
              0,
              "#0d0887"
             ],
             [
              0.1111111111111111,
              "#46039f"
             ],
             [
              0.2222222222222222,
              "#7201a8"
             ],
             [
              0.3333333333333333,
              "#9c179e"
             ],
             [
              0.4444444444444444,
              "#bd3786"
             ],
             [
              0.5555555555555556,
              "#d8576b"
             ],
             [
              0.6666666666666666,
              "#ed7953"
             ],
             [
              0.7777777777777778,
              "#fb9f3a"
             ],
             [
              0.8888888888888888,
              "#fdca26"
             ],
             [
              1,
              "#f0f921"
             ]
            ],
            "type": "surface"
           }
          ],
          "table": [
           {
            "cells": {
             "fill": {
              "color": "#EBF0F8"
             },
             "line": {
              "color": "white"
             }
            },
            "header": {
             "fill": {
              "color": "#C8D4E3"
             },
             "line": {
              "color": "white"
             }
            },
            "type": "table"
           }
          ]
         },
         "layout": {
          "annotationdefaults": {
           "arrowcolor": "#2a3f5f",
           "arrowhead": 0,
           "arrowwidth": 1
          },
          "autotypenumbers": "strict",
          "coloraxis": {
           "colorbar": {
            "outlinewidth": 0,
            "ticks": ""
           }
          },
          "colorscale": {
           "diverging": [
            [
             0,
             "#8e0152"
            ],
            [
             0.1,
             "#c51b7d"
            ],
            [
             0.2,
             "#de77ae"
            ],
            [
             0.3,
             "#f1b6da"
            ],
            [
             0.4,
             "#fde0ef"
            ],
            [
             0.5,
             "#f7f7f7"
            ],
            [
             0.6,
             "#e6f5d0"
            ],
            [
             0.7,
             "#b8e186"
            ],
            [
             0.8,
             "#7fbc41"
            ],
            [
             0.9,
             "#4d9221"
            ],
            [
             1,
             "#276419"
            ]
           ],
           "sequential": [
            [
             0,
             "#0d0887"
            ],
            [
             0.1111111111111111,
             "#46039f"
            ],
            [
             0.2222222222222222,
             "#7201a8"
            ],
            [
             0.3333333333333333,
             "#9c179e"
            ],
            [
             0.4444444444444444,
             "#bd3786"
            ],
            [
             0.5555555555555556,
             "#d8576b"
            ],
            [
             0.6666666666666666,
             "#ed7953"
            ],
            [
             0.7777777777777778,
             "#fb9f3a"
            ],
            [
             0.8888888888888888,
             "#fdca26"
            ],
            [
             1,
             "#f0f921"
            ]
           ],
           "sequentialminus": [
            [
             0,
             "#0d0887"
            ],
            [
             0.1111111111111111,
             "#46039f"
            ],
            [
             0.2222222222222222,
             "#7201a8"
            ],
            [
             0.3333333333333333,
             "#9c179e"
            ],
            [
             0.4444444444444444,
             "#bd3786"
            ],
            [
             0.5555555555555556,
             "#d8576b"
            ],
            [
             0.6666666666666666,
             "#ed7953"
            ],
            [
             0.7777777777777778,
             "#fb9f3a"
            ],
            [
             0.8888888888888888,
             "#fdca26"
            ],
            [
             1,
             "#f0f921"
            ]
           ]
          },
          "colorway": [
           "#636efa",
           "#EF553B",
           "#00cc96",
           "#ab63fa",
           "#FFA15A",
           "#19d3f3",
           "#FF6692",
           "#B6E880",
           "#FF97FF",
           "#FECB52"
          ],
          "font": {
           "color": "#2a3f5f"
          },
          "geo": {
           "bgcolor": "white",
           "lakecolor": "white",
           "landcolor": "#E5ECF6",
           "showlakes": true,
           "showland": true,
           "subunitcolor": "white"
          },
          "hoverlabel": {
           "align": "left"
          },
          "hovermode": "closest",
          "mapbox": {
           "style": "light"
          },
          "paper_bgcolor": "white",
          "plot_bgcolor": "#E5ECF6",
          "polar": {
           "angularaxis": {
            "gridcolor": "white",
            "linecolor": "white",
            "ticks": ""
           },
           "bgcolor": "#E5ECF6",
           "radialaxis": {
            "gridcolor": "white",
            "linecolor": "white",
            "ticks": ""
           }
          },
          "scene": {
           "xaxis": {
            "backgroundcolor": "#E5ECF6",
            "gridcolor": "white",
            "gridwidth": 2,
            "linecolor": "white",
            "showbackground": true,
            "ticks": "",
            "zerolinecolor": "white"
           },
           "yaxis": {
            "backgroundcolor": "#E5ECF6",
            "gridcolor": "white",
            "gridwidth": 2,
            "linecolor": "white",
            "showbackground": true,
            "ticks": "",
            "zerolinecolor": "white"
           },
           "zaxis": {
            "backgroundcolor": "#E5ECF6",
            "gridcolor": "white",
            "gridwidth": 2,
            "linecolor": "white",
            "showbackground": true,
            "ticks": "",
            "zerolinecolor": "white"
           }
          },
          "shapedefaults": {
           "line": {
            "color": "#2a3f5f"
           }
          },
          "ternary": {
           "aaxis": {
            "gridcolor": "white",
            "linecolor": "white",
            "ticks": ""
           },
           "baxis": {
            "gridcolor": "white",
            "linecolor": "white",
            "ticks": ""
           },
           "bgcolor": "#E5ECF6",
           "caxis": {
            "gridcolor": "white",
            "linecolor": "white",
            "ticks": ""
           }
          },
          "title": {
           "x": 0.05
          },
          "xaxis": {
           "automargin": true,
           "gridcolor": "white",
           "linecolor": "white",
           "ticks": "",
           "title": {
            "standoff": 15
           },
           "zerolinecolor": "white",
           "zerolinewidth": 2
          },
          "yaxis": {
           "automargin": true,
           "gridcolor": "white",
           "linecolor": "white",
           "ticks": "",
           "title": {
            "standoff": 15
           },
           "zerolinecolor": "white",
           "zerolinewidth": 2
          }
         }
        },
        "title": {
         "font": {
          "color": "#4D5663"
         },
         "text": "Sentiment Polarity Distribution of Comments"
        },
        "xaxis": {
         "gridcolor": "#E1E5ED",
         "linecolor": "black",
         "showgrid": true,
         "tickfont": {
          "color": "#4D5663"
         },
         "title": {
          "font": {
           "color": "#4D5663"
          },
          "text": "Polarity"
         },
         "zerolinecolor": "#E1E5ED"
        },
        "yaxis": {
         "gridcolor": "#E1E5ED",
         "linecolor": "black",
         "showgrid": true,
         "tickfont": {
          "color": "#4D5663"
         },
         "title": {
          "font": {
           "color": "#4D5663"
          },
          "text": "Comment Count"
         },
         "zerolinecolor": "#E1E5ED"
        }
       }
      },
      "text/html": [
       "<div>                            <div id=\"49cef718-cc57-4146-98a9-097c5deb8acd\" class=\"plotly-graph-div\" style=\"height:525px; width:100%;\"></div>            <script type=\"text/javascript\">                require([\"plotly\"], function(Plotly) {                    window.PLOTLYENV=window.PLOTLYENV || {};\n",
       "                    window.PLOTLYENV.BASE_URL='https://plot.ly';                                    if (document.getElementById(\"49cef718-cc57-4146-98a9-097c5deb8acd\")) {                    Plotly.newPlot(                        \"49cef718-cc57-4146-98a9-097c5deb8acd\",                        [{\"histfunc\": \"count\", \"histnorm\": \"\", \"marker\": {\"color\": \"rgba(255, 153, 51, 1.0)\", \"line\": {\"color\": \"#000000\", \"width\": 1.3}}, \"name\": \"polarity\", \"nbinsx\": 50, \"opacity\": 0.8, \"orientation\": \"v\", \"type\": \"histogram\", \"x\": [0.13636363636363635, 0.11212121212121212, 0.25, -0.09999999999999999, -0.125, -0.15555555555555559, 0.0, 0.0, -0.08, 0.0, 0.0, 0.16666666666666666, 0.0, 0.17222222222222222, 0.25000000000000006, 0.6000000000000001, 0.375, -0.004166666666666667, -0.1777777777777778, 0.0, -0.25, -0.3, -0.15555555555555559, 0.0, -0.11388888888888889, -0.5, 0.3833333333333333, 0.13636363636363635, 0.1, -0.3, 1.0, 0.8, 0.0, 0.0, 0.1375, -0.1, 0.0, 0.0, 0.0, -0.25, 0.0, 0.36818181818181817, 0.3, -0.22499999999999998, 0.016666666666666677, 0.0, -0.5, 0.0, 0.11666666666666665, 0.03125, 0.1, -0.3, 0.25, -0.1, -0.4444444444444444, 0.13333333333333333, 0.2857142857142857, -0.04166666666666663, 0.5, 0.4, 0.0, 0.5, 0.4, 0.0, 0.0, 0.75, 0.0, 0.0, 0.49999999999999994, 0.6, 0.5, -0.5000000000000001, 0.8, 0.65, 0.42500000000000004, -0.5, 0.15, 0.05, 0.0, 0.275, 0.25, 0.2, -0.07142857142857142, 0.95, 0.10000000000000002, 0.21428571428571427, 0.5, -0.35, -0.075, 0.65, 0.25000000000000006, 0.0, 0.425, -0.16666666666666669, -0.05555555555555555, -0.2916666666666667, -0.0625, 1.0, 0.06666666666666665, 0.4125, -0.25, -0.07500000000000001, 0.4, 0.0, 0.4, 0.0, 0.0, 0.6, 0.0, 0.3, 0.0, -0.13571428571428573, 0.18333333333333332, 0.2333333333333333, 0.7, 0.32499999999999996, 0.0, 0.7, -0.04285714285714286, 0.8, 0.8, 0.07916666666666668, 0.6, 0.0, 0.0, 0.35714285714285715, 0.30000000000000004, -0.175, 0.0, 0.0625, 0.5, -0.2, 0.15, 0.0, -0.5000000000000001, 0.0, 0.0, 0.25393939393939396, 0.8, -1.0, 0.8, 0.5, 0.0, 0.0, 0.0, 0.1, 0.4333333333333334, 0.5, -0.03181818181818183, -0.2333333333333333, 0.0, 0.25, 0.5, 0.8, -0.004166666666666667, 0.03333333333333333, 1.0, 0.22500000000000003, 0.7, 0.19336734693877553, 0.5625, 0.0, 0.0, 0.2857142857142857, 0.5, 0.32222222222222224, 0.09999999999999998, 0.0, 0.31666666666666665, 0.8, -0.05714285714285713, 0.1, 0.3333333333333333, 0.0, 0.5, 0.5160714285714285, -1.0, 0.0, 0.0, 0.25803571428571426, 0.0, 0.07500000000000002, -0.4, 0.0, 0.0, 0.0, 0.6, -0.5, -0.2277777777777778, 0.0, 0.7, 0.3572727272727273, 0.8500000000000001, 0.35, -0.11249999999999999, 0.0, 0.0, 0.0, -0.1, 0.10000000000000003, 0.0, 0.3416666666666667, 0.0, 0.0, 0.0, 0.0, 0.15000000000000002, 0.0, 0.16666666666666666, 0.0, 0.4166666666666667, 0.45, 0.5, 0.4, 0.5, 0.25, 0.0, 0.09090909090909091, 0.5, -0.05, 0.15, 0.1, 0.003333333333333327, 0.0, 0.35, 0.0, -0.475, 0.425, -0.13333333333333333, -0.4, -0.15555555555555559, 0.0, 0.6000000000000001, 0.2722222222222222, -0.25, 0.35, -0.25, 0.0, -0.07142857142857142, 0.3666666666666667, 0.1384126984126984, 0.05000000000000001, 0.5, 0.3, -0.16666666666666669, 0.06944444444444443, 0.0, 0.0, 0.4166666666666667, 0.10000000000000002, 0.0, -0.06666666666666665, 0.0, 0.0, 0.15, -0.3, 0.0, 0.04761904761904761, 0.2, 0.0, 0.0, 0.0, 0.0, 0.0, 0.15, -0.13263888888888892, -0.65, 0.0, 0.059999999999999984, 0.0, 0.0, 0.0, -0.15555555555555559, 0.4, 0.7333333333333334, 0.1, 0.0, 0.0, 0.0, 0.0, 0.0, 0.4, -0.1138888888888889, -0.2, 0.1875, 0.0, 0.13636363636363635, 0.0, 0.0, 0.26666666666666666, -0.16, 0.2, -0.15, 0.0, 0.39, 0.0, 0.6, 0.0, -1.0, 0.0, 0.4000000000000001, 0.15833333333333333, -0.1, 0.0, 0.0, 0.0, 0.0, 0.06818181818181818, -0.15714285714285714, 0.1619047619047619, 0.204040404040404, 0.0, 0.8, 0.0, 0.275, 0.0, 0.0, 0.0, 0.0, 0.2, 0.36111111111111116, 0.0, 0.0, 0.033333333333333326, -0.25, 0.04999999999999999, 0.8, 0.05, 0.7, -0.15833333333333335, 0.1, -0.25, 0.0, -0.075, -0.6, 0.43125, 0.35, 0.43000000000000005, 0.0, -0.09999999999999999, 0.0, 0.0, 0.0, 0.6000000000000001, 0.0, 0.0, 0.0, 0.16666666666666666, -0.2041666666666667, 0.3, 0.0, -0.09999999999999999, 0.30000000000000004, -0.25, 0.0, 0.19999999999999998, 0.0, 0.07023809523809528, 0.5666666666666667, 0.0, 0.0, 0.0, 0.0, 0.0, 1.0, 0.0, 0.4, -0.05, 0.45, 0.13636363636363635, -0.25, 0.3333333333333333, -0.3125, -0.6, 0.0, -0.7999999999999999, 0.06666666666666667, 0.6, -0.2, 0.375, -0.25, -0.4, 0.19999999999999998, 0.0, 0.6, 0.0, -0.20222222222222228, 0.2, -0.03333333333333333, 0.0, 0.5, 0.1429752066115702, 0.0, 0.0, 0.5, 0.1626984126984127, 0.0, 1.0, 0.075, -0.1, 0.0, 0.0, 0.0, 0.05, -0.008333333333333333, 0.0, 0.5, 0.0, 0.0, -0.1, 0.0, 0.0, 0.3, 0.0, 0.4, 0.07499999999999998, -0.12777777777777777, -0.07777777777777779, -0.175, -0.75, 0.15, 0.18333333333333335, 0.07777777777777777, 0.0, 0.0, 0.175, 0.875, 0.0, -0.16666666666666666, 0.024999999999999994, 0.0, -0.1, 0.13636363636363635, 0.0, 0.75, 0.1, -0.041666666666666664, 0.16111111111111112, 0.1, 0.0, 0.0, 0.5, 0.0, 0.0, 0.30476190476190473, 0.0, 0.0, 0.275, -0.15555555555555559, 0.22000000000000003, 0.8, -0.062499999999999986, 0.0, -0.25, 0.0, -0.5, 0.2, 0.0, 0.16666666666666666, 0.13636363636363635, -0.26666666666666666, 0.0, -0.15555555555555559, 0.15, 0.12222222222222223, 0.5, -0.21111111111111105, 0.5, 0.3625, 0.25, 0.0, -0.1666666666666666, 0.0, 0.0, 0.5, 0.030952380952380953, 0.55, 0.175, 0.0, 0.5, 0.0, 0.5, 0.43333333333333335, 0.0, 0.0, 0.43333333333333335, 0.0, 0.13333333333333333, 0.45, -0.004166666666666667, 0.0, -0.2277777777777778, -0.15555555555555559, 0.25, -0.05, 0.0, 0.5, 0.0, 0.5, 0.08333333333333331, 0.08333333333333333, 0.17857142857142858, 0.028787878787878782, 0.0, 0.25, 0.0, 0.10714285714285714, 0.0, 0.3, -0.3, 0.0, 0.0, 0.0, -0.09999999999999999, -0.2, 0.0, -1.0, 0.0, 0.0, -0.13333333333333333, 0.5, 0.175, 0.0, -0.75, 0.14450757575757575, -0.15000000000000002, 0.0, 0.2333333333333333, 0.03809523809523809, 0.5, 0.3, 1.0, -0.20222222222222228, 0.03333333333333333, 0.2898989898989899, -0.3, -0.04999999999999999, 0.0, 0.0, 0.0, 0.0, 0.525, 0.0, 0.0, 0.24227272727272728, 0.19999999999999998, 0.05, 0.0, 0.5, -0.25, 0.0, 0.0, 0.0, 0.18888888888888888, 0.43333333333333335, 1.0, 0.2857142857142857, 0.35, -0.2318181818181818, -0.15454545454545454, 0.0, 0.1, -0.06666666666666667, -1.0, 0.35000000000000003, 0.4166666666666667, 0.0, 0.2, 0.0, 0.33154761904761904, 0.0, 0.225, 0.2, 0.0, 0.2778409090909091, -0.5, -0.156, -0.4, -0.15, 0.1429752066115702, 0.0, 0.27999999999999997, 0.0, 0.0, 0.15000000000000002, -0.041666666666666664, 0.07499999999999998, 0.0, 0.2, 0.0, 0.3047619047619048, 0.15555555555555556, 0.07142857142857142, 0.0, 0.1, 0.0, 0.0, 0.0, 0.0, 0.0, 0.0, 0.25, 0.38055555555555554, -0.075, 0.2, 0.525, 0.3, -0.049999999999999996, -0.024444444444444446, 0.22465986394557827, -0.1, -1.0, -0.15555555555555559, 0.0, -0.4222222222222223, 0.2916666666666667, -0.25, 0.0, 0.0, 0.2916666666666667, -0.25, 0.0, -0.25, 0.0, -0.15555555555555559, -0.08095238095238096, 0.25, 0.0, 0.0, 0.0, 0.6000000000000001, 0.0, 0.5, 0.0, 0.6, -0.1, 0.14123376623376624, 0.0, 0.0, 0.0, 0.0, -0.125, 0.5, 0.2, 0.06999999999999999, 0.0, 1.0, 0.25, 0.0, -0.5, 0.0, 0.11212121212121212, 0.0, 0.050000000000000044, 0.75, -0.09999999999999998, 0.14805194805194805, 0.0, 0.0, -0.6, 0.0, 0.0, -0.15, 0.08333333333333333, 0.0, -0.35714285714285715, 0.0, 0.0, 0.23611111111111113, -0.25, 0.2178571428571429, -0.09999999999999999, 0.475, 0.6125, -0.35833333333333334, 0.19166666666666665, -0.5, 0.0, 0.0, -0.25, 1.0, 0.0, -0.2833333333333333, 0.0, -0.5, 0.26666666666666666, 0.0, 0.016666666666666677, 0.14999999999999997, 0.0, 0.5, 0.0, -0.33181818181818185, 0.0, 0.0, -0.2277777777777778, 1.0, -0.5, -0.25, 0.8, -0.125, 0.0, -0.4, -0.5, -0.16666666666666663, 0.0, 0.0, 0.375, -0.15, 0.12, 0.0, 0.0, 0.3287878787878788, 0.85, 0.8, -0.13518518518518519, 0.8, 0.0, -0.5, 0.14249084249084248, 0.3, 0.0, 0.325, 0.0, 0.11875, 0.25, 0.7, -0.12857142857142856, -0.21666666666666665, 0.0, 0.0, 1.0, 0.0, 0.5, 0.35, 0.0, 0.22500000000000003, 0.08937074829931972, 0.3, 0.32222222222222224, 0.1, 0.32500000000000007, -0.05, 0.8, 0.0, 0.5, -0.2, 0.0, -1.0, 0.2, 0.0, 0.7000000000000001, 0.0, 0.2, -0.25, 0.0, 0.0, 0.0, 0.0, 0.0, -0.0125, -0.15555555555555559, 0.20000000000000007, 0.0, -0.375, 0.0, -0.025, -0.02999999999999998, 0.07500000000000001, 0.0, 0.0, 0.25, 0.15, 0.33809523809523806, 0.027678571428571414, -0.17333333333333334, 0.5, 0.5, 0.375, -1.0, -0.1, 0.0, -0.15555555555555559, 0.0, 0.0, 0.3333333333333333, 0.2, -0.20833333333333334, 0.0, 0.2, 0.2, 0.25, 0.0, 0.10833333333333334, 0.0, 0.1, -0.5, 0.0, 0.0, 0.0, 0.0, 0.5, 0.4708333333333334, 0.1125, 0.5, -0.44999999999999996, 0.04999999999999999, 0.25, -0.05, 0.0, -0.15, 0.2, 0.0, -0.20260416666666667, 0.0, 0.0, 0.5, 0.0, 0.0, 0.0, -0.5, 0.0, 0.52, 0.075, 0.26611330698287217, 0.08333333333333333, 0.04999999999999999, 0.0, 0.2125, -0.2, 0.375, -0.13333333333333333, -0.10000000000000002, -0.13333333333333333, 0.275, 0.0, 0.5, -0.6999999999999998, 0.05, 0.175, 0.2, -0.05, 0.775, -0.4, 0.125, 0.0, -0.4357142857142857, 0.0, -0.25, 0.0, -0.5, 0.2, 0.025, 0.08750000000000001, 0.3125, -0.08333333333333333, 0.36666666666666664, 0.4, 0.0, 0.0, 0.19999999999999998, 0.4000000000000001, 0.0, 0.04583333333333332, 0.4375, 0.0, 0.35, 0.0, 0.0, -0.20222222222222228, 0.0, -0.1, 0.65, -0.25, 0.45, 0.0, 0.25, 0.21000000000000002, -0.15833333333333335, 0.23333333333333336, 0.16666666666666666, 0.2, 0.04999999999999999, -0.45, -0.125, 0.25, 0.46666666666666673, 0.5, 0.3, 0.26666666666666666, -0.15555555555555559, 0.0, 0.16666666666666669, -0.09999999999999998, -0.8, 0.45, -0.3, 0.8, -0.375, 0.25, 0.5, 0.4, 0.0, 0.11666666666666665, 0.6000000000000001, 0.8, 0.21875, 0.0, 0.0, 0.0, 0.14444444444444446, 0.4, 0.0, 0.0, -0.25, 0.16666666666666666, -0.09722222222222221, 0.6000000000000001, 0.11727272727272728, 0.2, -0.19999999999999998, 0.36666666666666664, -0.43333333333333335, -0.2970238095238095, 0.2, 0.16666666666666666, 0.0, 0.0, 0.1111111111111111, -0.25, -0.12222222222222223, 0.26666666666666666, 0.5, 0.24545454545454545, -0.16666666666666666, 0.45, -0.16666666666666666, 0.0, 0.0, 0.0, 0.3, -0.55625, -0.5571428571428572, 0.0, 0.15833333333333333, 0.4, 0.1, 0.3, 0.2, 0.0, 0.5777777777777778, 1.0, 0.2, 0.0, 0.1, 1.0, 0.033333333333333326, 0.0, -0.5, -0.2777777777777778, 0.0056547619047618985, 0.022222222222222237, -0.07291666666666669, 0.0, -0.3, 0.05, -0.19999999999999998, 0.25, 0.13636363636363635, -0.2475, 0.2111111111111111, 0.08750000000000001, -0.05, 0.5, 0.09999999999999998, 0.1, 0.22500000000000003, 0.16666666666666666, -0.31666666666666665, 0.24583333333333335, 0.2, -0.056249999999999994, 0.3375, 0.39999999999999997, 0.2791666666666667, 0.10833333333333334, 0.5, 0.4, -0.25, -0.125, 0.35, 0.3333333333333333, 0.7, 0.6, 0.25, 0.0, 0.022222222222222213, 0.45000000000000007, 0.35, 0.0, 0.0, -0.23402777777777778, -0.16666666666666666, -0.13333333333333333, -0.2, 0.625, 0.06428571428571428, 0.21428571428571427, 0.0055288461538461585, 0.18333333333333335, -0.08333333333333333, 0.2, 0.4666666666666666, 0.18409090909090908, -1.0, 0.03333333333333333, 0.12222222222222223, 0.8, 0.006075757575757575, 0.10902777777777779, 0.0, 0.2, 0.0, 0.0, 0.19642857142857142, -0.2, 0.5, 0.0, 0.0875, 0.43333333333333335, 0.14583333333333334, 0.16666666666666666, 0.0, 0.2333333333333333, 0.2222222222222222, 0.38749999999999996, 0.5, 0.6, -0.25, 0.0, 0.1, 0.0, 0.022222222222222254, -0.05, 0.0, -0.26666666666666666, 0.55, 0.5, 0.0, -0.0035714285714285726, -0.006249999999999978, -0.5, 0.0, -0.5, 0.01948051948051948, -0.3572916666666666, 0.27291666666666664, 0.15, -0.15555555555555559, 0.04999999999999999, 0.5, 0.11818181818181818, 0.0, 0.022222222222222213, 0.25, 0.0, 0.47500000000000003, 0.30000000000000004, 0.6000000000000001, 0.2333333333333333, 0.0, 0.16666666666666666, 0.0, 0.625, 0.0, 0.0, 0.5, 0.30000000000000004, 0.0, 0.0, 0.7, -0.5, 0.35, 0.0, 0.525, 0.13636363636363635, 0.0, 0.05333333333333334, 0.0, 0.13333333333333333, 0.25, 0.39999999999999997, 0.14375000000000002, 1.0, 0.0, 0.5, 0.0, 0.0, 0.0, 0.2026666666666667, 0.0, 0.4083333333333333, -0.20535714285714285, -0.29166666666666663, -0.024999999999999994, 0.0, 0.0, -0.65, 0.1, -0.14375, 0.03194444444444444, 0.2, -0.012244897959183673, -0.25, 0.0, -0.25, -0.04999999999999996, 0.375, 0.0625, -0.3, 0.0, 0.0, 0.0, 0.0, 0.0, 0.32857142857142857, 0.15625, 0.0, 0.375, 0.375, -0.6499999999999999, -0.25, -0.13333333333333333, 0.0, 0.0, 0.2, 0.0, 0.03333333333333335, -0.19999999999999998, 0.16666666666666666, -0.6, 0.5, 0.25, -0.20222222222222228, 0.0, 0.04545454545454545, 0.0, 0.7, -0.75, 0.0, 0.5, 0.225, 0.43333333333333335, -0.08749999999999998, 0.325, -0.15555555555555559, 0.0, -0.6, 0.25, 0.25, 0.7, 0.0, 0.8, -0.12988710635769463, 0.12944444444444442, 0.0, -0.05, 0.0, 0.125, 0.35, 0.11874999999999998, -0.025, 0.35, 0.15, 0.0, -0.2333333333333333, 0.0, 0.0, -0.125, 0.125, 0.0, 0.4, -0.25, -0.07121212121212121, 0.5, 0.03333333333333335, 0.85, 0.0, 0.0, 0.0, 0.0, 0.0, 0.6, 0.0, 0.0, 0.1, -0.30000000000000004, 0.3, 0.0, 0.0, 0.1, -0.125, 0.0, -0.016666666666666663, 0.0, 0.9, -0.15555555555555559, 0.9, 0.25833333333333336, 0.0, 0.4681818181818182, -1.0, 0.0, 0.0, 0.4333333333333333, 0.55, -0.3, 0.7, 0.0, 0.19444444444444445, 0.1, 0.0, 0.0, 0.0, 0.4681818181818182, -0.0035714285714285865, 0.5166666666666667, 0.08227272727272723, 0.3181818181818182, 0.0, 0.0, -0.25, 0.75, 0.15000000000000002, 0.0, 0.5, 0.0, 0.5, 0.0, 0.20833333333333331, 0.0, 0.0, 0.0, -0.5, -0.03214285714285715, 0.0, 1.0, 0.25, 0.2785714285714286, 0.05, 0.22000000000000003, 0.057272727272727274, 0.0, 0.375, 0.0, 0.3952380952380952, 0.5, 0.5, -0.1, -0.16666666666666666, 0.25, 0.5, 0.0, 0.0, 0.30389610389610394, 0.1647878787878788, -0.2916666666666667, 0.0, -0.5, 0.0, -0.1375, 0.0, 0.0, 0.0, 0.10515151515151516, 0.0, 0.0578125, 0.0, 0.26666666666666666, 0.0, 0.0, -0.15555555555555559, 0.16666666666666666, 0.0, -0.06650641025641023, 0.4714285714285714, 0.0, 0.0, 0.14285714285714285, 0.8, 0.65, 0.0, 0.5, -0.09999999999999999, 0.125, 0.0, 0.0, 0.7, 0.0, 0.03125, -0.175, 0.1875, 0.15000000000000002, 0.0, 0.39441558441558444, 0.18333333333333332, 0.0, 1.0, 0.053620991411689065, 0.4000000000000001, 0.18409090909090914, 0.0, 0.0, 0.0, 0.0, -0.22499999999999998, 0.06818181818181818, -0.4, 0.0, 0.5, 0.0, -0.16666666666666666, 0.0, 0.0, 0.037500000000000006, -0.15185185185185188, 0.03333333333333333, -0.25, -0.04999999999999999, 0.0, 0.3666666666666667, 0.30000000000000004, 0.2333333333333334, 0.0, 0.0, 0.0, 0.5, 0.0, 0.0, 0.13636363636363635, 0.07500000000000001, 0.08333333333333333, 0.85, 0.45, 0.8, -0.2, 0.13636363636363635, 0.13333333333333333, 0.0, 0.0, 0.0, 0.0, 0.35, 0.0, 0.35714285714285715, 0.2, 0.125, 0.0, 0.5, 0.0, 0.0, 0.5, 0.0, 1.0, 0.6, -0.15416666666666665, 0.25, 0.0, 0.0, 0.3333333333333333, 0.0, 0.5, 0.0, 0.16666666666666666, -0.25, 0.0, 0.3142857142857143, 0.0, -0.14583333333333334, -0.3, 0.05, -0.3791666666666667, -0.13, 0.35000000000000003, 0.2, 0.75, -0.5, 0.18333333333333335, 0.0, 0.5525, 0.0, 0.0, 0.11458333333333331, 0.16666666666666666, 0.5, 0.0, -0.15555555555555559, 0.0, 0.6, 0.0, 0.6136363636363636, 0.425, 0.1, 0.27749999999999997, 0.6000000000000001, -1.0, 0.2, 0.0, 0.0, 0.8, 0.0, 0.0, 0.0, 0.0, 0.25, 0.0, 0.09166666666666666, 0.4666666666666667, 0.0, 0.07592592592592592, -0.11666666666666667, -0.425, 0.0, -0.35000000000000003, 0.5, -0.027500000000000004, 0.25, 0.16250000000000003, 0.35714285714285715, 0.5, 0.0, -0.2, 0.5, 0.2777777777777778, -0.09999999999999999, 0.0, 0.0, 0.32499999999999996, 0.0, -0.09821428571428571, -1.0, 0.7, 0.2, 0.2, 0.0, 1.0, 0.0, -0.05, -1.0, 0.65, 0.3333333333333333, 0.0, 0.0, -0.5, -0.3333333333333333, 0.24375, 0.0, 0.5, 0.23125000000000004, -0.15555555555555559, 0.35, 0.3333333333333333, -0.2, 0.45, -0.35714285714285715, 0.0, 0.0, 0.282, 0.0, -0.05, 0.0, 0.0, 0.07575757575757576, 0.0, 0.0, 0.135, 0.2, 0.13125, 0.0, 0.13636363636363635, 0.2714285714285714, 0.19999999999999998, 0.04338624338624337, 1.0, 0.2033333333333333, -0.06666666666666667, 0.04545454545454545, -0.14583333333333334, 0.0, 0.0, 0.0, 0.5, 0.2552083333333333, 0.0, -0.03333333333333336, 0.30000000000000004, 0.9, 0.0, 0.0, 0.33999999999999997, 0.13636363636363635, -0.2916666666666667, 0.2, 0.0, -0.2, 0.0, 0.15000000000000002, 0.15000000000000002, 0.26, -0.0638888888888889, 0.425, 0.16666666666666669, 0.0, 0.0, 0.2, 0.0, -0.3028571428571428, 0.3333333333333333, 0.0, 0.07499999999999998, 0.13636363636363635, 0.3, 0.0, 0.16, 0.03333333333333336, 0.3575757575757576, 0.6000000000000001, 0.0, 0.0, 0.9, 0.3104166666666667, 0.0, -0.15, 0.0, 0.25, -0.06666666666666667, 0.13636363636363635, 0.3, 0.0, -0.08333333333333334, 0.0, 0.0, -0.0875, 0.0, 0.16666666666666669, -0.09621212121212123, 0.35, 0.0, 0.3, 0.0, 0.0, 0.5, -0.05, 0.20625, 0.0, 0.0, 0.0, 0.19318181818181818, -0.5, 0.0, 0.0, 0.16666666666666666, 0.3666666666666667, 0.0, -0.0013888888888888944, -0.05, 0.0, 0.26785714285714285, 0.6, 0.3666666666666667, 0.0, -0.25, 0.0, 0.0, -0.25, 0.0, 0.0, 1.0, -0.15555555555555559, -0.049999999999999996, -0.2, 0.0, 0.2857142857142857, 0.0, 0.0, -0.1, 0.44583333333333336, 0.0, 0.2, 0.0, 0.0, 0.1875, 0.0, 0.16666666666666669, 0.15000000000000002, 0.16, 0.2, -0.245, 0.35714285714285715, 0.24545454545454545, 0.0, 0.0, 0.2, 0.04464285714285714, 0.7, 0.0, 0.0, 0.0, -0.5, 0.2875, 0.0, 0.0, 0.4, 0.0, 0.2, 0.2833333333333333, 0.0, 0.0, -0.0625, 0.18645454545454548, 0.0, 0.0, 0.0, 0.0, 0.19583333333333333, 0.25, 0.25, 0.55, -0.07777777777777779, 0.0, 0.0, 0.0, -0.2, 0.35, 0.245, 0.0, -0.020833333333333343, 0.0, 0.0, 0.303125, 0.0, 0.0, 0.39999999999999997, 0.0, -0.35000000000000003, 0.0, 0.0, -0.25, -0.3503787878787879, -0.1851851851851852, 0.0, 0.6, 0.05, -0.5, -0.25, 0.375, 0.2964285714285715, -0.25, 0.30833333333333335, 0.7, 0.6, -0.15555555555555559, 0.4, 0.0, 0.55]}],                        {\"barmode\": \"overlay\", \"legend\": {\"bgcolor\": \"#F5F6F9\", \"font\": {\"color\": \"#4D5663\"}}, \"paper_bgcolor\": \"#F5F6F9\", \"plot_bgcolor\": \"#F5F6F9\", \"template\": {\"data\": {\"bar\": [{\"error_x\": {\"color\": \"#2a3f5f\"}, \"error_y\": {\"color\": \"#2a3f5f\"}, \"marker\": {\"line\": {\"color\": \"#E5ECF6\", \"width\": 0.5}}, \"type\": \"bar\"}], \"barpolar\": [{\"marker\": {\"line\": {\"color\": \"#E5ECF6\", \"width\": 0.5}}, \"type\": \"barpolar\"}], \"carpet\": [{\"aaxis\": {\"endlinecolor\": \"#2a3f5f\", \"gridcolor\": \"white\", \"linecolor\": \"white\", \"minorgridcolor\": \"white\", \"startlinecolor\": \"#2a3f5f\"}, \"baxis\": {\"endlinecolor\": \"#2a3f5f\", \"gridcolor\": \"white\", \"linecolor\": \"white\", \"minorgridcolor\": \"white\", \"startlinecolor\": \"#2a3f5f\"}, \"type\": \"carpet\"}], \"choropleth\": [{\"colorbar\": {\"outlinewidth\": 0, \"ticks\": \"\"}, \"type\": \"choropleth\"}], \"contour\": [{\"colorbar\": {\"outlinewidth\": 0, \"ticks\": \"\"}, \"colorscale\": [[0.0, \"#0d0887\"], [0.1111111111111111, \"#46039f\"], [0.2222222222222222, \"#7201a8\"], [0.3333333333333333, \"#9c179e\"], [0.4444444444444444, \"#bd3786\"], [0.5555555555555556, \"#d8576b\"], [0.6666666666666666, \"#ed7953\"], [0.7777777777777778, \"#fb9f3a\"], [0.8888888888888888, \"#fdca26\"], [1.0, \"#f0f921\"]], \"type\": \"contour\"}], \"contourcarpet\": [{\"colorbar\": {\"outlinewidth\": 0, \"ticks\": \"\"}, \"type\": \"contourcarpet\"}], \"heatmap\": [{\"colorbar\": {\"outlinewidth\": 0, \"ticks\": \"\"}, \"colorscale\": [[0.0, \"#0d0887\"], [0.1111111111111111, \"#46039f\"], [0.2222222222222222, \"#7201a8\"], [0.3333333333333333, \"#9c179e\"], [0.4444444444444444, \"#bd3786\"], [0.5555555555555556, \"#d8576b\"], [0.6666666666666666, \"#ed7953\"], [0.7777777777777778, \"#fb9f3a\"], [0.8888888888888888, \"#fdca26\"], [1.0, \"#f0f921\"]], \"type\": \"heatmap\"}], \"heatmapgl\": [{\"colorbar\": {\"outlinewidth\": 0, \"ticks\": \"\"}, \"colorscale\": [[0.0, \"#0d0887\"], [0.1111111111111111, \"#46039f\"], [0.2222222222222222, \"#7201a8\"], [0.3333333333333333, \"#9c179e\"], [0.4444444444444444, \"#bd3786\"], [0.5555555555555556, \"#d8576b\"], [0.6666666666666666, \"#ed7953\"], [0.7777777777777778, \"#fb9f3a\"], [0.8888888888888888, \"#fdca26\"], [1.0, \"#f0f921\"]], \"type\": \"heatmapgl\"}], \"histogram\": [{\"marker\": {\"colorbar\": {\"outlinewidth\": 0, \"ticks\": \"\"}}, \"type\": \"histogram\"}], \"histogram2d\": [{\"colorbar\": {\"outlinewidth\": 0, \"ticks\": \"\"}, \"colorscale\": [[0.0, \"#0d0887\"], [0.1111111111111111, \"#46039f\"], [0.2222222222222222, \"#7201a8\"], [0.3333333333333333, \"#9c179e\"], [0.4444444444444444, \"#bd3786\"], [0.5555555555555556, \"#d8576b\"], [0.6666666666666666, \"#ed7953\"], [0.7777777777777778, \"#fb9f3a\"], [0.8888888888888888, \"#fdca26\"], [1.0, \"#f0f921\"]], \"type\": \"histogram2d\"}], \"histogram2dcontour\": [{\"colorbar\": {\"outlinewidth\": 0, \"ticks\": \"\"}, \"colorscale\": [[0.0, \"#0d0887\"], [0.1111111111111111, \"#46039f\"], [0.2222222222222222, \"#7201a8\"], [0.3333333333333333, \"#9c179e\"], [0.4444444444444444, \"#bd3786\"], [0.5555555555555556, \"#d8576b\"], [0.6666666666666666, \"#ed7953\"], [0.7777777777777778, \"#fb9f3a\"], [0.8888888888888888, \"#fdca26\"], [1.0, \"#f0f921\"]], \"type\": \"histogram2dcontour\"}], \"mesh3d\": [{\"colorbar\": {\"outlinewidth\": 0, \"ticks\": \"\"}, \"type\": \"mesh3d\"}], \"parcoords\": [{\"line\": {\"colorbar\": {\"outlinewidth\": 0, \"ticks\": \"\"}}, \"type\": \"parcoords\"}], \"pie\": [{\"automargin\": true, \"type\": \"pie\"}], \"scatter\": [{\"marker\": {\"colorbar\": {\"outlinewidth\": 0, \"ticks\": \"\"}}, \"type\": \"scatter\"}], \"scatter3d\": [{\"line\": {\"colorbar\": {\"outlinewidth\": 0, \"ticks\": \"\"}}, \"marker\": {\"colorbar\": {\"outlinewidth\": 0, \"ticks\": \"\"}}, \"type\": \"scatter3d\"}], \"scattercarpet\": [{\"marker\": {\"colorbar\": {\"outlinewidth\": 0, \"ticks\": \"\"}}, \"type\": \"scattercarpet\"}], \"scattergeo\": [{\"marker\": {\"colorbar\": {\"outlinewidth\": 0, \"ticks\": \"\"}}, \"type\": \"scattergeo\"}], \"scattergl\": [{\"marker\": {\"colorbar\": {\"outlinewidth\": 0, \"ticks\": \"\"}}, \"type\": \"scattergl\"}], \"scattermapbox\": [{\"marker\": {\"colorbar\": {\"outlinewidth\": 0, \"ticks\": \"\"}}, \"type\": \"scattermapbox\"}], \"scatterpolar\": [{\"marker\": {\"colorbar\": {\"outlinewidth\": 0, \"ticks\": \"\"}}, \"type\": \"scatterpolar\"}], \"scatterpolargl\": [{\"marker\": {\"colorbar\": {\"outlinewidth\": 0, \"ticks\": \"\"}}, \"type\": \"scatterpolargl\"}], \"scatterternary\": [{\"marker\": {\"colorbar\": {\"outlinewidth\": 0, \"ticks\": \"\"}}, \"type\": \"scatterternary\"}], \"surface\": [{\"colorbar\": {\"outlinewidth\": 0, \"ticks\": \"\"}, \"colorscale\": [[0.0, \"#0d0887\"], [0.1111111111111111, \"#46039f\"], [0.2222222222222222, \"#7201a8\"], [0.3333333333333333, \"#9c179e\"], [0.4444444444444444, \"#bd3786\"], [0.5555555555555556, \"#d8576b\"], [0.6666666666666666, \"#ed7953\"], [0.7777777777777778, \"#fb9f3a\"], [0.8888888888888888, \"#fdca26\"], [1.0, \"#f0f921\"]], \"type\": \"surface\"}], \"table\": [{\"cells\": {\"fill\": {\"color\": \"#EBF0F8\"}, \"line\": {\"color\": \"white\"}}, \"header\": {\"fill\": {\"color\": \"#C8D4E3\"}, \"line\": {\"color\": \"white\"}}, \"type\": \"table\"}]}, \"layout\": {\"annotationdefaults\": {\"arrowcolor\": \"#2a3f5f\", \"arrowhead\": 0, \"arrowwidth\": 1}, \"autotypenumbers\": \"strict\", \"coloraxis\": {\"colorbar\": {\"outlinewidth\": 0, \"ticks\": \"\"}}, \"colorscale\": {\"diverging\": [[0, \"#8e0152\"], [0.1, \"#c51b7d\"], [0.2, \"#de77ae\"], [0.3, \"#f1b6da\"], [0.4, \"#fde0ef\"], [0.5, \"#f7f7f7\"], [0.6, \"#e6f5d0\"], [0.7, \"#b8e186\"], [0.8, \"#7fbc41\"], [0.9, \"#4d9221\"], [1, \"#276419\"]], \"sequential\": [[0.0, \"#0d0887\"], [0.1111111111111111, \"#46039f\"], [0.2222222222222222, \"#7201a8\"], [0.3333333333333333, \"#9c179e\"], [0.4444444444444444, \"#bd3786\"], [0.5555555555555556, \"#d8576b\"], [0.6666666666666666, \"#ed7953\"], [0.7777777777777778, \"#fb9f3a\"], [0.8888888888888888, \"#fdca26\"], [1.0, \"#f0f921\"]], \"sequentialminus\": [[0.0, \"#0d0887\"], [0.1111111111111111, \"#46039f\"], [0.2222222222222222, \"#7201a8\"], [0.3333333333333333, \"#9c179e\"], [0.4444444444444444, \"#bd3786\"], [0.5555555555555556, \"#d8576b\"], [0.6666666666666666, \"#ed7953\"], [0.7777777777777778, \"#fb9f3a\"], [0.8888888888888888, \"#fdca26\"], [1.0, \"#f0f921\"]]}, \"colorway\": [\"#636efa\", \"#EF553B\", \"#00cc96\", \"#ab63fa\", \"#FFA15A\", \"#19d3f3\", \"#FF6692\", \"#B6E880\", \"#FF97FF\", \"#FECB52\"], \"font\": {\"color\": \"#2a3f5f\"}, \"geo\": {\"bgcolor\": \"white\", \"lakecolor\": \"white\", \"landcolor\": \"#E5ECF6\", \"showlakes\": true, \"showland\": true, \"subunitcolor\": \"white\"}, \"hoverlabel\": {\"align\": \"left\"}, \"hovermode\": \"closest\", \"mapbox\": {\"style\": \"light\"}, \"paper_bgcolor\": \"white\", \"plot_bgcolor\": \"#E5ECF6\", \"polar\": {\"angularaxis\": {\"gridcolor\": \"white\", \"linecolor\": \"white\", \"ticks\": \"\"}, \"bgcolor\": \"#E5ECF6\", \"radialaxis\": {\"gridcolor\": \"white\", \"linecolor\": \"white\", \"ticks\": \"\"}}, \"scene\": {\"xaxis\": {\"backgroundcolor\": \"#E5ECF6\", \"gridcolor\": \"white\", \"gridwidth\": 2, \"linecolor\": \"white\", \"showbackground\": true, \"ticks\": \"\", \"zerolinecolor\": \"white\"}, \"yaxis\": {\"backgroundcolor\": \"#E5ECF6\", \"gridcolor\": \"white\", \"gridwidth\": 2, \"linecolor\": \"white\", \"showbackground\": true, \"ticks\": \"\", \"zerolinecolor\": \"white\"}, \"zaxis\": {\"backgroundcolor\": \"#E5ECF6\", \"gridcolor\": \"white\", \"gridwidth\": 2, \"linecolor\": \"white\", \"showbackground\": true, \"ticks\": \"\", \"zerolinecolor\": \"white\"}}, \"shapedefaults\": {\"line\": {\"color\": \"#2a3f5f\"}}, \"ternary\": {\"aaxis\": {\"gridcolor\": \"white\", \"linecolor\": \"white\", \"ticks\": \"\"}, \"baxis\": {\"gridcolor\": \"white\", \"linecolor\": \"white\", \"ticks\": \"\"}, \"bgcolor\": \"#E5ECF6\", \"caxis\": {\"gridcolor\": \"white\", \"linecolor\": \"white\", \"ticks\": \"\"}}, \"title\": {\"x\": 0.05}, \"xaxis\": {\"automargin\": true, \"gridcolor\": \"white\", \"linecolor\": \"white\", \"ticks\": \"\", \"title\": {\"standoff\": 15}, \"zerolinecolor\": \"white\", \"zerolinewidth\": 2}, \"yaxis\": {\"automargin\": true, \"gridcolor\": \"white\", \"linecolor\": \"white\", \"ticks\": \"\", \"title\": {\"standoff\": 15}, \"zerolinecolor\": \"white\", \"zerolinewidth\": 2}}}, \"title\": {\"font\": {\"color\": \"#4D5663\"}, \"text\": \"Sentiment Polarity Distribution of Comments\"}, \"xaxis\": {\"gridcolor\": \"#E1E5ED\", \"linecolor\": \"black\", \"showgrid\": true, \"tickfont\": {\"color\": \"#4D5663\"}, \"title\": {\"font\": {\"color\": \"#4D5663\"}, \"text\": \"Polarity\"}, \"zerolinecolor\": \"#E1E5ED\"}, \"yaxis\": {\"gridcolor\": \"#E1E5ED\", \"linecolor\": \"black\", \"showgrid\": true, \"tickfont\": {\"color\": \"#4D5663\"}, \"title\": {\"font\": {\"color\": \"#4D5663\"}, \"text\": \"Comment Count\"}, \"zerolinecolor\": \"#E1E5ED\"}},                        {\"showLink\": true, \"linkText\": \"Export to plot.ly\", \"plotlyServerURL\": \"https://plot.ly\", \"responsive\": true}                    ).then(function(){\n",
       "                            \n",
       "var gd = document.getElementById('49cef718-cc57-4146-98a9-097c5deb8acd');\n",
       "var x = new MutationObserver(function (mutations, observer) {{\n",
       "        var display = window.getComputedStyle(gd).display;\n",
       "        if (!display || display === 'none') {{\n",
       "            console.log([gd, 'removed!']);\n",
       "            Plotly.purge(gd);\n",
       "            observer.disconnect();\n",
       "        }}\n",
       "}});\n",
       "\n",
       "// Listen for the removal of the full notebook cells\n",
       "var notebookContainer = gd.closest('#notebook-container');\n",
       "if (notebookContainer) {{\n",
       "    x.observe(notebookContainer, {childList: true});\n",
       "}}\n",
       "\n",
       "// Listen for the clearing of the current output cell\n",
       "var outputEl = gd.closest('.output');\n",
       "if (outputEl) {{\n",
       "    x.observe(outputEl, {childList: true});\n",
       "}}\n",
       "\n",
       "                        })                };                });            </script>        </div>"
      ]
     },
     "metadata": {},
     "output_type": "display_data"
    }
   ],
   "source": [
    "df['polarity'].iplot(\n",
    "    kind='hist',\n",
    "    bins=50,\n",
    "    xTitle='Polarity',\n",
    "    linecolor='black',\n",
    "    yTitle='Comment Count',\n",
    "    title='Sentiment Polarity Distribution of Comments')"
   ]
  },
  {
   "cell_type": "code",
   "execution_count": 16,
   "metadata": {},
   "outputs": [
    {
     "data": {
      "application/vnd.plotly.v1+json": {
       "config": {
        "linkText": "Export to plot.ly",
        "plotlyServerURL": "https://plot.ly",
        "showLink": true
       },
       "data": [
        {
         "histfunc": "count",
         "histnorm": "",
         "marker": {
          "color": "rgba(255, 153, 51, 1.0)",
          "line": {
           "color": "#000000",
           "width": 1.3
          }
         },
         "name": "review_len",
         "nbinsx": 100,
         "opacity": 0.8,
         "orientation": "v",
         "type": "histogram",
         "x": [
          82,
          212,
          71,
          80,
          73,
          92,
          56,
          67,
          134,
          74,
          142,
          112,
          53,
          325,
          84,
          68,
          146,
          79,
          58,
          68,
          95,
          104,
          130,
          92,
          136,
          201,
          98,
          71,
          38,
          41,
          89,
          65,
          62,
          91,
          91,
          74,
          84,
          101,
          69,
          96,
          81,
          148,
          88,
          140,
          169,
          56,
          260,
          147,
          156,
          94,
          113,
          60,
          95,
          154,
          160,
          127,
          55,
          92,
          127,
          74,
          111,
          69,
          130,
          74,
          68,
          58,
          114,
          115,
          114,
          80,
          129,
          48,
          131,
          86,
          161,
          170,
          81,
          510,
          97,
          59,
          97,
          59,
          68,
          101,
          157,
          68,
          84,
          122,
          203,
          56,
          293,
          76,
          86,
          134,
          121,
          47,
          141,
          99,
          167,
          48,
          114,
          142,
          73,
          70,
          126,
          106,
          50,
          170,
          37,
          115,
          65,
          93,
          107,
          237,
          122,
          119,
          104,
          162,
          154,
          135,
          21,
          212,
          121,
          28,
          37,
          35,
          58,
          92,
          65,
          87,
          87,
          51,
          103,
          77,
          184,
          71,
          48,
          229,
          49,
          86,
          89,
          62,
          74,
          165,
          97,
          52,
          145,
          71,
          147,
          150,
          67,
          93,
          102,
          78,
          108,
          102,
          25,
          200,
          102,
          240,
          56,
          68,
          142,
          70,
          83,
          79,
          90,
          64,
          205,
          39,
          456,
          107,
          235,
          64,
          43,
          98,
          126,
          56,
          48,
          136,
          50,
          258,
          65,
          39,
          54,
          89,
          133,
          61,
          33,
          68,
          223,
          124,
          104,
          61,
          156,
          67,
          93,
          58,
          47,
          117,
          85,
          141,
          107,
          96,
          121,
          70,
          138,
          111,
          158,
          62,
          135,
          232,
          36,
          66,
          142,
          84,
          33,
          635,
          63,
          100,
          122,
          50,
          150,
          94,
          85,
          81,
          146,
          32,
          129,
          57,
          52,
          85,
          86,
          123,
          234,
          65,
          162,
          97,
          125,
          372,
          132,
          102,
          155,
          143,
          130,
          76,
          83,
          79,
          87,
          116,
          77,
          142,
          59,
          104,
          127,
          97,
          84,
          238,
          92,
          62,
          144,
          111,
          14,
          68,
          293,
          203,
          156,
          34,
          127,
          38,
          72,
          53,
          34,
          182,
          148,
          99,
          171,
          38,
          40,
          47,
          80,
          64,
          104,
          57,
          221,
          80,
          50,
          21,
          50,
          116,
          137,
          14,
          58,
          55,
          118,
          43,
          45,
          140,
          136,
          50,
          40,
          140,
          165,
          35,
          144,
          122,
          43,
          83,
          78,
          119,
          835,
          30,
          84,
          16,
          79,
          42,
          60,
          58,
          35,
          212,
          74,
          53,
          192,
          481,
          104,
          57,
          77,
          134,
          139,
          229,
          107,
          96,
          89,
          85,
          36,
          209,
          200,
          167,
          66,
          75,
          51,
          36,
          66,
          136,
          91,
          35,
          57,
          175,
          94,
          40,
          47,
          136,
          144,
          71,
          51,
          122,
          53,
          324,
          124,
          162,
          42,
          112,
          28,
          124,
          9,
          44,
          84,
          107,
          68,
          48,
          54,
          78,
          72,
          190,
          26,
          61,
          91,
          43,
          100,
          63,
          170,
          94,
          132,
          65,
          25,
          147,
          32,
          62,
          211,
          48,
          79,
          607,
          208,
          153,
          174,
          670,
          40,
          95,
          134,
          141,
          125,
          47,
          99,
          47,
          43,
          165,
          112,
          95,
          36,
          126,
          73,
          127,
          153,
          89,
          75,
          71,
          130,
          150,
          76,
          158,
          133,
          144,
          138,
          31,
          49,
          113,
          135,
          28,
          129,
          138,
          50,
          131,
          95,
          78,
          141,
          187,
          139,
          375,
          119,
          33,
          79,
          97,
          76,
          110,
          138,
          30,
          44,
          155,
          46,
          130,
          69,
          135,
          233,
          97,
          63,
          102,
          42,
          66,
          145,
          83,
          59,
          78,
          90,
          384,
          130,
          49,
          131,
          63,
          141,
          101,
          93,
          193,
          88,
          116,
          33,
          399,
          37,
          135,
          92,
          121,
          53,
          23,
          88,
          183,
          65,
          117,
          69,
          335,
          85,
          117,
          47,
          60,
          33,
          47,
          147,
          32,
          64,
          55,
          76,
          129,
          50,
          221,
          94,
          28,
          49,
          130,
          140,
          53,
          125,
          146,
          145,
          47,
          57,
          133,
          18,
          159,
          50,
          40,
          60,
          127,
          42,
          93,
          58,
          55,
          253,
          152,
          90,
          187,
          115,
          108,
          274,
          67,
          35,
          127,
          156,
          153,
          87,
          38,
          99,
          31,
          98,
          133,
          52,
          82,
          457,
          126,
          127,
          27,
          54,
          69,
          8,
          5,
          35,
          121,
          146,
          131,
          68,
          68,
          104,
          125,
          24,
          114,
          126,
          141,
          156,
          101,
          65,
          41,
          109,
          495,
          82,
          138,
          117,
          26,
          458,
          132,
          161,
          56,
          127,
          574,
          68,
          288,
          42,
          36,
          167,
          128,
          48,
          103,
          101,
          124,
          149,
          139,
          194,
          25,
          88,
          29,
          52,
          29,
          60,
          35,
          51,
          81,
          128,
          152,
          92,
          115,
          114,
          359,
          181,
          689,
          100,
          38,
          37,
          42,
          133,
          98,
          226,
          73,
          61,
          130,
          103,
          72,
          83,
          91,
          76,
          147,
          151,
          24,
          40,
          9,
          106,
          99,
          70,
          20,
          95,
          57,
          176,
          64,
          108,
          56,
          130,
          57,
          71,
          87,
          129,
          50,
          86,
          60,
          78,
          145,
          16,
          161,
          32,
          354,
          94,
          121,
          384,
          46,
          56,
          84,
          78,
          44,
          154,
          147,
          139,
          106,
          147,
          25,
          137,
          120,
          137,
          374,
          37,
          159,
          174,
          136,
          139,
          122,
          28,
          141,
          64,
          128,
          128,
          49,
          136,
          203,
          148,
          185,
          142,
          72,
          108,
          72,
          130,
          25,
          55,
          123,
          52,
          162,
          153,
          66,
          129,
          97,
          110,
          142,
          82,
          137,
          94,
          392,
          134,
          145,
          54,
          67,
          73,
          65,
          40,
          131,
          55,
          82,
          141,
          519,
          137,
          69,
          61,
          38,
          132,
          36,
          51,
          156,
          130,
          33,
          150,
          69,
          116,
          171,
          143,
          17,
          130,
          198,
          92,
          94,
          85,
          140,
          94,
          104,
          70,
          31,
          30,
          63,
          46,
          45,
          96,
          242,
          341,
          146,
          117,
          20,
          115,
          282,
          43,
          32,
          131,
          131,
          254,
          162,
          71,
          65,
          163,
          120,
          129,
          150,
          119,
          54,
          144,
          76,
          125,
          174,
          38,
          159,
          170,
          144,
          61,
          66,
          90,
          71,
          92,
          86,
          114,
          130,
          52,
          224,
          108,
          52,
          55,
          148,
          105,
          141,
          137,
          29,
          29,
          137,
          58,
          132,
          128,
          217,
          43,
          148,
          135,
          34,
          132,
          191,
          127,
          25,
          65,
          371,
          5,
          36,
          95,
          155,
          57,
          130,
          141,
          19,
          178,
          131,
          1424,
          134,
          139,
          40,
          179,
          145,
          41,
          163,
          129,
          242,
          100,
          134,
          50,
          159,
          149,
          153,
          82,
          150,
          132,
          58,
          56,
          47,
          129,
          116,
          101,
          43,
          133,
          137,
          138,
          135,
          136,
          130,
          134,
          11,
          74,
          148,
          261,
          32,
          40,
          99,
          118,
          32,
          210,
          66,
          33,
          61,
          36,
          52,
          56,
          180,
          130,
          42,
          136,
          158,
          167,
          173,
          189,
          38,
          60,
          121,
          72,
          69,
          74,
          148,
          107,
          98,
          46,
          57,
          129,
          127,
          110,
          236,
          94,
          63,
          64,
          40,
          60,
          73,
          86,
          104,
          116,
          121,
          117,
          24,
          84,
          26,
          150,
          145,
          86,
          137,
          143,
          147,
          148,
          82,
          321,
          38,
          143,
          130,
          141,
          126,
          16,
          134,
          29,
          48,
          145,
          136,
          122,
          134,
          56,
          155,
          239,
          88,
          146,
          29,
          17,
          177,
          121,
          72,
          114,
          83,
          135,
          65,
          119,
          135,
          21,
          90,
          138,
          117,
          44,
          117,
          127,
          135,
          138,
          47,
          149,
          130,
          139,
          141,
          137,
          143,
          134,
          133,
          121,
          146,
          54,
          131,
          136,
          143,
          150,
          63,
          160,
          169,
          476,
          316,
          61,
          191,
          151,
          127,
          206,
          48,
          145,
          289,
          226,
          66,
          93,
          135,
          85,
          157,
          97,
          142,
          63,
          35,
          146,
          48,
          234,
          117,
          58,
          117,
          152,
          147,
          92,
          100,
          351,
          163,
          370,
          134,
          151,
          157,
          103,
          175,
          62,
          157,
          314,
          82,
          1262,
          419,
          32,
          332,
          51,
          297,
          230,
          36,
          326,
          81,
          137,
          356,
          252,
          132,
          54,
          340,
          143,
          191,
          19,
          94,
          126,
          22,
          148,
          70,
          134,
          91,
          126,
          139,
          137,
          134,
          25,
          271,
          666,
          139,
          58,
          106,
          312,
          414,
          121,
          156,
          83,
          72,
          63,
          114,
          66,
          96,
          113,
          117,
          55,
          100,
          57,
          94,
          69,
          262,
          58,
          86,
          26,
          126,
          49,
          45,
          41,
          62,
          88,
          110,
          36,
          122,
          115,
          21,
          23,
          142,
          110,
          71,
          123,
          184,
          158,
          36,
          129,
          97,
          196,
          32,
          228,
          163,
          30,
          192,
          58,
          132,
          86,
          96,
          252,
          148,
          151,
          143,
          146,
          132,
          166,
          128,
          37,
          49,
          146,
          141,
          440,
          79,
          77,
          65,
          51,
          33,
          42,
          470,
          282,
          52,
          203,
          189,
          69,
          70,
          95,
          57,
          108,
          114,
          88,
          274,
          74,
          47,
          78,
          80,
          107,
          38,
          34,
          158,
          103,
          110,
          101,
          49,
          116,
          155,
          124,
          447,
          62,
          96,
          65,
          146,
          255,
          64,
          24,
          15,
          35,
          826,
          260,
          182,
          50,
          73,
          87,
          86,
          150,
          68,
          6,
          107,
          96,
          105,
          48,
          34,
          118,
          164,
          136,
          77,
          122,
          154,
          32,
          43,
          70,
          86,
          134,
          86,
          142,
          52,
          193,
          46,
          49,
          44,
          86,
          54,
          103,
          154,
          89,
          95,
          35,
          194,
          97,
          35,
          88,
          41,
          78,
          104,
          62,
          154,
          34,
          33,
          135,
          143,
          45,
          46,
          33,
          265,
          113,
          72,
          63,
          59,
          21,
          218,
          130,
          107,
          76,
          174,
          44,
          110,
          147,
          141,
          23,
          33,
          52,
          264,
          31,
          221,
          67,
          87,
          108,
          69,
          610,
          54,
          36,
          85,
          46,
          240,
          561,
          392,
          44,
          52,
          229,
          51,
          101,
          25,
          84,
          202,
          168,
          351,
          26,
          126,
          536,
          146,
          34,
          46,
          108,
          24,
          157,
          69,
          22,
          17,
          876,
          212,
          216,
          142,
          336,
          60,
          69,
          69,
          53,
          49,
          1322,
          467,
          87,
          48,
          267,
          71,
          80,
          117,
          59,
          167,
          323,
          120,
          66,
          79,
          100,
          62,
          78,
          135,
          77,
          50,
          397,
          164,
          52,
          156,
          4735,
          200,
          79,
          29,
          46,
          109,
          33,
          83,
          158,
          68,
          165,
          140,
          21,
          55,
          82,
          42,
          137,
          94,
          134,
          114,
          180,
          68,
          450,
          168,
          147,
          46,
          48,
          54,
          25,
          69,
          67,
          67,
          111,
          95,
          42,
          58,
          264,
          60,
          60,
          185,
          94,
          29,
          36,
          56,
          63,
          31,
          60,
          38,
          163,
          25,
          70,
          35,
          38,
          115,
          28,
          220,
          97,
          518,
          126,
          128,
          45,
          86,
          56,
          46,
          31,
          61,
          38,
          87,
          114,
          57,
          128,
          199,
          238,
          78,
          185,
          99,
          53,
          123,
          75,
          120,
          39,
          127,
          24,
          35,
          260,
          115,
          51,
          117,
          81,
          179,
          88,
          85,
          109,
          137,
          99,
          21,
          15,
          88,
          137,
          24,
          73,
          52,
          55,
          11,
          94,
          30,
          43,
          26,
          393,
          31,
          49,
          1506,
          169,
          100,
          52,
          243,
          17,
          254,
          83,
          534,
          117,
          169,
          52,
          26,
          10,
          331,
          315,
          67,
          177,
          67,
          39,
          136,
          70,
          92,
          215,
          66,
          15,
          27,
          207,
          176,
          91,
          144,
          206,
          85,
          200,
          134,
          85,
          289,
          52,
          107,
          180,
          58,
          10,
          183,
          123,
          16,
          76,
          52,
          283,
          179,
          65,
          89,
          230,
          84,
          343,
          65,
          65,
          307,
          82,
          2017,
          72,
          44,
          364,
          413,
          76,
          135,
          685,
          141,
          124,
          111,
          148,
          98,
          71,
          451,
          295,
          148,
          75,
          50,
          47,
          49,
          71,
          105,
          122,
          58,
          55,
          166,
          117,
          48,
          179,
          91,
          73,
          77,
          94,
          85,
          23,
          60,
          90,
          247,
          170,
          70,
          26,
          195,
          83,
          173,
          55,
          77,
          142,
          90,
          28,
          64,
          45,
          120,
          81,
          32,
          121,
          25,
          48,
          296,
          27,
          67,
          106,
          146,
          35,
          54,
          116,
          94,
          108,
          204,
          46,
          87,
          95,
          126,
          184,
          26,
          80,
          56,
          84,
          47,
          111,
          91,
          32,
          59,
          48,
          100,
          81,
          38,
          197,
          46,
          94,
          104,
          94,
          22,
          10,
          108,
          67,
          88,
          73,
          22,
          78,
          115,
          40,
          330,
          33,
          95,
          44,
          41,
          15,
          216,
          363,
          72,
          51,
          35,
          42,
          280,
          79,
          79,
          117,
          76,
          71,
          132,
          41,
          76,
          55,
          13,
          197,
          338,
          40,
          32,
          36,
          35,
          16,
          407,
          31,
          62,
          99,
          35,
          201,
          560,
          100,
          17,
          96,
          1774,
          34,
          34,
          247,
          129,
          309,
          122,
          41,
          50,
          28,
          23,
          42,
          154,
          34,
          75,
          106,
          56,
          129,
          53,
          33,
          123,
          41,
          53,
          135,
          181,
          119,
          116,
          59,
          90,
          203,
          143,
          95,
          77,
          88,
          111,
          78,
          66,
          152,
          79,
          454,
          77,
          47,
          37,
          76,
          84,
          96
         ]
        }
       ],
       "layout": {
        "barmode": "overlay",
        "legend": {
         "bgcolor": "#F5F6F9",
         "font": {
          "color": "#4D5663"
         }
        },
        "paper_bgcolor": "#F5F6F9",
        "plot_bgcolor": "#F5F6F9",
        "template": {
         "data": {
          "bar": [
           {
            "error_x": {
             "color": "#2a3f5f"
            },
            "error_y": {
             "color": "#2a3f5f"
            },
            "marker": {
             "line": {
              "color": "#E5ECF6",
              "width": 0.5
             }
            },
            "type": "bar"
           }
          ],
          "barpolar": [
           {
            "marker": {
             "line": {
              "color": "#E5ECF6",
              "width": 0.5
             }
            },
            "type": "barpolar"
           }
          ],
          "carpet": [
           {
            "aaxis": {
             "endlinecolor": "#2a3f5f",
             "gridcolor": "white",
             "linecolor": "white",
             "minorgridcolor": "white",
             "startlinecolor": "#2a3f5f"
            },
            "baxis": {
             "endlinecolor": "#2a3f5f",
             "gridcolor": "white",
             "linecolor": "white",
             "minorgridcolor": "white",
             "startlinecolor": "#2a3f5f"
            },
            "type": "carpet"
           }
          ],
          "choropleth": [
           {
            "colorbar": {
             "outlinewidth": 0,
             "ticks": ""
            },
            "type": "choropleth"
           }
          ],
          "contour": [
           {
            "colorbar": {
             "outlinewidth": 0,
             "ticks": ""
            },
            "colorscale": [
             [
              0,
              "#0d0887"
             ],
             [
              0.1111111111111111,
              "#46039f"
             ],
             [
              0.2222222222222222,
              "#7201a8"
             ],
             [
              0.3333333333333333,
              "#9c179e"
             ],
             [
              0.4444444444444444,
              "#bd3786"
             ],
             [
              0.5555555555555556,
              "#d8576b"
             ],
             [
              0.6666666666666666,
              "#ed7953"
             ],
             [
              0.7777777777777778,
              "#fb9f3a"
             ],
             [
              0.8888888888888888,
              "#fdca26"
             ],
             [
              1,
              "#f0f921"
             ]
            ],
            "type": "contour"
           }
          ],
          "contourcarpet": [
           {
            "colorbar": {
             "outlinewidth": 0,
             "ticks": ""
            },
            "type": "contourcarpet"
           }
          ],
          "heatmap": [
           {
            "colorbar": {
             "outlinewidth": 0,
             "ticks": ""
            },
            "colorscale": [
             [
              0,
              "#0d0887"
             ],
             [
              0.1111111111111111,
              "#46039f"
             ],
             [
              0.2222222222222222,
              "#7201a8"
             ],
             [
              0.3333333333333333,
              "#9c179e"
             ],
             [
              0.4444444444444444,
              "#bd3786"
             ],
             [
              0.5555555555555556,
              "#d8576b"
             ],
             [
              0.6666666666666666,
              "#ed7953"
             ],
             [
              0.7777777777777778,
              "#fb9f3a"
             ],
             [
              0.8888888888888888,
              "#fdca26"
             ],
             [
              1,
              "#f0f921"
             ]
            ],
            "type": "heatmap"
           }
          ],
          "heatmapgl": [
           {
            "colorbar": {
             "outlinewidth": 0,
             "ticks": ""
            },
            "colorscale": [
             [
              0,
              "#0d0887"
             ],
             [
              0.1111111111111111,
              "#46039f"
             ],
             [
              0.2222222222222222,
              "#7201a8"
             ],
             [
              0.3333333333333333,
              "#9c179e"
             ],
             [
              0.4444444444444444,
              "#bd3786"
             ],
             [
              0.5555555555555556,
              "#d8576b"
             ],
             [
              0.6666666666666666,
              "#ed7953"
             ],
             [
              0.7777777777777778,
              "#fb9f3a"
             ],
             [
              0.8888888888888888,
              "#fdca26"
             ],
             [
              1,
              "#f0f921"
             ]
            ],
            "type": "heatmapgl"
           }
          ],
          "histogram": [
           {
            "marker": {
             "colorbar": {
              "outlinewidth": 0,
              "ticks": ""
             }
            },
            "type": "histogram"
           }
          ],
          "histogram2d": [
           {
            "colorbar": {
             "outlinewidth": 0,
             "ticks": ""
            },
            "colorscale": [
             [
              0,
              "#0d0887"
             ],
             [
              0.1111111111111111,
              "#46039f"
             ],
             [
              0.2222222222222222,
              "#7201a8"
             ],
             [
              0.3333333333333333,
              "#9c179e"
             ],
             [
              0.4444444444444444,
              "#bd3786"
             ],
             [
              0.5555555555555556,
              "#d8576b"
             ],
             [
              0.6666666666666666,
              "#ed7953"
             ],
             [
              0.7777777777777778,
              "#fb9f3a"
             ],
             [
              0.8888888888888888,
              "#fdca26"
             ],
             [
              1,
              "#f0f921"
             ]
            ],
            "type": "histogram2d"
           }
          ],
          "histogram2dcontour": [
           {
            "colorbar": {
             "outlinewidth": 0,
             "ticks": ""
            },
            "colorscale": [
             [
              0,
              "#0d0887"
             ],
             [
              0.1111111111111111,
              "#46039f"
             ],
             [
              0.2222222222222222,
              "#7201a8"
             ],
             [
              0.3333333333333333,
              "#9c179e"
             ],
             [
              0.4444444444444444,
              "#bd3786"
             ],
             [
              0.5555555555555556,
              "#d8576b"
             ],
             [
              0.6666666666666666,
              "#ed7953"
             ],
             [
              0.7777777777777778,
              "#fb9f3a"
             ],
             [
              0.8888888888888888,
              "#fdca26"
             ],
             [
              1,
              "#f0f921"
             ]
            ],
            "type": "histogram2dcontour"
           }
          ],
          "mesh3d": [
           {
            "colorbar": {
             "outlinewidth": 0,
             "ticks": ""
            },
            "type": "mesh3d"
           }
          ],
          "parcoords": [
           {
            "line": {
             "colorbar": {
              "outlinewidth": 0,
              "ticks": ""
             }
            },
            "type": "parcoords"
           }
          ],
          "pie": [
           {
            "automargin": true,
            "type": "pie"
           }
          ],
          "scatter": [
           {
            "marker": {
             "colorbar": {
              "outlinewidth": 0,
              "ticks": ""
             }
            },
            "type": "scatter"
           }
          ],
          "scatter3d": [
           {
            "line": {
             "colorbar": {
              "outlinewidth": 0,
              "ticks": ""
             }
            },
            "marker": {
             "colorbar": {
              "outlinewidth": 0,
              "ticks": ""
             }
            },
            "type": "scatter3d"
           }
          ],
          "scattercarpet": [
           {
            "marker": {
             "colorbar": {
              "outlinewidth": 0,
              "ticks": ""
             }
            },
            "type": "scattercarpet"
           }
          ],
          "scattergeo": [
           {
            "marker": {
             "colorbar": {
              "outlinewidth": 0,
              "ticks": ""
             }
            },
            "type": "scattergeo"
           }
          ],
          "scattergl": [
           {
            "marker": {
             "colorbar": {
              "outlinewidth": 0,
              "ticks": ""
             }
            },
            "type": "scattergl"
           }
          ],
          "scattermapbox": [
           {
            "marker": {
             "colorbar": {
              "outlinewidth": 0,
              "ticks": ""
             }
            },
            "type": "scattermapbox"
           }
          ],
          "scatterpolar": [
           {
            "marker": {
             "colorbar": {
              "outlinewidth": 0,
              "ticks": ""
             }
            },
            "type": "scatterpolar"
           }
          ],
          "scatterpolargl": [
           {
            "marker": {
             "colorbar": {
              "outlinewidth": 0,
              "ticks": ""
             }
            },
            "type": "scatterpolargl"
           }
          ],
          "scatterternary": [
           {
            "marker": {
             "colorbar": {
              "outlinewidth": 0,
              "ticks": ""
             }
            },
            "type": "scatterternary"
           }
          ],
          "surface": [
           {
            "colorbar": {
             "outlinewidth": 0,
             "ticks": ""
            },
            "colorscale": [
             [
              0,
              "#0d0887"
             ],
             [
              0.1111111111111111,
              "#46039f"
             ],
             [
              0.2222222222222222,
              "#7201a8"
             ],
             [
              0.3333333333333333,
              "#9c179e"
             ],
             [
              0.4444444444444444,
              "#bd3786"
             ],
             [
              0.5555555555555556,
              "#d8576b"
             ],
             [
              0.6666666666666666,
              "#ed7953"
             ],
             [
              0.7777777777777778,
              "#fb9f3a"
             ],
             [
              0.8888888888888888,
              "#fdca26"
             ],
             [
              1,
              "#f0f921"
             ]
            ],
            "type": "surface"
           }
          ],
          "table": [
           {
            "cells": {
             "fill": {
              "color": "#EBF0F8"
             },
             "line": {
              "color": "white"
             }
            },
            "header": {
             "fill": {
              "color": "#C8D4E3"
             },
             "line": {
              "color": "white"
             }
            },
            "type": "table"
           }
          ]
         },
         "layout": {
          "annotationdefaults": {
           "arrowcolor": "#2a3f5f",
           "arrowhead": 0,
           "arrowwidth": 1
          },
          "autotypenumbers": "strict",
          "coloraxis": {
           "colorbar": {
            "outlinewidth": 0,
            "ticks": ""
           }
          },
          "colorscale": {
           "diverging": [
            [
             0,
             "#8e0152"
            ],
            [
             0.1,
             "#c51b7d"
            ],
            [
             0.2,
             "#de77ae"
            ],
            [
             0.3,
             "#f1b6da"
            ],
            [
             0.4,
             "#fde0ef"
            ],
            [
             0.5,
             "#f7f7f7"
            ],
            [
             0.6,
             "#e6f5d0"
            ],
            [
             0.7,
             "#b8e186"
            ],
            [
             0.8,
             "#7fbc41"
            ],
            [
             0.9,
             "#4d9221"
            ],
            [
             1,
             "#276419"
            ]
           ],
           "sequential": [
            [
             0,
             "#0d0887"
            ],
            [
             0.1111111111111111,
             "#46039f"
            ],
            [
             0.2222222222222222,
             "#7201a8"
            ],
            [
             0.3333333333333333,
             "#9c179e"
            ],
            [
             0.4444444444444444,
             "#bd3786"
            ],
            [
             0.5555555555555556,
             "#d8576b"
            ],
            [
             0.6666666666666666,
             "#ed7953"
            ],
            [
             0.7777777777777778,
             "#fb9f3a"
            ],
            [
             0.8888888888888888,
             "#fdca26"
            ],
            [
             1,
             "#f0f921"
            ]
           ],
           "sequentialminus": [
            [
             0,
             "#0d0887"
            ],
            [
             0.1111111111111111,
             "#46039f"
            ],
            [
             0.2222222222222222,
             "#7201a8"
            ],
            [
             0.3333333333333333,
             "#9c179e"
            ],
            [
             0.4444444444444444,
             "#bd3786"
            ],
            [
             0.5555555555555556,
             "#d8576b"
            ],
            [
             0.6666666666666666,
             "#ed7953"
            ],
            [
             0.7777777777777778,
             "#fb9f3a"
            ],
            [
             0.8888888888888888,
             "#fdca26"
            ],
            [
             1,
             "#f0f921"
            ]
           ]
          },
          "colorway": [
           "#636efa",
           "#EF553B",
           "#00cc96",
           "#ab63fa",
           "#FFA15A",
           "#19d3f3",
           "#FF6692",
           "#B6E880",
           "#FF97FF",
           "#FECB52"
          ],
          "font": {
           "color": "#2a3f5f"
          },
          "geo": {
           "bgcolor": "white",
           "lakecolor": "white",
           "landcolor": "#E5ECF6",
           "showlakes": true,
           "showland": true,
           "subunitcolor": "white"
          },
          "hoverlabel": {
           "align": "left"
          },
          "hovermode": "closest",
          "mapbox": {
           "style": "light"
          },
          "paper_bgcolor": "white",
          "plot_bgcolor": "#E5ECF6",
          "polar": {
           "angularaxis": {
            "gridcolor": "white",
            "linecolor": "white",
            "ticks": ""
           },
           "bgcolor": "#E5ECF6",
           "radialaxis": {
            "gridcolor": "white",
            "linecolor": "white",
            "ticks": ""
           }
          },
          "scene": {
           "xaxis": {
            "backgroundcolor": "#E5ECF6",
            "gridcolor": "white",
            "gridwidth": 2,
            "linecolor": "white",
            "showbackground": true,
            "ticks": "",
            "zerolinecolor": "white"
           },
           "yaxis": {
            "backgroundcolor": "#E5ECF6",
            "gridcolor": "white",
            "gridwidth": 2,
            "linecolor": "white",
            "showbackground": true,
            "ticks": "",
            "zerolinecolor": "white"
           },
           "zaxis": {
            "backgroundcolor": "#E5ECF6",
            "gridcolor": "white",
            "gridwidth": 2,
            "linecolor": "white",
            "showbackground": true,
            "ticks": "",
            "zerolinecolor": "white"
           }
          },
          "shapedefaults": {
           "line": {
            "color": "#2a3f5f"
           }
          },
          "ternary": {
           "aaxis": {
            "gridcolor": "white",
            "linecolor": "white",
            "ticks": ""
           },
           "baxis": {
            "gridcolor": "white",
            "linecolor": "white",
            "ticks": ""
           },
           "bgcolor": "#E5ECF6",
           "caxis": {
            "gridcolor": "white",
            "linecolor": "white",
            "ticks": ""
           }
          },
          "title": {
           "x": 0.05
          },
          "xaxis": {
           "automargin": true,
           "gridcolor": "white",
           "linecolor": "white",
           "ticks": "",
           "title": {
            "standoff": 15
           },
           "zerolinecolor": "white",
           "zerolinewidth": 2
          },
          "yaxis": {
           "automargin": true,
           "gridcolor": "white",
           "linecolor": "white",
           "ticks": "",
           "title": {
            "standoff": 15
           },
           "zerolinecolor": "white",
           "zerolinewidth": 2
          }
         }
        },
        "title": {
         "font": {
          "color": "#4D5663"
         },
         "text": "Comment Text Length Distribution"
        },
        "xaxis": {
         "gridcolor": "#E1E5ED",
         "linecolor": "black",
         "showgrid": true,
         "tickfont": {
          "color": "#4D5663"
         },
         "title": {
          "font": {
           "color": "#4D5663"
          },
          "text": "Comment length"
         },
         "zerolinecolor": "#E1E5ED"
        },
        "yaxis": {
         "gridcolor": "#E1E5ED",
         "linecolor": "black",
         "showgrid": true,
         "tickfont": {
          "color": "#4D5663"
         },
         "title": {
          "font": {
           "color": "#4D5663"
          },
          "text": "Comment count"
         },
         "zerolinecolor": "#E1E5ED"
        }
       }
      },
      "text/html": [
       "<div>                            <div id=\"b7249cbd-c240-49b1-9c8b-e8afa64d9114\" class=\"plotly-graph-div\" style=\"height:525px; width:100%;\"></div>            <script type=\"text/javascript\">                require([\"plotly\"], function(Plotly) {                    window.PLOTLYENV=window.PLOTLYENV || {};\n",
       "                    window.PLOTLYENV.BASE_URL='https://plot.ly';                                    if (document.getElementById(\"b7249cbd-c240-49b1-9c8b-e8afa64d9114\")) {                    Plotly.newPlot(                        \"b7249cbd-c240-49b1-9c8b-e8afa64d9114\",                        [{\"histfunc\": \"count\", \"histnorm\": \"\", \"marker\": {\"color\": \"rgba(255, 153, 51, 1.0)\", \"line\": {\"color\": \"#000000\", \"width\": 1.3}}, \"name\": \"review_len\", \"nbinsx\": 100, \"opacity\": 0.8, \"orientation\": \"v\", \"type\": \"histogram\", \"x\": [82, 212, 71, 80, 73, 92, 56, 67, 134, 74, 142, 112, 53, 325, 84, 68, 146, 79, 58, 68, 95, 104, 130, 92, 136, 201, 98, 71, 38, 41, 89, 65, 62, 91, 91, 74, 84, 101, 69, 96, 81, 148, 88, 140, 169, 56, 260, 147, 156, 94, 113, 60, 95, 154, 160, 127, 55, 92, 127, 74, 111, 69, 130, 74, 68, 58, 114, 115, 114, 80, 129, 48, 131, 86, 161, 170, 81, 510, 97, 59, 97, 59, 68, 101, 157, 68, 84, 122, 203, 56, 293, 76, 86, 134, 121, 47, 141, 99, 167, 48, 114, 142, 73, 70, 126, 106, 50, 170, 37, 115, 65, 93, 107, 237, 122, 119, 104, 162, 154, 135, 21, 212, 121, 28, 37, 35, 58, 92, 65, 87, 87, 51, 103, 77, 184, 71, 48, 229, 49, 86, 89, 62, 74, 165, 97, 52, 145, 71, 147, 150, 67, 93, 102, 78, 108, 102, 25, 200, 102, 240, 56, 68, 142, 70, 83, 79, 90, 64, 205, 39, 456, 107, 235, 64, 43, 98, 126, 56, 48, 136, 50, 258, 65, 39, 54, 89, 133, 61, 33, 68, 223, 124, 104, 61, 156, 67, 93, 58, 47, 117, 85, 141, 107, 96, 121, 70, 138, 111, 158, 62, 135, 232, 36, 66, 142, 84, 33, 635, 63, 100, 122, 50, 150, 94, 85, 81, 146, 32, 129, 57, 52, 85, 86, 123, 234, 65, 162, 97, 125, 372, 132, 102, 155, 143, 130, 76, 83, 79, 87, 116, 77, 142, 59, 104, 127, 97, 84, 238, 92, 62, 144, 111, 14, 68, 293, 203, 156, 34, 127, 38, 72, 53, 34, 182, 148, 99, 171, 38, 40, 47, 80, 64, 104, 57, 221, 80, 50, 21, 50, 116, 137, 14, 58, 55, 118, 43, 45, 140, 136, 50, 40, 140, 165, 35, 144, 122, 43, 83, 78, 119, 835, 30, 84, 16, 79, 42, 60, 58, 35, 212, 74, 53, 192, 481, 104, 57, 77, 134, 139, 229, 107, 96, 89, 85, 36, 209, 200, 167, 66, 75, 51, 36, 66, 136, 91, 35, 57, 175, 94, 40, 47, 136, 144, 71, 51, 122, 53, 324, 124, 162, 42, 112, 28, 124, 9, 44, 84, 107, 68, 48, 54, 78, 72, 190, 26, 61, 91, 43, 100, 63, 170, 94, 132, 65, 25, 147, 32, 62, 211, 48, 79, 607, 208, 153, 174, 670, 40, 95, 134, 141, 125, 47, 99, 47, 43, 165, 112, 95, 36, 126, 73, 127, 153, 89, 75, 71, 130, 150, 76, 158, 133, 144, 138, 31, 49, 113, 135, 28, 129, 138, 50, 131, 95, 78, 141, 187, 139, 375, 119, 33, 79, 97, 76, 110, 138, 30, 44, 155, 46, 130, 69, 135, 233, 97, 63, 102, 42, 66, 145, 83, 59, 78, 90, 384, 130, 49, 131, 63, 141, 101, 93, 193, 88, 116, 33, 399, 37, 135, 92, 121, 53, 23, 88, 183, 65, 117, 69, 335, 85, 117, 47, 60, 33, 47, 147, 32, 64, 55, 76, 129, 50, 221, 94, 28, 49, 130, 140, 53, 125, 146, 145, 47, 57, 133, 18, 159, 50, 40, 60, 127, 42, 93, 58, 55, 253, 152, 90, 187, 115, 108, 274, 67, 35, 127, 156, 153, 87, 38, 99, 31, 98, 133, 52, 82, 457, 126, 127, 27, 54, 69, 8, 5, 35, 121, 146, 131, 68, 68, 104, 125, 24, 114, 126, 141, 156, 101, 65, 41, 109, 495, 82, 138, 117, 26, 458, 132, 161, 56, 127, 574, 68, 288, 42, 36, 167, 128, 48, 103, 101, 124, 149, 139, 194, 25, 88, 29, 52, 29, 60, 35, 51, 81, 128, 152, 92, 115, 114, 359, 181, 689, 100, 38, 37, 42, 133, 98, 226, 73, 61, 130, 103, 72, 83, 91, 76, 147, 151, 24, 40, 9, 106, 99, 70, 20, 95, 57, 176, 64, 108, 56, 130, 57, 71, 87, 129, 50, 86, 60, 78, 145, 16, 161, 32, 354, 94, 121, 384, 46, 56, 84, 78, 44, 154, 147, 139, 106, 147, 25, 137, 120, 137, 374, 37, 159, 174, 136, 139, 122, 28, 141, 64, 128, 128, 49, 136, 203, 148, 185, 142, 72, 108, 72, 130, 25, 55, 123, 52, 162, 153, 66, 129, 97, 110, 142, 82, 137, 94, 392, 134, 145, 54, 67, 73, 65, 40, 131, 55, 82, 141, 519, 137, 69, 61, 38, 132, 36, 51, 156, 130, 33, 150, 69, 116, 171, 143, 17, 130, 198, 92, 94, 85, 140, 94, 104, 70, 31, 30, 63, 46, 45, 96, 242, 341, 146, 117, 20, 115, 282, 43, 32, 131, 131, 254, 162, 71, 65, 163, 120, 129, 150, 119, 54, 144, 76, 125, 174, 38, 159, 170, 144, 61, 66, 90, 71, 92, 86, 114, 130, 52, 224, 108, 52, 55, 148, 105, 141, 137, 29, 29, 137, 58, 132, 128, 217, 43, 148, 135, 34, 132, 191, 127, 25, 65, 371, 5, 36, 95, 155, 57, 130, 141, 19, 178, 131, 1424, 134, 139, 40, 179, 145, 41, 163, 129, 242, 100, 134, 50, 159, 149, 153, 82, 150, 132, 58, 56, 47, 129, 116, 101, 43, 133, 137, 138, 135, 136, 130, 134, 11, 74, 148, 261, 32, 40, 99, 118, 32, 210, 66, 33, 61, 36, 52, 56, 180, 130, 42, 136, 158, 167, 173, 189, 38, 60, 121, 72, 69, 74, 148, 107, 98, 46, 57, 129, 127, 110, 236, 94, 63, 64, 40, 60, 73, 86, 104, 116, 121, 117, 24, 84, 26, 150, 145, 86, 137, 143, 147, 148, 82, 321, 38, 143, 130, 141, 126, 16, 134, 29, 48, 145, 136, 122, 134, 56, 155, 239, 88, 146, 29, 17, 177, 121, 72, 114, 83, 135, 65, 119, 135, 21, 90, 138, 117, 44, 117, 127, 135, 138, 47, 149, 130, 139, 141, 137, 143, 134, 133, 121, 146, 54, 131, 136, 143, 150, 63, 160, 169, 476, 316, 61, 191, 151, 127, 206, 48, 145, 289, 226, 66, 93, 135, 85, 157, 97, 142, 63, 35, 146, 48, 234, 117, 58, 117, 152, 147, 92, 100, 351, 163, 370, 134, 151, 157, 103, 175, 62, 157, 314, 82, 1262, 419, 32, 332, 51, 297, 230, 36, 326, 81, 137, 356, 252, 132, 54, 340, 143, 191, 19, 94, 126, 22, 148, 70, 134, 91, 126, 139, 137, 134, 25, 271, 666, 139, 58, 106, 312, 414, 121, 156, 83, 72, 63, 114, 66, 96, 113, 117, 55, 100, 57, 94, 69, 262, 58, 86, 26, 126, 49, 45, 41, 62, 88, 110, 36, 122, 115, 21, 23, 142, 110, 71, 123, 184, 158, 36, 129, 97, 196, 32, 228, 163, 30, 192, 58, 132, 86, 96, 252, 148, 151, 143, 146, 132, 166, 128, 37, 49, 146, 141, 440, 79, 77, 65, 51, 33, 42, 470, 282, 52, 203, 189, 69, 70, 95, 57, 108, 114, 88, 274, 74, 47, 78, 80, 107, 38, 34, 158, 103, 110, 101, 49, 116, 155, 124, 447, 62, 96, 65, 146, 255, 64, 24, 15, 35, 826, 260, 182, 50, 73, 87, 86, 150, 68, 6, 107, 96, 105, 48, 34, 118, 164, 136, 77, 122, 154, 32, 43, 70, 86, 134, 86, 142, 52, 193, 46, 49, 44, 86, 54, 103, 154, 89, 95, 35, 194, 97, 35, 88, 41, 78, 104, 62, 154, 34, 33, 135, 143, 45, 46, 33, 265, 113, 72, 63, 59, 21, 218, 130, 107, 76, 174, 44, 110, 147, 141, 23, 33, 52, 264, 31, 221, 67, 87, 108, 69, 610, 54, 36, 85, 46, 240, 561, 392, 44, 52, 229, 51, 101, 25, 84, 202, 168, 351, 26, 126, 536, 146, 34, 46, 108, 24, 157, 69, 22, 17, 876, 212, 216, 142, 336, 60, 69, 69, 53, 49, 1322, 467, 87, 48, 267, 71, 80, 117, 59, 167, 323, 120, 66, 79, 100, 62, 78, 135, 77, 50, 397, 164, 52, 156, 4735, 200, 79, 29, 46, 109, 33, 83, 158, 68, 165, 140, 21, 55, 82, 42, 137, 94, 134, 114, 180, 68, 450, 168, 147, 46, 48, 54, 25, 69, 67, 67, 111, 95, 42, 58, 264, 60, 60, 185, 94, 29, 36, 56, 63, 31, 60, 38, 163, 25, 70, 35, 38, 115, 28, 220, 97, 518, 126, 128, 45, 86, 56, 46, 31, 61, 38, 87, 114, 57, 128, 199, 238, 78, 185, 99, 53, 123, 75, 120, 39, 127, 24, 35, 260, 115, 51, 117, 81, 179, 88, 85, 109, 137, 99, 21, 15, 88, 137, 24, 73, 52, 55, 11, 94, 30, 43, 26, 393, 31, 49, 1506, 169, 100, 52, 243, 17, 254, 83, 534, 117, 169, 52, 26, 10, 331, 315, 67, 177, 67, 39, 136, 70, 92, 215, 66, 15, 27, 207, 176, 91, 144, 206, 85, 200, 134, 85, 289, 52, 107, 180, 58, 10, 183, 123, 16, 76, 52, 283, 179, 65, 89, 230, 84, 343, 65, 65, 307, 82, 2017, 72, 44, 364, 413, 76, 135, 685, 141, 124, 111, 148, 98, 71, 451, 295, 148, 75, 50, 47, 49, 71, 105, 122, 58, 55, 166, 117, 48, 179, 91, 73, 77, 94, 85, 23, 60, 90, 247, 170, 70, 26, 195, 83, 173, 55, 77, 142, 90, 28, 64, 45, 120, 81, 32, 121, 25, 48, 296, 27, 67, 106, 146, 35, 54, 116, 94, 108, 204, 46, 87, 95, 126, 184, 26, 80, 56, 84, 47, 111, 91, 32, 59, 48, 100, 81, 38, 197, 46, 94, 104, 94, 22, 10, 108, 67, 88, 73, 22, 78, 115, 40, 330, 33, 95, 44, 41, 15, 216, 363, 72, 51, 35, 42, 280, 79, 79, 117, 76, 71, 132, 41, 76, 55, 13, 197, 338, 40, 32, 36, 35, 16, 407, 31, 62, 99, 35, 201, 560, 100, 17, 96, 1774, 34, 34, 247, 129, 309, 122, 41, 50, 28, 23, 42, 154, 34, 75, 106, 56, 129, 53, 33, 123, 41, 53, 135, 181, 119, 116, 59, 90, 203, 143, 95, 77, 88, 111, 78, 66, 152, 79, 454, 77, 47, 37, 76, 84, 96]}],                        {\"barmode\": \"overlay\", \"legend\": {\"bgcolor\": \"#F5F6F9\", \"font\": {\"color\": \"#4D5663\"}}, \"paper_bgcolor\": \"#F5F6F9\", \"plot_bgcolor\": \"#F5F6F9\", \"template\": {\"data\": {\"bar\": [{\"error_x\": {\"color\": \"#2a3f5f\"}, \"error_y\": {\"color\": \"#2a3f5f\"}, \"marker\": {\"line\": {\"color\": \"#E5ECF6\", \"width\": 0.5}}, \"type\": \"bar\"}], \"barpolar\": [{\"marker\": {\"line\": {\"color\": \"#E5ECF6\", \"width\": 0.5}}, \"type\": \"barpolar\"}], \"carpet\": [{\"aaxis\": {\"endlinecolor\": \"#2a3f5f\", \"gridcolor\": \"white\", \"linecolor\": \"white\", \"minorgridcolor\": \"white\", \"startlinecolor\": \"#2a3f5f\"}, \"baxis\": {\"endlinecolor\": \"#2a3f5f\", \"gridcolor\": \"white\", \"linecolor\": \"white\", \"minorgridcolor\": \"white\", \"startlinecolor\": \"#2a3f5f\"}, \"type\": \"carpet\"}], \"choropleth\": [{\"colorbar\": {\"outlinewidth\": 0, \"ticks\": \"\"}, \"type\": \"choropleth\"}], \"contour\": [{\"colorbar\": {\"outlinewidth\": 0, \"ticks\": \"\"}, \"colorscale\": [[0.0, \"#0d0887\"], [0.1111111111111111, \"#46039f\"], [0.2222222222222222, \"#7201a8\"], [0.3333333333333333, \"#9c179e\"], [0.4444444444444444, \"#bd3786\"], [0.5555555555555556, \"#d8576b\"], [0.6666666666666666, \"#ed7953\"], [0.7777777777777778, \"#fb9f3a\"], [0.8888888888888888, \"#fdca26\"], [1.0, \"#f0f921\"]], \"type\": \"contour\"}], \"contourcarpet\": [{\"colorbar\": {\"outlinewidth\": 0, \"ticks\": \"\"}, \"type\": \"contourcarpet\"}], \"heatmap\": [{\"colorbar\": {\"outlinewidth\": 0, \"ticks\": \"\"}, \"colorscale\": [[0.0, \"#0d0887\"], [0.1111111111111111, \"#46039f\"], [0.2222222222222222, \"#7201a8\"], [0.3333333333333333, \"#9c179e\"], [0.4444444444444444, \"#bd3786\"], [0.5555555555555556, \"#d8576b\"], [0.6666666666666666, \"#ed7953\"], [0.7777777777777778, \"#fb9f3a\"], [0.8888888888888888, \"#fdca26\"], [1.0, \"#f0f921\"]], \"type\": \"heatmap\"}], \"heatmapgl\": [{\"colorbar\": {\"outlinewidth\": 0, \"ticks\": \"\"}, \"colorscale\": [[0.0, \"#0d0887\"], [0.1111111111111111, \"#46039f\"], [0.2222222222222222, \"#7201a8\"], [0.3333333333333333, \"#9c179e\"], [0.4444444444444444, \"#bd3786\"], [0.5555555555555556, \"#d8576b\"], [0.6666666666666666, \"#ed7953\"], [0.7777777777777778, \"#fb9f3a\"], [0.8888888888888888, \"#fdca26\"], [1.0, \"#f0f921\"]], \"type\": \"heatmapgl\"}], \"histogram\": [{\"marker\": {\"colorbar\": {\"outlinewidth\": 0, \"ticks\": \"\"}}, \"type\": \"histogram\"}], \"histogram2d\": [{\"colorbar\": {\"outlinewidth\": 0, \"ticks\": \"\"}, \"colorscale\": [[0.0, \"#0d0887\"], [0.1111111111111111, \"#46039f\"], [0.2222222222222222, \"#7201a8\"], [0.3333333333333333, \"#9c179e\"], [0.4444444444444444, \"#bd3786\"], [0.5555555555555556, \"#d8576b\"], [0.6666666666666666, \"#ed7953\"], [0.7777777777777778, \"#fb9f3a\"], [0.8888888888888888, \"#fdca26\"], [1.0, \"#f0f921\"]], \"type\": \"histogram2d\"}], \"histogram2dcontour\": [{\"colorbar\": {\"outlinewidth\": 0, \"ticks\": \"\"}, \"colorscale\": [[0.0, \"#0d0887\"], [0.1111111111111111, \"#46039f\"], [0.2222222222222222, \"#7201a8\"], [0.3333333333333333, \"#9c179e\"], [0.4444444444444444, \"#bd3786\"], [0.5555555555555556, \"#d8576b\"], [0.6666666666666666, \"#ed7953\"], [0.7777777777777778, \"#fb9f3a\"], [0.8888888888888888, \"#fdca26\"], [1.0, \"#f0f921\"]], \"type\": \"histogram2dcontour\"}], \"mesh3d\": [{\"colorbar\": {\"outlinewidth\": 0, \"ticks\": \"\"}, \"type\": \"mesh3d\"}], \"parcoords\": [{\"line\": {\"colorbar\": {\"outlinewidth\": 0, \"ticks\": \"\"}}, \"type\": \"parcoords\"}], \"pie\": [{\"automargin\": true, \"type\": \"pie\"}], \"scatter\": [{\"marker\": {\"colorbar\": {\"outlinewidth\": 0, \"ticks\": \"\"}}, \"type\": \"scatter\"}], \"scatter3d\": [{\"line\": {\"colorbar\": {\"outlinewidth\": 0, \"ticks\": \"\"}}, \"marker\": {\"colorbar\": {\"outlinewidth\": 0, \"ticks\": \"\"}}, \"type\": \"scatter3d\"}], \"scattercarpet\": [{\"marker\": {\"colorbar\": {\"outlinewidth\": 0, \"ticks\": \"\"}}, \"type\": \"scattercarpet\"}], \"scattergeo\": [{\"marker\": {\"colorbar\": {\"outlinewidth\": 0, \"ticks\": \"\"}}, \"type\": \"scattergeo\"}], \"scattergl\": [{\"marker\": {\"colorbar\": {\"outlinewidth\": 0, \"ticks\": \"\"}}, \"type\": \"scattergl\"}], \"scattermapbox\": [{\"marker\": {\"colorbar\": {\"outlinewidth\": 0, \"ticks\": \"\"}}, \"type\": \"scattermapbox\"}], \"scatterpolar\": [{\"marker\": {\"colorbar\": {\"outlinewidth\": 0, \"ticks\": \"\"}}, \"type\": \"scatterpolar\"}], \"scatterpolargl\": [{\"marker\": {\"colorbar\": {\"outlinewidth\": 0, \"ticks\": \"\"}}, \"type\": \"scatterpolargl\"}], \"scatterternary\": [{\"marker\": {\"colorbar\": {\"outlinewidth\": 0, \"ticks\": \"\"}}, \"type\": \"scatterternary\"}], \"surface\": [{\"colorbar\": {\"outlinewidth\": 0, \"ticks\": \"\"}, \"colorscale\": [[0.0, \"#0d0887\"], [0.1111111111111111, \"#46039f\"], [0.2222222222222222, \"#7201a8\"], [0.3333333333333333, \"#9c179e\"], [0.4444444444444444, \"#bd3786\"], [0.5555555555555556, \"#d8576b\"], [0.6666666666666666, \"#ed7953\"], [0.7777777777777778, \"#fb9f3a\"], [0.8888888888888888, \"#fdca26\"], [1.0, \"#f0f921\"]], \"type\": \"surface\"}], \"table\": [{\"cells\": {\"fill\": {\"color\": \"#EBF0F8\"}, \"line\": {\"color\": \"white\"}}, \"header\": {\"fill\": {\"color\": \"#C8D4E3\"}, \"line\": {\"color\": \"white\"}}, \"type\": \"table\"}]}, \"layout\": {\"annotationdefaults\": {\"arrowcolor\": \"#2a3f5f\", \"arrowhead\": 0, \"arrowwidth\": 1}, \"autotypenumbers\": \"strict\", \"coloraxis\": {\"colorbar\": {\"outlinewidth\": 0, \"ticks\": \"\"}}, \"colorscale\": {\"diverging\": [[0, \"#8e0152\"], [0.1, \"#c51b7d\"], [0.2, \"#de77ae\"], [0.3, \"#f1b6da\"], [0.4, \"#fde0ef\"], [0.5, \"#f7f7f7\"], [0.6, \"#e6f5d0\"], [0.7, \"#b8e186\"], [0.8, \"#7fbc41\"], [0.9, \"#4d9221\"], [1, \"#276419\"]], \"sequential\": [[0.0, \"#0d0887\"], [0.1111111111111111, \"#46039f\"], [0.2222222222222222, \"#7201a8\"], [0.3333333333333333, \"#9c179e\"], [0.4444444444444444, \"#bd3786\"], [0.5555555555555556, \"#d8576b\"], [0.6666666666666666, \"#ed7953\"], [0.7777777777777778, \"#fb9f3a\"], [0.8888888888888888, \"#fdca26\"], [1.0, \"#f0f921\"]], \"sequentialminus\": [[0.0, \"#0d0887\"], [0.1111111111111111, \"#46039f\"], [0.2222222222222222, \"#7201a8\"], [0.3333333333333333, \"#9c179e\"], [0.4444444444444444, \"#bd3786\"], [0.5555555555555556, \"#d8576b\"], [0.6666666666666666, \"#ed7953\"], [0.7777777777777778, \"#fb9f3a\"], [0.8888888888888888, \"#fdca26\"], [1.0, \"#f0f921\"]]}, \"colorway\": [\"#636efa\", \"#EF553B\", \"#00cc96\", \"#ab63fa\", \"#FFA15A\", \"#19d3f3\", \"#FF6692\", \"#B6E880\", \"#FF97FF\", \"#FECB52\"], \"font\": {\"color\": \"#2a3f5f\"}, \"geo\": {\"bgcolor\": \"white\", \"lakecolor\": \"white\", \"landcolor\": \"#E5ECF6\", \"showlakes\": true, \"showland\": true, \"subunitcolor\": \"white\"}, \"hoverlabel\": {\"align\": \"left\"}, \"hovermode\": \"closest\", \"mapbox\": {\"style\": \"light\"}, \"paper_bgcolor\": \"white\", \"plot_bgcolor\": \"#E5ECF6\", \"polar\": {\"angularaxis\": {\"gridcolor\": \"white\", \"linecolor\": \"white\", \"ticks\": \"\"}, \"bgcolor\": \"#E5ECF6\", \"radialaxis\": {\"gridcolor\": \"white\", \"linecolor\": \"white\", \"ticks\": \"\"}}, \"scene\": {\"xaxis\": {\"backgroundcolor\": \"#E5ECF6\", \"gridcolor\": \"white\", \"gridwidth\": 2, \"linecolor\": \"white\", \"showbackground\": true, \"ticks\": \"\", \"zerolinecolor\": \"white\"}, \"yaxis\": {\"backgroundcolor\": \"#E5ECF6\", \"gridcolor\": \"white\", \"gridwidth\": 2, \"linecolor\": \"white\", \"showbackground\": true, \"ticks\": \"\", \"zerolinecolor\": \"white\"}, \"zaxis\": {\"backgroundcolor\": \"#E5ECF6\", \"gridcolor\": \"white\", \"gridwidth\": 2, \"linecolor\": \"white\", \"showbackground\": true, \"ticks\": \"\", \"zerolinecolor\": \"white\"}}, \"shapedefaults\": {\"line\": {\"color\": \"#2a3f5f\"}}, \"ternary\": {\"aaxis\": {\"gridcolor\": \"white\", \"linecolor\": \"white\", \"ticks\": \"\"}, \"baxis\": {\"gridcolor\": \"white\", \"linecolor\": \"white\", \"ticks\": \"\"}, \"bgcolor\": \"#E5ECF6\", \"caxis\": {\"gridcolor\": \"white\", \"linecolor\": \"white\", \"ticks\": \"\"}}, \"title\": {\"x\": 0.05}, \"xaxis\": {\"automargin\": true, \"gridcolor\": \"white\", \"linecolor\": \"white\", \"ticks\": \"\", \"title\": {\"standoff\": 15}, \"zerolinecolor\": \"white\", \"zerolinewidth\": 2}, \"yaxis\": {\"automargin\": true, \"gridcolor\": \"white\", \"linecolor\": \"white\", \"ticks\": \"\", \"title\": {\"standoff\": 15}, \"zerolinecolor\": \"white\", \"zerolinewidth\": 2}}}, \"title\": {\"font\": {\"color\": \"#4D5663\"}, \"text\": \"Comment Text Length Distribution\"}, \"xaxis\": {\"gridcolor\": \"#E1E5ED\", \"linecolor\": \"black\", \"showgrid\": true, \"tickfont\": {\"color\": \"#4D5663\"}, \"title\": {\"font\": {\"color\": \"#4D5663\"}, \"text\": \"Comment length\"}, \"zerolinecolor\": \"#E1E5ED\"}, \"yaxis\": {\"gridcolor\": \"#E1E5ED\", \"linecolor\": \"black\", \"showgrid\": true, \"tickfont\": {\"color\": \"#4D5663\"}, \"title\": {\"font\": {\"color\": \"#4D5663\"}, \"text\": \"Comment count\"}, \"zerolinecolor\": \"#E1E5ED\"}},                        {\"showLink\": true, \"linkText\": \"Export to plot.ly\", \"plotlyServerURL\": \"https://plot.ly\", \"responsive\": true}                    ).then(function(){\n",
       "                            \n",
       "var gd = document.getElementById('b7249cbd-c240-49b1-9c8b-e8afa64d9114');\n",
       "var x = new MutationObserver(function (mutations, observer) {{\n",
       "        var display = window.getComputedStyle(gd).display;\n",
       "        if (!display || display === 'none') {{\n",
       "            console.log([gd, 'removed!']);\n",
       "            Plotly.purge(gd);\n",
       "            observer.disconnect();\n",
       "        }}\n",
       "}});\n",
       "\n",
       "// Listen for the removal of the full notebook cells\n",
       "var notebookContainer = gd.closest('#notebook-container');\n",
       "if (notebookContainer) {{\n",
       "    x.observe(notebookContainer, {childList: true});\n",
       "}}\n",
       "\n",
       "// Listen for the clearing of the current output cell\n",
       "var outputEl = gd.closest('.output');\n",
       "if (outputEl) {{\n",
       "    x.observe(outputEl, {childList: true});\n",
       "}}\n",
       "\n",
       "                        })                };                });            </script>        </div>"
      ]
     },
     "metadata": {},
     "output_type": "display_data"
    }
   ],
   "source": [
    "df['review_len'].iplot(\n",
    "    kind='hist',\n",
    "    bins=100,\n",
    "    xTitle='Comment length',\n",
    "    linecolor='black',\n",
    "    yTitle='Comment count',\n",
    "    title='Comment Text Length Distribution')"
   ]
  },
  {
   "cell_type": "markdown",
   "metadata": {},
   "source": [
    "#Top unigrams before removing stop words"
   ]
  },
  {
   "cell_type": "code",
   "execution_count": 18,
   "metadata": {
    "scrolled": true
   },
   "outputs": [
    {
     "name": "stdout",
     "output_type": "stream",
     "text": [
      "the 1345\n",
      "to 774\n",
      "and 574\n",
      "is 521\n",
      "of 481\n",
      "elon 464\n",
      "he 428\n",
      "in 370\n",
      "that 333\n",
      "this 321\n",
      "it 300\n",
      "you 281\n",
      "be 280\n",
      "because 226\n",
      "musk 203\n",
      "for 201\n",
      "his 184\n",
      "on 179\n",
      "not 177\n",
      "we 172\n"
     ]
    }
   ],
   "source": [
    "def get_top_n_words(corpus, n=None):\n",
    "    vec = CountVectorizer().fit(corpus)\n",
    "    bag_of_words = vec.transform(corpus)\n",
    "    sum_words = bag_of_words.sum(axis=0) \n",
    "    words_freq = [(word, sum_words[0, idx]) for word, idx in vec.vocabulary_.items()]\n",
    "    words_freq =sorted(words_freq, key = lambda x: x[1], reverse=True)\n",
    "    return words_freq[:n]\n",
    "common_words = get_top_n_words(df['Review Text'], 20)\n",
    "for word, freq in common_words:\n",
    "    print(word, freq)\n",
    "df1 = pd.DataFrame(common_words, columns = ['ReviewText' , 'count'])"
   ]
  },
  {
   "cell_type": "markdown",
   "metadata": {},
   "source": [
    "#Top unigrams after removing stop words"
   ]
  },
  {
   "cell_type": "code",
   "execution_count": 19,
   "metadata": {},
   "outputs": [
    {
     "name": "stdout",
     "output_type": "stream",
     "text": [
      "elon 464\n",
      "musk 203\n",
      "just 161\n",
      "like 155\n",
      "man 137\n",
      "future 124\n",
      "think 112\n",
      "people 110\n",
      "world 89\n",
      "guy 78\n",
      "time 77\n",
      "mars 67\n",
      "earth 64\n",
      "tunnels 60\n",
      "want 58\n",
      "trying 55\n",
      "cars 53\n",
      "love 51\n",
      "tesla 51\n",
      "make 50\n"
     ]
    }
   ],
   "source": [
    "\n",
    "def get_top_n_words(corpus, n=None):\n",
    "    vec = CountVectorizer(stop_words = 'english').fit(corpus)\n",
    "    bag_of_words = vec.transform(corpus)\n",
    "    sum_words = bag_of_words.sum(axis=0) \n",
    "    words_freq = [(word, sum_words[0, idx]) for word, idx in vec.vocabulary_.items()]\n",
    "    words_freq =sorted(words_freq, key = lambda x: x[1], reverse=True)\n",
    "    return words_freq[:n]\n",
    "common_words = get_top_n_words(df['Review Text'], 20)\n",
    "for word, freq in common_words:\n",
    "    print(word, freq)\n",
    "df2 = pd.DataFrame(common_words, columns = ['ReviewText' , 'count'])"
   ]
  },
  {
   "cell_type": "code",
   "execution_count": 22,
   "metadata": {},
   "outputs": [
    {
     "data": {
      "application/vnd.plotly.v1+json": {
       "config": {
        "linkText": "Export to plot.ly",
        "plotlyServerURL": "https://plot.ly",
        "showLink": true
       },
       "data": [
        {
         "marker": {
          "color": "rgba(255, 153, 51, 0.6)",
          "line": {
           "color": "rgba(255, 153, 51, 1.0)",
           "width": 1
          }
         },
         "name": "count",
         "orientation": "v",
         "text": "",
         "type": "bar",
         "x": [
          "elon",
          "musk",
          "just",
          "like",
          "man",
          "future",
          "think",
          "people",
          "world",
          "guy",
          "time",
          "mars",
          "earth",
          "tunnels",
          "want",
          "trying",
          "cars",
          "love",
          "tesla",
          "make"
         ],
         "y": [
          464,
          203,
          161,
          155,
          137,
          124,
          112,
          110,
          89,
          78,
          77,
          67,
          64,
          60,
          58,
          55,
          53,
          51,
          51,
          50
         ]
        }
       ],
       "layout": {
        "legend": {
         "bgcolor": "#F5F6F9",
         "font": {
          "color": "#4D5663"
         }
        },
        "paper_bgcolor": "#F5F6F9",
        "plot_bgcolor": "#F5F6F9",
        "template": {
         "data": {
          "bar": [
           {
            "error_x": {
             "color": "#2a3f5f"
            },
            "error_y": {
             "color": "#2a3f5f"
            },
            "marker": {
             "line": {
              "color": "#E5ECF6",
              "width": 0.5
             }
            },
            "type": "bar"
           }
          ],
          "barpolar": [
           {
            "marker": {
             "line": {
              "color": "#E5ECF6",
              "width": 0.5
             }
            },
            "type": "barpolar"
           }
          ],
          "carpet": [
           {
            "aaxis": {
             "endlinecolor": "#2a3f5f",
             "gridcolor": "white",
             "linecolor": "white",
             "minorgridcolor": "white",
             "startlinecolor": "#2a3f5f"
            },
            "baxis": {
             "endlinecolor": "#2a3f5f",
             "gridcolor": "white",
             "linecolor": "white",
             "minorgridcolor": "white",
             "startlinecolor": "#2a3f5f"
            },
            "type": "carpet"
           }
          ],
          "choropleth": [
           {
            "colorbar": {
             "outlinewidth": 0,
             "ticks": ""
            },
            "type": "choropleth"
           }
          ],
          "contour": [
           {
            "colorbar": {
             "outlinewidth": 0,
             "ticks": ""
            },
            "colorscale": [
             [
              0,
              "#0d0887"
             ],
             [
              0.1111111111111111,
              "#46039f"
             ],
             [
              0.2222222222222222,
              "#7201a8"
             ],
             [
              0.3333333333333333,
              "#9c179e"
             ],
             [
              0.4444444444444444,
              "#bd3786"
             ],
             [
              0.5555555555555556,
              "#d8576b"
             ],
             [
              0.6666666666666666,
              "#ed7953"
             ],
             [
              0.7777777777777778,
              "#fb9f3a"
             ],
             [
              0.8888888888888888,
              "#fdca26"
             ],
             [
              1,
              "#f0f921"
             ]
            ],
            "type": "contour"
           }
          ],
          "contourcarpet": [
           {
            "colorbar": {
             "outlinewidth": 0,
             "ticks": ""
            },
            "type": "contourcarpet"
           }
          ],
          "heatmap": [
           {
            "colorbar": {
             "outlinewidth": 0,
             "ticks": ""
            },
            "colorscale": [
             [
              0,
              "#0d0887"
             ],
             [
              0.1111111111111111,
              "#46039f"
             ],
             [
              0.2222222222222222,
              "#7201a8"
             ],
             [
              0.3333333333333333,
              "#9c179e"
             ],
             [
              0.4444444444444444,
              "#bd3786"
             ],
             [
              0.5555555555555556,
              "#d8576b"
             ],
             [
              0.6666666666666666,
              "#ed7953"
             ],
             [
              0.7777777777777778,
              "#fb9f3a"
             ],
             [
              0.8888888888888888,
              "#fdca26"
             ],
             [
              1,
              "#f0f921"
             ]
            ],
            "type": "heatmap"
           }
          ],
          "heatmapgl": [
           {
            "colorbar": {
             "outlinewidth": 0,
             "ticks": ""
            },
            "colorscale": [
             [
              0,
              "#0d0887"
             ],
             [
              0.1111111111111111,
              "#46039f"
             ],
             [
              0.2222222222222222,
              "#7201a8"
             ],
             [
              0.3333333333333333,
              "#9c179e"
             ],
             [
              0.4444444444444444,
              "#bd3786"
             ],
             [
              0.5555555555555556,
              "#d8576b"
             ],
             [
              0.6666666666666666,
              "#ed7953"
             ],
             [
              0.7777777777777778,
              "#fb9f3a"
             ],
             [
              0.8888888888888888,
              "#fdca26"
             ],
             [
              1,
              "#f0f921"
             ]
            ],
            "type": "heatmapgl"
           }
          ],
          "histogram": [
           {
            "marker": {
             "colorbar": {
              "outlinewidth": 0,
              "ticks": ""
             }
            },
            "type": "histogram"
           }
          ],
          "histogram2d": [
           {
            "colorbar": {
             "outlinewidth": 0,
             "ticks": ""
            },
            "colorscale": [
             [
              0,
              "#0d0887"
             ],
             [
              0.1111111111111111,
              "#46039f"
             ],
             [
              0.2222222222222222,
              "#7201a8"
             ],
             [
              0.3333333333333333,
              "#9c179e"
             ],
             [
              0.4444444444444444,
              "#bd3786"
             ],
             [
              0.5555555555555556,
              "#d8576b"
             ],
             [
              0.6666666666666666,
              "#ed7953"
             ],
             [
              0.7777777777777778,
              "#fb9f3a"
             ],
             [
              0.8888888888888888,
              "#fdca26"
             ],
             [
              1,
              "#f0f921"
             ]
            ],
            "type": "histogram2d"
           }
          ],
          "histogram2dcontour": [
           {
            "colorbar": {
             "outlinewidth": 0,
             "ticks": ""
            },
            "colorscale": [
             [
              0,
              "#0d0887"
             ],
             [
              0.1111111111111111,
              "#46039f"
             ],
             [
              0.2222222222222222,
              "#7201a8"
             ],
             [
              0.3333333333333333,
              "#9c179e"
             ],
             [
              0.4444444444444444,
              "#bd3786"
             ],
             [
              0.5555555555555556,
              "#d8576b"
             ],
             [
              0.6666666666666666,
              "#ed7953"
             ],
             [
              0.7777777777777778,
              "#fb9f3a"
             ],
             [
              0.8888888888888888,
              "#fdca26"
             ],
             [
              1,
              "#f0f921"
             ]
            ],
            "type": "histogram2dcontour"
           }
          ],
          "mesh3d": [
           {
            "colorbar": {
             "outlinewidth": 0,
             "ticks": ""
            },
            "type": "mesh3d"
           }
          ],
          "parcoords": [
           {
            "line": {
             "colorbar": {
              "outlinewidth": 0,
              "ticks": ""
             }
            },
            "type": "parcoords"
           }
          ],
          "pie": [
           {
            "automargin": true,
            "type": "pie"
           }
          ],
          "scatter": [
           {
            "marker": {
             "colorbar": {
              "outlinewidth": 0,
              "ticks": ""
             }
            },
            "type": "scatter"
           }
          ],
          "scatter3d": [
           {
            "line": {
             "colorbar": {
              "outlinewidth": 0,
              "ticks": ""
             }
            },
            "marker": {
             "colorbar": {
              "outlinewidth": 0,
              "ticks": ""
             }
            },
            "type": "scatter3d"
           }
          ],
          "scattercarpet": [
           {
            "marker": {
             "colorbar": {
              "outlinewidth": 0,
              "ticks": ""
             }
            },
            "type": "scattercarpet"
           }
          ],
          "scattergeo": [
           {
            "marker": {
             "colorbar": {
              "outlinewidth": 0,
              "ticks": ""
             }
            },
            "type": "scattergeo"
           }
          ],
          "scattergl": [
           {
            "marker": {
             "colorbar": {
              "outlinewidth": 0,
              "ticks": ""
             }
            },
            "type": "scattergl"
           }
          ],
          "scattermapbox": [
           {
            "marker": {
             "colorbar": {
              "outlinewidth": 0,
              "ticks": ""
             }
            },
            "type": "scattermapbox"
           }
          ],
          "scatterpolar": [
           {
            "marker": {
             "colorbar": {
              "outlinewidth": 0,
              "ticks": ""
             }
            },
            "type": "scatterpolar"
           }
          ],
          "scatterpolargl": [
           {
            "marker": {
             "colorbar": {
              "outlinewidth": 0,
              "ticks": ""
             }
            },
            "type": "scatterpolargl"
           }
          ],
          "scatterternary": [
           {
            "marker": {
             "colorbar": {
              "outlinewidth": 0,
              "ticks": ""
             }
            },
            "type": "scatterternary"
           }
          ],
          "surface": [
           {
            "colorbar": {
             "outlinewidth": 0,
             "ticks": ""
            },
            "colorscale": [
             [
              0,
              "#0d0887"
             ],
             [
              0.1111111111111111,
              "#46039f"
             ],
             [
              0.2222222222222222,
              "#7201a8"
             ],
             [
              0.3333333333333333,
              "#9c179e"
             ],
             [
              0.4444444444444444,
              "#bd3786"
             ],
             [
              0.5555555555555556,
              "#d8576b"
             ],
             [
              0.6666666666666666,
              "#ed7953"
             ],
             [
              0.7777777777777778,
              "#fb9f3a"
             ],
             [
              0.8888888888888888,
              "#fdca26"
             ],
             [
              1,
              "#f0f921"
             ]
            ],
            "type": "surface"
           }
          ],
          "table": [
           {
            "cells": {
             "fill": {
              "color": "#EBF0F8"
             },
             "line": {
              "color": "white"
             }
            },
            "header": {
             "fill": {
              "color": "#C8D4E3"
             },
             "line": {
              "color": "white"
             }
            },
            "type": "table"
           }
          ]
         },
         "layout": {
          "annotationdefaults": {
           "arrowcolor": "#2a3f5f",
           "arrowhead": 0,
           "arrowwidth": 1
          },
          "autotypenumbers": "strict",
          "coloraxis": {
           "colorbar": {
            "outlinewidth": 0,
            "ticks": ""
           }
          },
          "colorscale": {
           "diverging": [
            [
             0,
             "#8e0152"
            ],
            [
             0.1,
             "#c51b7d"
            ],
            [
             0.2,
             "#de77ae"
            ],
            [
             0.3,
             "#f1b6da"
            ],
            [
             0.4,
             "#fde0ef"
            ],
            [
             0.5,
             "#f7f7f7"
            ],
            [
             0.6,
             "#e6f5d0"
            ],
            [
             0.7,
             "#b8e186"
            ],
            [
             0.8,
             "#7fbc41"
            ],
            [
             0.9,
             "#4d9221"
            ],
            [
             1,
             "#276419"
            ]
           ],
           "sequential": [
            [
             0,
             "#0d0887"
            ],
            [
             0.1111111111111111,
             "#46039f"
            ],
            [
             0.2222222222222222,
             "#7201a8"
            ],
            [
             0.3333333333333333,
             "#9c179e"
            ],
            [
             0.4444444444444444,
             "#bd3786"
            ],
            [
             0.5555555555555556,
             "#d8576b"
            ],
            [
             0.6666666666666666,
             "#ed7953"
            ],
            [
             0.7777777777777778,
             "#fb9f3a"
            ],
            [
             0.8888888888888888,
             "#fdca26"
            ],
            [
             1,
             "#f0f921"
            ]
           ],
           "sequentialminus": [
            [
             0,
             "#0d0887"
            ],
            [
             0.1111111111111111,
             "#46039f"
            ],
            [
             0.2222222222222222,
             "#7201a8"
            ],
            [
             0.3333333333333333,
             "#9c179e"
            ],
            [
             0.4444444444444444,
             "#bd3786"
            ],
            [
             0.5555555555555556,
             "#d8576b"
            ],
            [
             0.6666666666666666,
             "#ed7953"
            ],
            [
             0.7777777777777778,
             "#fb9f3a"
            ],
            [
             0.8888888888888888,
             "#fdca26"
            ],
            [
             1,
             "#f0f921"
            ]
           ]
          },
          "colorway": [
           "#636efa",
           "#EF553B",
           "#00cc96",
           "#ab63fa",
           "#FFA15A",
           "#19d3f3",
           "#FF6692",
           "#B6E880",
           "#FF97FF",
           "#FECB52"
          ],
          "font": {
           "color": "#2a3f5f"
          },
          "geo": {
           "bgcolor": "white",
           "lakecolor": "white",
           "landcolor": "#E5ECF6",
           "showlakes": true,
           "showland": true,
           "subunitcolor": "white"
          },
          "hoverlabel": {
           "align": "left"
          },
          "hovermode": "closest",
          "mapbox": {
           "style": "light"
          },
          "paper_bgcolor": "white",
          "plot_bgcolor": "#E5ECF6",
          "polar": {
           "angularaxis": {
            "gridcolor": "white",
            "linecolor": "white",
            "ticks": ""
           },
           "bgcolor": "#E5ECF6",
           "radialaxis": {
            "gridcolor": "white",
            "linecolor": "white",
            "ticks": ""
           }
          },
          "scene": {
           "xaxis": {
            "backgroundcolor": "#E5ECF6",
            "gridcolor": "white",
            "gridwidth": 2,
            "linecolor": "white",
            "showbackground": true,
            "ticks": "",
            "zerolinecolor": "white"
           },
           "yaxis": {
            "backgroundcolor": "#E5ECF6",
            "gridcolor": "white",
            "gridwidth": 2,
            "linecolor": "white",
            "showbackground": true,
            "ticks": "",
            "zerolinecolor": "white"
           },
           "zaxis": {
            "backgroundcolor": "#E5ECF6",
            "gridcolor": "white",
            "gridwidth": 2,
            "linecolor": "white",
            "showbackground": true,
            "ticks": "",
            "zerolinecolor": "white"
           }
          },
          "shapedefaults": {
           "line": {
            "color": "#2a3f5f"
           }
          },
          "ternary": {
           "aaxis": {
            "gridcolor": "white",
            "linecolor": "white",
            "ticks": ""
           },
           "baxis": {
            "gridcolor": "white",
            "linecolor": "white",
            "ticks": ""
           },
           "bgcolor": "#E5ECF6",
           "caxis": {
            "gridcolor": "white",
            "linecolor": "white",
            "ticks": ""
           }
          },
          "title": {
           "x": 0.05
          },
          "xaxis": {
           "automargin": true,
           "gridcolor": "white",
           "linecolor": "white",
           "ticks": "",
           "title": {
            "standoff": 15
           },
           "zerolinecolor": "white",
           "zerolinewidth": 2
          },
          "yaxis": {
           "automargin": true,
           "gridcolor": "white",
           "linecolor": "white",
           "ticks": "",
           "title": {
            "standoff": 15
           },
           "zerolinecolor": "white",
           "zerolinewidth": 2
          }
         }
        },
        "title": {
         "font": {
          "color": "#4D5663"
         },
         "text": "Top 20 words in comments after removing stop words"
        },
        "xaxis": {
         "gridcolor": "#E1E5ED",
         "linecolor": "black",
         "showgrid": true,
         "tickfont": {
          "color": "#4D5663"
         },
         "title": {
          "font": {
           "color": "#4D5663"
          },
          "text": ""
         },
         "zerolinecolor": "#E1E5ED"
        },
        "yaxis": {
         "gridcolor": "#E1E5ED",
         "linecolor": "black",
         "showgrid": true,
         "tickfont": {
          "color": "#4D5663"
         },
         "title": {
          "font": {
           "color": "#4D5663"
          },
          "text": "Count"
         },
         "zerolinecolor": "#E1E5ED"
        }
       }
      },
      "text/html": [
       "<div>                            <div id=\"2b5e5578-e53f-4b98-bfc3-61e80f6f8331\" class=\"plotly-graph-div\" style=\"height:525px; width:100%;\"></div>            <script type=\"text/javascript\">                require([\"plotly\"], function(Plotly) {                    window.PLOTLYENV=window.PLOTLYENV || {};\n",
       "                    window.PLOTLYENV.BASE_URL='https://plot.ly';                                    if (document.getElementById(\"2b5e5578-e53f-4b98-bfc3-61e80f6f8331\")) {                    Plotly.newPlot(                        \"2b5e5578-e53f-4b98-bfc3-61e80f6f8331\",                        [{\"marker\": {\"color\": \"rgba(255, 153, 51, 0.6)\", \"line\": {\"color\": \"rgba(255, 153, 51, 1.0)\", \"width\": 1}}, \"name\": \"count\", \"orientation\": \"v\", \"text\": \"\", \"type\": \"bar\", \"x\": [\"elon\", \"musk\", \"just\", \"like\", \"man\", \"future\", \"think\", \"people\", \"world\", \"guy\", \"time\", \"mars\", \"earth\", \"tunnels\", \"want\", \"trying\", \"cars\", \"love\", \"tesla\", \"make\"], \"y\": [464, 203, 161, 155, 137, 124, 112, 110, 89, 78, 77, 67, 64, 60, 58, 55, 53, 51, 51, 50]}],                        {\"legend\": {\"bgcolor\": \"#F5F6F9\", \"font\": {\"color\": \"#4D5663\"}}, \"paper_bgcolor\": \"#F5F6F9\", \"plot_bgcolor\": \"#F5F6F9\", \"template\": {\"data\": {\"bar\": [{\"error_x\": {\"color\": \"#2a3f5f\"}, \"error_y\": {\"color\": \"#2a3f5f\"}, \"marker\": {\"line\": {\"color\": \"#E5ECF6\", \"width\": 0.5}}, \"type\": \"bar\"}], \"barpolar\": [{\"marker\": {\"line\": {\"color\": \"#E5ECF6\", \"width\": 0.5}}, \"type\": \"barpolar\"}], \"carpet\": [{\"aaxis\": {\"endlinecolor\": \"#2a3f5f\", \"gridcolor\": \"white\", \"linecolor\": \"white\", \"minorgridcolor\": \"white\", \"startlinecolor\": \"#2a3f5f\"}, \"baxis\": {\"endlinecolor\": \"#2a3f5f\", \"gridcolor\": \"white\", \"linecolor\": \"white\", \"minorgridcolor\": \"white\", \"startlinecolor\": \"#2a3f5f\"}, \"type\": \"carpet\"}], \"choropleth\": [{\"colorbar\": {\"outlinewidth\": 0, \"ticks\": \"\"}, \"type\": \"choropleth\"}], \"contour\": [{\"colorbar\": {\"outlinewidth\": 0, \"ticks\": \"\"}, \"colorscale\": [[0.0, \"#0d0887\"], [0.1111111111111111, \"#46039f\"], [0.2222222222222222, \"#7201a8\"], [0.3333333333333333, \"#9c179e\"], [0.4444444444444444, \"#bd3786\"], [0.5555555555555556, \"#d8576b\"], [0.6666666666666666, \"#ed7953\"], [0.7777777777777778, \"#fb9f3a\"], [0.8888888888888888, \"#fdca26\"], [1.0, \"#f0f921\"]], \"type\": \"contour\"}], \"contourcarpet\": [{\"colorbar\": {\"outlinewidth\": 0, \"ticks\": \"\"}, \"type\": \"contourcarpet\"}], \"heatmap\": [{\"colorbar\": {\"outlinewidth\": 0, \"ticks\": \"\"}, \"colorscale\": [[0.0, \"#0d0887\"], [0.1111111111111111, \"#46039f\"], [0.2222222222222222, \"#7201a8\"], [0.3333333333333333, \"#9c179e\"], [0.4444444444444444, \"#bd3786\"], [0.5555555555555556, \"#d8576b\"], [0.6666666666666666, \"#ed7953\"], [0.7777777777777778, \"#fb9f3a\"], [0.8888888888888888, \"#fdca26\"], [1.0, \"#f0f921\"]], \"type\": \"heatmap\"}], \"heatmapgl\": [{\"colorbar\": {\"outlinewidth\": 0, \"ticks\": \"\"}, \"colorscale\": [[0.0, \"#0d0887\"], [0.1111111111111111, \"#46039f\"], [0.2222222222222222, \"#7201a8\"], [0.3333333333333333, \"#9c179e\"], [0.4444444444444444, \"#bd3786\"], [0.5555555555555556, \"#d8576b\"], [0.6666666666666666, \"#ed7953\"], [0.7777777777777778, \"#fb9f3a\"], [0.8888888888888888, \"#fdca26\"], [1.0, \"#f0f921\"]], \"type\": \"heatmapgl\"}], \"histogram\": [{\"marker\": {\"colorbar\": {\"outlinewidth\": 0, \"ticks\": \"\"}}, \"type\": \"histogram\"}], \"histogram2d\": [{\"colorbar\": {\"outlinewidth\": 0, \"ticks\": \"\"}, \"colorscale\": [[0.0, \"#0d0887\"], [0.1111111111111111, \"#46039f\"], [0.2222222222222222, \"#7201a8\"], [0.3333333333333333, \"#9c179e\"], [0.4444444444444444, \"#bd3786\"], [0.5555555555555556, \"#d8576b\"], [0.6666666666666666, \"#ed7953\"], [0.7777777777777778, \"#fb9f3a\"], [0.8888888888888888, \"#fdca26\"], [1.0, \"#f0f921\"]], \"type\": \"histogram2d\"}], \"histogram2dcontour\": [{\"colorbar\": {\"outlinewidth\": 0, \"ticks\": \"\"}, \"colorscale\": [[0.0, \"#0d0887\"], [0.1111111111111111, \"#46039f\"], [0.2222222222222222, \"#7201a8\"], [0.3333333333333333, \"#9c179e\"], [0.4444444444444444, \"#bd3786\"], [0.5555555555555556, \"#d8576b\"], [0.6666666666666666, \"#ed7953\"], [0.7777777777777778, \"#fb9f3a\"], [0.8888888888888888, \"#fdca26\"], [1.0, \"#f0f921\"]], \"type\": \"histogram2dcontour\"}], \"mesh3d\": [{\"colorbar\": {\"outlinewidth\": 0, \"ticks\": \"\"}, \"type\": \"mesh3d\"}], \"parcoords\": [{\"line\": {\"colorbar\": {\"outlinewidth\": 0, \"ticks\": \"\"}}, \"type\": \"parcoords\"}], \"pie\": [{\"automargin\": true, \"type\": \"pie\"}], \"scatter\": [{\"marker\": {\"colorbar\": {\"outlinewidth\": 0, \"ticks\": \"\"}}, \"type\": \"scatter\"}], \"scatter3d\": [{\"line\": {\"colorbar\": {\"outlinewidth\": 0, \"ticks\": \"\"}}, \"marker\": {\"colorbar\": {\"outlinewidth\": 0, \"ticks\": \"\"}}, \"type\": \"scatter3d\"}], \"scattercarpet\": [{\"marker\": {\"colorbar\": {\"outlinewidth\": 0, \"ticks\": \"\"}}, \"type\": \"scattercarpet\"}], \"scattergeo\": [{\"marker\": {\"colorbar\": {\"outlinewidth\": 0, \"ticks\": \"\"}}, \"type\": \"scattergeo\"}], \"scattergl\": [{\"marker\": {\"colorbar\": {\"outlinewidth\": 0, \"ticks\": \"\"}}, \"type\": \"scattergl\"}], \"scattermapbox\": [{\"marker\": {\"colorbar\": {\"outlinewidth\": 0, \"ticks\": \"\"}}, \"type\": \"scattermapbox\"}], \"scatterpolar\": [{\"marker\": {\"colorbar\": {\"outlinewidth\": 0, \"ticks\": \"\"}}, \"type\": \"scatterpolar\"}], \"scatterpolargl\": [{\"marker\": {\"colorbar\": {\"outlinewidth\": 0, \"ticks\": \"\"}}, \"type\": \"scatterpolargl\"}], \"scatterternary\": [{\"marker\": {\"colorbar\": {\"outlinewidth\": 0, \"ticks\": \"\"}}, \"type\": \"scatterternary\"}], \"surface\": [{\"colorbar\": {\"outlinewidth\": 0, \"ticks\": \"\"}, \"colorscale\": [[0.0, \"#0d0887\"], [0.1111111111111111, \"#46039f\"], [0.2222222222222222, \"#7201a8\"], [0.3333333333333333, \"#9c179e\"], [0.4444444444444444, \"#bd3786\"], [0.5555555555555556, \"#d8576b\"], [0.6666666666666666, \"#ed7953\"], [0.7777777777777778, \"#fb9f3a\"], [0.8888888888888888, \"#fdca26\"], [1.0, \"#f0f921\"]], \"type\": \"surface\"}], \"table\": [{\"cells\": {\"fill\": {\"color\": \"#EBF0F8\"}, \"line\": {\"color\": \"white\"}}, \"header\": {\"fill\": {\"color\": \"#C8D4E3\"}, \"line\": {\"color\": \"white\"}}, \"type\": \"table\"}]}, \"layout\": {\"annotationdefaults\": {\"arrowcolor\": \"#2a3f5f\", \"arrowhead\": 0, \"arrowwidth\": 1}, \"autotypenumbers\": \"strict\", \"coloraxis\": {\"colorbar\": {\"outlinewidth\": 0, \"ticks\": \"\"}}, \"colorscale\": {\"diverging\": [[0, \"#8e0152\"], [0.1, \"#c51b7d\"], [0.2, \"#de77ae\"], [0.3, \"#f1b6da\"], [0.4, \"#fde0ef\"], [0.5, \"#f7f7f7\"], [0.6, \"#e6f5d0\"], [0.7, \"#b8e186\"], [0.8, \"#7fbc41\"], [0.9, \"#4d9221\"], [1, \"#276419\"]], \"sequential\": [[0.0, \"#0d0887\"], [0.1111111111111111, \"#46039f\"], [0.2222222222222222, \"#7201a8\"], [0.3333333333333333, \"#9c179e\"], [0.4444444444444444, \"#bd3786\"], [0.5555555555555556, \"#d8576b\"], [0.6666666666666666, \"#ed7953\"], [0.7777777777777778, \"#fb9f3a\"], [0.8888888888888888, \"#fdca26\"], [1.0, \"#f0f921\"]], \"sequentialminus\": [[0.0, \"#0d0887\"], [0.1111111111111111, \"#46039f\"], [0.2222222222222222, \"#7201a8\"], [0.3333333333333333, \"#9c179e\"], [0.4444444444444444, \"#bd3786\"], [0.5555555555555556, \"#d8576b\"], [0.6666666666666666, \"#ed7953\"], [0.7777777777777778, \"#fb9f3a\"], [0.8888888888888888, \"#fdca26\"], [1.0, \"#f0f921\"]]}, \"colorway\": [\"#636efa\", \"#EF553B\", \"#00cc96\", \"#ab63fa\", \"#FFA15A\", \"#19d3f3\", \"#FF6692\", \"#B6E880\", \"#FF97FF\", \"#FECB52\"], \"font\": {\"color\": \"#2a3f5f\"}, \"geo\": {\"bgcolor\": \"white\", \"lakecolor\": \"white\", \"landcolor\": \"#E5ECF6\", \"showlakes\": true, \"showland\": true, \"subunitcolor\": \"white\"}, \"hoverlabel\": {\"align\": \"left\"}, \"hovermode\": \"closest\", \"mapbox\": {\"style\": \"light\"}, \"paper_bgcolor\": \"white\", \"plot_bgcolor\": \"#E5ECF6\", \"polar\": {\"angularaxis\": {\"gridcolor\": \"white\", \"linecolor\": \"white\", \"ticks\": \"\"}, \"bgcolor\": \"#E5ECF6\", \"radialaxis\": {\"gridcolor\": \"white\", \"linecolor\": \"white\", \"ticks\": \"\"}}, \"scene\": {\"xaxis\": {\"backgroundcolor\": \"#E5ECF6\", \"gridcolor\": \"white\", \"gridwidth\": 2, \"linecolor\": \"white\", \"showbackground\": true, \"ticks\": \"\", \"zerolinecolor\": \"white\"}, \"yaxis\": {\"backgroundcolor\": \"#E5ECF6\", \"gridcolor\": \"white\", \"gridwidth\": 2, \"linecolor\": \"white\", \"showbackground\": true, \"ticks\": \"\", \"zerolinecolor\": \"white\"}, \"zaxis\": {\"backgroundcolor\": \"#E5ECF6\", \"gridcolor\": \"white\", \"gridwidth\": 2, \"linecolor\": \"white\", \"showbackground\": true, \"ticks\": \"\", \"zerolinecolor\": \"white\"}}, \"shapedefaults\": {\"line\": {\"color\": \"#2a3f5f\"}}, \"ternary\": {\"aaxis\": {\"gridcolor\": \"white\", \"linecolor\": \"white\", \"ticks\": \"\"}, \"baxis\": {\"gridcolor\": \"white\", \"linecolor\": \"white\", \"ticks\": \"\"}, \"bgcolor\": \"#E5ECF6\", \"caxis\": {\"gridcolor\": \"white\", \"linecolor\": \"white\", \"ticks\": \"\"}}, \"title\": {\"x\": 0.05}, \"xaxis\": {\"automargin\": true, \"gridcolor\": \"white\", \"linecolor\": \"white\", \"ticks\": \"\", \"title\": {\"standoff\": 15}, \"zerolinecolor\": \"white\", \"zerolinewidth\": 2}, \"yaxis\": {\"automargin\": true, \"gridcolor\": \"white\", \"linecolor\": \"white\", \"ticks\": \"\", \"title\": {\"standoff\": 15}, \"zerolinecolor\": \"white\", \"zerolinewidth\": 2}}}, \"title\": {\"font\": {\"color\": \"#4D5663\"}, \"text\": \"Top 20 words in comments after removing stop words\"}, \"xaxis\": {\"gridcolor\": \"#E1E5ED\", \"linecolor\": \"black\", \"showgrid\": true, \"tickfont\": {\"color\": \"#4D5663\"}, \"title\": {\"font\": {\"color\": \"#4D5663\"}, \"text\": \"\"}, \"zerolinecolor\": \"#E1E5ED\"}, \"yaxis\": {\"gridcolor\": \"#E1E5ED\", \"linecolor\": \"black\", \"showgrid\": true, \"tickfont\": {\"color\": \"#4D5663\"}, \"title\": {\"font\": {\"color\": \"#4D5663\"}, \"text\": \"Count\"}, \"zerolinecolor\": \"#E1E5ED\"}},                        {\"showLink\": true, \"linkText\": \"Export to plot.ly\", \"plotlyServerURL\": \"https://plot.ly\", \"responsive\": true}                    ).then(function(){\n",
       "                            \n",
       "var gd = document.getElementById('2b5e5578-e53f-4b98-bfc3-61e80f6f8331');\n",
       "var x = new MutationObserver(function (mutations, observer) {{\n",
       "        var display = window.getComputedStyle(gd).display;\n",
       "        if (!display || display === 'none') {{\n",
       "            console.log([gd, 'removed!']);\n",
       "            Plotly.purge(gd);\n",
       "            observer.disconnect();\n",
       "        }}\n",
       "}});\n",
       "\n",
       "// Listen for the removal of the full notebook cells\n",
       "var notebookContainer = gd.closest('#notebook-container');\n",
       "if (notebookContainer) {{\n",
       "    x.observe(notebookContainer, {childList: true});\n",
       "}}\n",
       "\n",
       "// Listen for the clearing of the current output cell\n",
       "var outputEl = gd.closest('.output');\n",
       "if (outputEl) {{\n",
       "    x.observe(outputEl, {childList: true});\n",
       "}}\n",
       "\n",
       "                        })                };                });            </script>        </div>"
      ]
     },
     "metadata": {},
     "output_type": "display_data"
    }
   ],
   "source": [
    "df2.groupby('ReviewText').sum()['count'].sort_values(ascending=False).iplot(\n",
    "     kind='bar', yTitle='Count', linecolor='black', title='Top 20 words in comments after removing stop words')"
   ]
  },
  {
   "cell_type": "markdown",
   "metadata": {},
   "source": [
    "#Top bigrams after removing stop words"
   ]
  },
  {
   "cell_type": "code",
   "execution_count": 24,
   "metadata": {},
   "outputs": [
    {
     "name": "stdout",
     "output_type": "stream",
     "text": [
      "elon musk 178\n",
      "think future 34\n",
      "future sad 31\n",
      "tony stark 26\n",
      "richest man 25\n",
      "just trying 22\n",
      "trying think 20\n",
      "slowed version 19\n",
      "real life 17\n",
      "flying cars 16\n",
      "sad elon 15\n",
      "world richest 12\n",
      "elon just 11\n",
      "gary snail 11\n",
      "years ago 11\n",
      "life tony 11\n",
      "time elon 10\n",
      "change world 10\n",
      "ted talk 10\n",
      "feel like 9\n"
     ]
    }
   ],
   "source": [
    "def get_top_n_bigram(corpus, n=None):\n",
    "    vec = CountVectorizer(ngram_range=(2, 2), stop_words='english').fit(corpus)\n",
    "    bag_of_words = vec.transform(corpus)\n",
    "    sum_words = bag_of_words.sum(axis=0) \n",
    "    words_freq = [(word, sum_words[0, idx]) for word, idx in vec.vocabulary_.items()]\n",
    "    words_freq =sorted(words_freq, key = lambda x: x[1], reverse=True)\n",
    "    return words_freq[:n]\n",
    "common_words = get_top_n_bigram(df['Review Text'], 20)\n",
    "for word, freq in common_words:\n",
    "    print(word, freq)\n",
    "df4 = pd.DataFrame(common_words, columns = ['ReviewText' , 'count'])"
   ]
  },
  {
   "cell_type": "code",
   "execution_count": 25,
   "metadata": {},
   "outputs": [
    {
     "data": {
      "application/vnd.plotly.v1+json": {
       "config": {
        "linkText": "Export to plot.ly",
        "plotlyServerURL": "https://plot.ly",
        "showLink": true
       },
       "data": [
        {
         "marker": {
          "color": "rgba(255, 153, 51, 0.6)",
          "line": {
           "color": "rgba(255, 153, 51, 1.0)",
           "width": 1
          }
         },
         "name": "count",
         "orientation": "v",
         "text": "",
         "type": "bar",
         "x": [
          "elon musk",
          "think future",
          "future sad",
          "tony stark",
          "richest man",
          "just trying",
          "trying think",
          "slowed version",
          "real life",
          "flying cars",
          "sad elon",
          "world richest",
          "elon just",
          "years ago",
          "gary snail",
          "life tony",
          "ted talk",
          "time elon",
          "change world",
          "feel like"
         ],
         "y": [
          178,
          34,
          31,
          26,
          25,
          22,
          20,
          19,
          17,
          16,
          15,
          12,
          11,
          11,
          11,
          11,
          10,
          10,
          10,
          9
         ]
        }
       ],
       "layout": {
        "legend": {
         "bgcolor": "#F5F6F9",
         "font": {
          "color": "#4D5663"
         }
        },
        "paper_bgcolor": "#F5F6F9",
        "plot_bgcolor": "#F5F6F9",
        "template": {
         "data": {
          "bar": [
           {
            "error_x": {
             "color": "#2a3f5f"
            },
            "error_y": {
             "color": "#2a3f5f"
            },
            "marker": {
             "line": {
              "color": "#E5ECF6",
              "width": 0.5
             }
            },
            "type": "bar"
           }
          ],
          "barpolar": [
           {
            "marker": {
             "line": {
              "color": "#E5ECF6",
              "width": 0.5
             }
            },
            "type": "barpolar"
           }
          ],
          "carpet": [
           {
            "aaxis": {
             "endlinecolor": "#2a3f5f",
             "gridcolor": "white",
             "linecolor": "white",
             "minorgridcolor": "white",
             "startlinecolor": "#2a3f5f"
            },
            "baxis": {
             "endlinecolor": "#2a3f5f",
             "gridcolor": "white",
             "linecolor": "white",
             "minorgridcolor": "white",
             "startlinecolor": "#2a3f5f"
            },
            "type": "carpet"
           }
          ],
          "choropleth": [
           {
            "colorbar": {
             "outlinewidth": 0,
             "ticks": ""
            },
            "type": "choropleth"
           }
          ],
          "contour": [
           {
            "colorbar": {
             "outlinewidth": 0,
             "ticks": ""
            },
            "colorscale": [
             [
              0,
              "#0d0887"
             ],
             [
              0.1111111111111111,
              "#46039f"
             ],
             [
              0.2222222222222222,
              "#7201a8"
             ],
             [
              0.3333333333333333,
              "#9c179e"
             ],
             [
              0.4444444444444444,
              "#bd3786"
             ],
             [
              0.5555555555555556,
              "#d8576b"
             ],
             [
              0.6666666666666666,
              "#ed7953"
             ],
             [
              0.7777777777777778,
              "#fb9f3a"
             ],
             [
              0.8888888888888888,
              "#fdca26"
             ],
             [
              1,
              "#f0f921"
             ]
            ],
            "type": "contour"
           }
          ],
          "contourcarpet": [
           {
            "colorbar": {
             "outlinewidth": 0,
             "ticks": ""
            },
            "type": "contourcarpet"
           }
          ],
          "heatmap": [
           {
            "colorbar": {
             "outlinewidth": 0,
             "ticks": ""
            },
            "colorscale": [
             [
              0,
              "#0d0887"
             ],
             [
              0.1111111111111111,
              "#46039f"
             ],
             [
              0.2222222222222222,
              "#7201a8"
             ],
             [
              0.3333333333333333,
              "#9c179e"
             ],
             [
              0.4444444444444444,
              "#bd3786"
             ],
             [
              0.5555555555555556,
              "#d8576b"
             ],
             [
              0.6666666666666666,
              "#ed7953"
             ],
             [
              0.7777777777777778,
              "#fb9f3a"
             ],
             [
              0.8888888888888888,
              "#fdca26"
             ],
             [
              1,
              "#f0f921"
             ]
            ],
            "type": "heatmap"
           }
          ],
          "heatmapgl": [
           {
            "colorbar": {
             "outlinewidth": 0,
             "ticks": ""
            },
            "colorscale": [
             [
              0,
              "#0d0887"
             ],
             [
              0.1111111111111111,
              "#46039f"
             ],
             [
              0.2222222222222222,
              "#7201a8"
             ],
             [
              0.3333333333333333,
              "#9c179e"
             ],
             [
              0.4444444444444444,
              "#bd3786"
             ],
             [
              0.5555555555555556,
              "#d8576b"
             ],
             [
              0.6666666666666666,
              "#ed7953"
             ],
             [
              0.7777777777777778,
              "#fb9f3a"
             ],
             [
              0.8888888888888888,
              "#fdca26"
             ],
             [
              1,
              "#f0f921"
             ]
            ],
            "type": "heatmapgl"
           }
          ],
          "histogram": [
           {
            "marker": {
             "colorbar": {
              "outlinewidth": 0,
              "ticks": ""
             }
            },
            "type": "histogram"
           }
          ],
          "histogram2d": [
           {
            "colorbar": {
             "outlinewidth": 0,
             "ticks": ""
            },
            "colorscale": [
             [
              0,
              "#0d0887"
             ],
             [
              0.1111111111111111,
              "#46039f"
             ],
             [
              0.2222222222222222,
              "#7201a8"
             ],
             [
              0.3333333333333333,
              "#9c179e"
             ],
             [
              0.4444444444444444,
              "#bd3786"
             ],
             [
              0.5555555555555556,
              "#d8576b"
             ],
             [
              0.6666666666666666,
              "#ed7953"
             ],
             [
              0.7777777777777778,
              "#fb9f3a"
             ],
             [
              0.8888888888888888,
              "#fdca26"
             ],
             [
              1,
              "#f0f921"
             ]
            ],
            "type": "histogram2d"
           }
          ],
          "histogram2dcontour": [
           {
            "colorbar": {
             "outlinewidth": 0,
             "ticks": ""
            },
            "colorscale": [
             [
              0,
              "#0d0887"
             ],
             [
              0.1111111111111111,
              "#46039f"
             ],
             [
              0.2222222222222222,
              "#7201a8"
             ],
             [
              0.3333333333333333,
              "#9c179e"
             ],
             [
              0.4444444444444444,
              "#bd3786"
             ],
             [
              0.5555555555555556,
              "#d8576b"
             ],
             [
              0.6666666666666666,
              "#ed7953"
             ],
             [
              0.7777777777777778,
              "#fb9f3a"
             ],
             [
              0.8888888888888888,
              "#fdca26"
             ],
             [
              1,
              "#f0f921"
             ]
            ],
            "type": "histogram2dcontour"
           }
          ],
          "mesh3d": [
           {
            "colorbar": {
             "outlinewidth": 0,
             "ticks": ""
            },
            "type": "mesh3d"
           }
          ],
          "parcoords": [
           {
            "line": {
             "colorbar": {
              "outlinewidth": 0,
              "ticks": ""
             }
            },
            "type": "parcoords"
           }
          ],
          "pie": [
           {
            "automargin": true,
            "type": "pie"
           }
          ],
          "scatter": [
           {
            "marker": {
             "colorbar": {
              "outlinewidth": 0,
              "ticks": ""
             }
            },
            "type": "scatter"
           }
          ],
          "scatter3d": [
           {
            "line": {
             "colorbar": {
              "outlinewidth": 0,
              "ticks": ""
             }
            },
            "marker": {
             "colorbar": {
              "outlinewidth": 0,
              "ticks": ""
             }
            },
            "type": "scatter3d"
           }
          ],
          "scattercarpet": [
           {
            "marker": {
             "colorbar": {
              "outlinewidth": 0,
              "ticks": ""
             }
            },
            "type": "scattercarpet"
           }
          ],
          "scattergeo": [
           {
            "marker": {
             "colorbar": {
              "outlinewidth": 0,
              "ticks": ""
             }
            },
            "type": "scattergeo"
           }
          ],
          "scattergl": [
           {
            "marker": {
             "colorbar": {
              "outlinewidth": 0,
              "ticks": ""
             }
            },
            "type": "scattergl"
           }
          ],
          "scattermapbox": [
           {
            "marker": {
             "colorbar": {
              "outlinewidth": 0,
              "ticks": ""
             }
            },
            "type": "scattermapbox"
           }
          ],
          "scatterpolar": [
           {
            "marker": {
             "colorbar": {
              "outlinewidth": 0,
              "ticks": ""
             }
            },
            "type": "scatterpolar"
           }
          ],
          "scatterpolargl": [
           {
            "marker": {
             "colorbar": {
              "outlinewidth": 0,
              "ticks": ""
             }
            },
            "type": "scatterpolargl"
           }
          ],
          "scatterternary": [
           {
            "marker": {
             "colorbar": {
              "outlinewidth": 0,
              "ticks": ""
             }
            },
            "type": "scatterternary"
           }
          ],
          "surface": [
           {
            "colorbar": {
             "outlinewidth": 0,
             "ticks": ""
            },
            "colorscale": [
             [
              0,
              "#0d0887"
             ],
             [
              0.1111111111111111,
              "#46039f"
             ],
             [
              0.2222222222222222,
              "#7201a8"
             ],
             [
              0.3333333333333333,
              "#9c179e"
             ],
             [
              0.4444444444444444,
              "#bd3786"
             ],
             [
              0.5555555555555556,
              "#d8576b"
             ],
             [
              0.6666666666666666,
              "#ed7953"
             ],
             [
              0.7777777777777778,
              "#fb9f3a"
             ],
             [
              0.8888888888888888,
              "#fdca26"
             ],
             [
              1,
              "#f0f921"
             ]
            ],
            "type": "surface"
           }
          ],
          "table": [
           {
            "cells": {
             "fill": {
              "color": "#EBF0F8"
             },
             "line": {
              "color": "white"
             }
            },
            "header": {
             "fill": {
              "color": "#C8D4E3"
             },
             "line": {
              "color": "white"
             }
            },
            "type": "table"
           }
          ]
         },
         "layout": {
          "annotationdefaults": {
           "arrowcolor": "#2a3f5f",
           "arrowhead": 0,
           "arrowwidth": 1
          },
          "autotypenumbers": "strict",
          "coloraxis": {
           "colorbar": {
            "outlinewidth": 0,
            "ticks": ""
           }
          },
          "colorscale": {
           "diverging": [
            [
             0,
             "#8e0152"
            ],
            [
             0.1,
             "#c51b7d"
            ],
            [
             0.2,
             "#de77ae"
            ],
            [
             0.3,
             "#f1b6da"
            ],
            [
             0.4,
             "#fde0ef"
            ],
            [
             0.5,
             "#f7f7f7"
            ],
            [
             0.6,
             "#e6f5d0"
            ],
            [
             0.7,
             "#b8e186"
            ],
            [
             0.8,
             "#7fbc41"
            ],
            [
             0.9,
             "#4d9221"
            ],
            [
             1,
             "#276419"
            ]
           ],
           "sequential": [
            [
             0,
             "#0d0887"
            ],
            [
             0.1111111111111111,
             "#46039f"
            ],
            [
             0.2222222222222222,
             "#7201a8"
            ],
            [
             0.3333333333333333,
             "#9c179e"
            ],
            [
             0.4444444444444444,
             "#bd3786"
            ],
            [
             0.5555555555555556,
             "#d8576b"
            ],
            [
             0.6666666666666666,
             "#ed7953"
            ],
            [
             0.7777777777777778,
             "#fb9f3a"
            ],
            [
             0.8888888888888888,
             "#fdca26"
            ],
            [
             1,
             "#f0f921"
            ]
           ],
           "sequentialminus": [
            [
             0,
             "#0d0887"
            ],
            [
             0.1111111111111111,
             "#46039f"
            ],
            [
             0.2222222222222222,
             "#7201a8"
            ],
            [
             0.3333333333333333,
             "#9c179e"
            ],
            [
             0.4444444444444444,
             "#bd3786"
            ],
            [
             0.5555555555555556,
             "#d8576b"
            ],
            [
             0.6666666666666666,
             "#ed7953"
            ],
            [
             0.7777777777777778,
             "#fb9f3a"
            ],
            [
             0.8888888888888888,
             "#fdca26"
            ],
            [
             1,
             "#f0f921"
            ]
           ]
          },
          "colorway": [
           "#636efa",
           "#EF553B",
           "#00cc96",
           "#ab63fa",
           "#FFA15A",
           "#19d3f3",
           "#FF6692",
           "#B6E880",
           "#FF97FF",
           "#FECB52"
          ],
          "font": {
           "color": "#2a3f5f"
          },
          "geo": {
           "bgcolor": "white",
           "lakecolor": "white",
           "landcolor": "#E5ECF6",
           "showlakes": true,
           "showland": true,
           "subunitcolor": "white"
          },
          "hoverlabel": {
           "align": "left"
          },
          "hovermode": "closest",
          "mapbox": {
           "style": "light"
          },
          "paper_bgcolor": "white",
          "plot_bgcolor": "#E5ECF6",
          "polar": {
           "angularaxis": {
            "gridcolor": "white",
            "linecolor": "white",
            "ticks": ""
           },
           "bgcolor": "#E5ECF6",
           "radialaxis": {
            "gridcolor": "white",
            "linecolor": "white",
            "ticks": ""
           }
          },
          "scene": {
           "xaxis": {
            "backgroundcolor": "#E5ECF6",
            "gridcolor": "white",
            "gridwidth": 2,
            "linecolor": "white",
            "showbackground": true,
            "ticks": "",
            "zerolinecolor": "white"
           },
           "yaxis": {
            "backgroundcolor": "#E5ECF6",
            "gridcolor": "white",
            "gridwidth": 2,
            "linecolor": "white",
            "showbackground": true,
            "ticks": "",
            "zerolinecolor": "white"
           },
           "zaxis": {
            "backgroundcolor": "#E5ECF6",
            "gridcolor": "white",
            "gridwidth": 2,
            "linecolor": "white",
            "showbackground": true,
            "ticks": "",
            "zerolinecolor": "white"
           }
          },
          "shapedefaults": {
           "line": {
            "color": "#2a3f5f"
           }
          },
          "ternary": {
           "aaxis": {
            "gridcolor": "white",
            "linecolor": "white",
            "ticks": ""
           },
           "baxis": {
            "gridcolor": "white",
            "linecolor": "white",
            "ticks": ""
           },
           "bgcolor": "#E5ECF6",
           "caxis": {
            "gridcolor": "white",
            "linecolor": "white",
            "ticks": ""
           }
          },
          "title": {
           "x": 0.05
          },
          "xaxis": {
           "automargin": true,
           "gridcolor": "white",
           "linecolor": "white",
           "ticks": "",
           "title": {
            "standoff": 15
           },
           "zerolinecolor": "white",
           "zerolinewidth": 2
          },
          "yaxis": {
           "automargin": true,
           "gridcolor": "white",
           "linecolor": "white",
           "ticks": "",
           "title": {
            "standoff": 15
           },
           "zerolinecolor": "white",
           "zerolinewidth": 2
          }
         }
        },
        "title": {
         "font": {
          "color": "#4D5663"
         },
         "text": "Top 20 Bigrams in comments after removing stop words"
        },
        "xaxis": {
         "gridcolor": "#E1E5ED",
         "linecolor": "black",
         "showgrid": true,
         "tickfont": {
          "color": "#4D5663"
         },
         "title": {
          "font": {
           "color": "#4D5663"
          },
          "text": ""
         },
         "zerolinecolor": "#E1E5ED"
        },
        "yaxis": {
         "gridcolor": "#E1E5ED",
         "linecolor": "black",
         "showgrid": true,
         "tickfont": {
          "color": "#4D5663"
         },
         "title": {
          "font": {
           "color": "#4D5663"
          },
          "text": "Count"
         },
         "zerolinecolor": "#E1E5ED"
        }
       }
      },
      "text/html": [
       "<div>                            <div id=\"71e00072-1f1d-462d-8e0b-4d0775f61fd8\" class=\"plotly-graph-div\" style=\"height:525px; width:100%;\"></div>            <script type=\"text/javascript\">                require([\"plotly\"], function(Plotly) {                    window.PLOTLYENV=window.PLOTLYENV || {};\n",
       "                    window.PLOTLYENV.BASE_URL='https://plot.ly';                                    if (document.getElementById(\"71e00072-1f1d-462d-8e0b-4d0775f61fd8\")) {                    Plotly.newPlot(                        \"71e00072-1f1d-462d-8e0b-4d0775f61fd8\",                        [{\"marker\": {\"color\": \"rgba(255, 153, 51, 0.6)\", \"line\": {\"color\": \"rgba(255, 153, 51, 1.0)\", \"width\": 1}}, \"name\": \"count\", \"orientation\": \"v\", \"text\": \"\", \"type\": \"bar\", \"x\": [\"elon musk\", \"think future\", \"future sad\", \"tony stark\", \"richest man\", \"just trying\", \"trying think\", \"slowed version\", \"real life\", \"flying cars\", \"sad elon\", \"world richest\", \"elon just\", \"years ago\", \"gary snail\", \"life tony\", \"ted talk\", \"time elon\", \"change world\", \"feel like\"], \"y\": [178, 34, 31, 26, 25, 22, 20, 19, 17, 16, 15, 12, 11, 11, 11, 11, 10, 10, 10, 9]}],                        {\"legend\": {\"bgcolor\": \"#F5F6F9\", \"font\": {\"color\": \"#4D5663\"}}, \"paper_bgcolor\": \"#F5F6F9\", \"plot_bgcolor\": \"#F5F6F9\", \"template\": {\"data\": {\"bar\": [{\"error_x\": {\"color\": \"#2a3f5f\"}, \"error_y\": {\"color\": \"#2a3f5f\"}, \"marker\": {\"line\": {\"color\": \"#E5ECF6\", \"width\": 0.5}}, \"type\": \"bar\"}], \"barpolar\": [{\"marker\": {\"line\": {\"color\": \"#E5ECF6\", \"width\": 0.5}}, \"type\": \"barpolar\"}], \"carpet\": [{\"aaxis\": {\"endlinecolor\": \"#2a3f5f\", \"gridcolor\": \"white\", \"linecolor\": \"white\", \"minorgridcolor\": \"white\", \"startlinecolor\": \"#2a3f5f\"}, \"baxis\": {\"endlinecolor\": \"#2a3f5f\", \"gridcolor\": \"white\", \"linecolor\": \"white\", \"minorgridcolor\": \"white\", \"startlinecolor\": \"#2a3f5f\"}, \"type\": \"carpet\"}], \"choropleth\": [{\"colorbar\": {\"outlinewidth\": 0, \"ticks\": \"\"}, \"type\": \"choropleth\"}], \"contour\": [{\"colorbar\": {\"outlinewidth\": 0, \"ticks\": \"\"}, \"colorscale\": [[0.0, \"#0d0887\"], [0.1111111111111111, \"#46039f\"], [0.2222222222222222, \"#7201a8\"], [0.3333333333333333, \"#9c179e\"], [0.4444444444444444, \"#bd3786\"], [0.5555555555555556, \"#d8576b\"], [0.6666666666666666, \"#ed7953\"], [0.7777777777777778, \"#fb9f3a\"], [0.8888888888888888, \"#fdca26\"], [1.0, \"#f0f921\"]], \"type\": \"contour\"}], \"contourcarpet\": [{\"colorbar\": {\"outlinewidth\": 0, \"ticks\": \"\"}, \"type\": \"contourcarpet\"}], \"heatmap\": [{\"colorbar\": {\"outlinewidth\": 0, \"ticks\": \"\"}, \"colorscale\": [[0.0, \"#0d0887\"], [0.1111111111111111, \"#46039f\"], [0.2222222222222222, \"#7201a8\"], [0.3333333333333333, \"#9c179e\"], [0.4444444444444444, \"#bd3786\"], [0.5555555555555556, \"#d8576b\"], [0.6666666666666666, \"#ed7953\"], [0.7777777777777778, \"#fb9f3a\"], [0.8888888888888888, \"#fdca26\"], [1.0, \"#f0f921\"]], \"type\": \"heatmap\"}], \"heatmapgl\": [{\"colorbar\": {\"outlinewidth\": 0, \"ticks\": \"\"}, \"colorscale\": [[0.0, \"#0d0887\"], [0.1111111111111111, \"#46039f\"], [0.2222222222222222, \"#7201a8\"], [0.3333333333333333, \"#9c179e\"], [0.4444444444444444, \"#bd3786\"], [0.5555555555555556, \"#d8576b\"], [0.6666666666666666, \"#ed7953\"], [0.7777777777777778, \"#fb9f3a\"], [0.8888888888888888, \"#fdca26\"], [1.0, \"#f0f921\"]], \"type\": \"heatmapgl\"}], \"histogram\": [{\"marker\": {\"colorbar\": {\"outlinewidth\": 0, \"ticks\": \"\"}}, \"type\": \"histogram\"}], \"histogram2d\": [{\"colorbar\": {\"outlinewidth\": 0, \"ticks\": \"\"}, \"colorscale\": [[0.0, \"#0d0887\"], [0.1111111111111111, \"#46039f\"], [0.2222222222222222, \"#7201a8\"], [0.3333333333333333, \"#9c179e\"], [0.4444444444444444, \"#bd3786\"], [0.5555555555555556, \"#d8576b\"], [0.6666666666666666, \"#ed7953\"], [0.7777777777777778, \"#fb9f3a\"], [0.8888888888888888, \"#fdca26\"], [1.0, \"#f0f921\"]], \"type\": \"histogram2d\"}], \"histogram2dcontour\": [{\"colorbar\": {\"outlinewidth\": 0, \"ticks\": \"\"}, \"colorscale\": [[0.0, \"#0d0887\"], [0.1111111111111111, \"#46039f\"], [0.2222222222222222, \"#7201a8\"], [0.3333333333333333, \"#9c179e\"], [0.4444444444444444, \"#bd3786\"], [0.5555555555555556, \"#d8576b\"], [0.6666666666666666, \"#ed7953\"], [0.7777777777777778, \"#fb9f3a\"], [0.8888888888888888, \"#fdca26\"], [1.0, \"#f0f921\"]], \"type\": \"histogram2dcontour\"}], \"mesh3d\": [{\"colorbar\": {\"outlinewidth\": 0, \"ticks\": \"\"}, \"type\": \"mesh3d\"}], \"parcoords\": [{\"line\": {\"colorbar\": {\"outlinewidth\": 0, \"ticks\": \"\"}}, \"type\": \"parcoords\"}], \"pie\": [{\"automargin\": true, \"type\": \"pie\"}], \"scatter\": [{\"marker\": {\"colorbar\": {\"outlinewidth\": 0, \"ticks\": \"\"}}, \"type\": \"scatter\"}], \"scatter3d\": [{\"line\": {\"colorbar\": {\"outlinewidth\": 0, \"ticks\": \"\"}}, \"marker\": {\"colorbar\": {\"outlinewidth\": 0, \"ticks\": \"\"}}, \"type\": \"scatter3d\"}], \"scattercarpet\": [{\"marker\": {\"colorbar\": {\"outlinewidth\": 0, \"ticks\": \"\"}}, \"type\": \"scattercarpet\"}], \"scattergeo\": [{\"marker\": {\"colorbar\": {\"outlinewidth\": 0, \"ticks\": \"\"}}, \"type\": \"scattergeo\"}], \"scattergl\": [{\"marker\": {\"colorbar\": {\"outlinewidth\": 0, \"ticks\": \"\"}}, \"type\": \"scattergl\"}], \"scattermapbox\": [{\"marker\": {\"colorbar\": {\"outlinewidth\": 0, \"ticks\": \"\"}}, \"type\": \"scattermapbox\"}], \"scatterpolar\": [{\"marker\": {\"colorbar\": {\"outlinewidth\": 0, \"ticks\": \"\"}}, \"type\": \"scatterpolar\"}], \"scatterpolargl\": [{\"marker\": {\"colorbar\": {\"outlinewidth\": 0, \"ticks\": \"\"}}, \"type\": \"scatterpolargl\"}], \"scatterternary\": [{\"marker\": {\"colorbar\": {\"outlinewidth\": 0, \"ticks\": \"\"}}, \"type\": \"scatterternary\"}], \"surface\": [{\"colorbar\": {\"outlinewidth\": 0, \"ticks\": \"\"}, \"colorscale\": [[0.0, \"#0d0887\"], [0.1111111111111111, \"#46039f\"], [0.2222222222222222, \"#7201a8\"], [0.3333333333333333, \"#9c179e\"], [0.4444444444444444, \"#bd3786\"], [0.5555555555555556, \"#d8576b\"], [0.6666666666666666, \"#ed7953\"], [0.7777777777777778, \"#fb9f3a\"], [0.8888888888888888, \"#fdca26\"], [1.0, \"#f0f921\"]], \"type\": \"surface\"}], \"table\": [{\"cells\": {\"fill\": {\"color\": \"#EBF0F8\"}, \"line\": {\"color\": \"white\"}}, \"header\": {\"fill\": {\"color\": \"#C8D4E3\"}, \"line\": {\"color\": \"white\"}}, \"type\": \"table\"}]}, \"layout\": {\"annotationdefaults\": {\"arrowcolor\": \"#2a3f5f\", \"arrowhead\": 0, \"arrowwidth\": 1}, \"autotypenumbers\": \"strict\", \"coloraxis\": {\"colorbar\": {\"outlinewidth\": 0, \"ticks\": \"\"}}, \"colorscale\": {\"diverging\": [[0, \"#8e0152\"], [0.1, \"#c51b7d\"], [0.2, \"#de77ae\"], [0.3, \"#f1b6da\"], [0.4, \"#fde0ef\"], [0.5, \"#f7f7f7\"], [0.6, \"#e6f5d0\"], [0.7, \"#b8e186\"], [0.8, \"#7fbc41\"], [0.9, \"#4d9221\"], [1, \"#276419\"]], \"sequential\": [[0.0, \"#0d0887\"], [0.1111111111111111, \"#46039f\"], [0.2222222222222222, \"#7201a8\"], [0.3333333333333333, \"#9c179e\"], [0.4444444444444444, \"#bd3786\"], [0.5555555555555556, \"#d8576b\"], [0.6666666666666666, \"#ed7953\"], [0.7777777777777778, \"#fb9f3a\"], [0.8888888888888888, \"#fdca26\"], [1.0, \"#f0f921\"]], \"sequentialminus\": [[0.0, \"#0d0887\"], [0.1111111111111111, \"#46039f\"], [0.2222222222222222, \"#7201a8\"], [0.3333333333333333, \"#9c179e\"], [0.4444444444444444, \"#bd3786\"], [0.5555555555555556, \"#d8576b\"], [0.6666666666666666, \"#ed7953\"], [0.7777777777777778, \"#fb9f3a\"], [0.8888888888888888, \"#fdca26\"], [1.0, \"#f0f921\"]]}, \"colorway\": [\"#636efa\", \"#EF553B\", \"#00cc96\", \"#ab63fa\", \"#FFA15A\", \"#19d3f3\", \"#FF6692\", \"#B6E880\", \"#FF97FF\", \"#FECB52\"], \"font\": {\"color\": \"#2a3f5f\"}, \"geo\": {\"bgcolor\": \"white\", \"lakecolor\": \"white\", \"landcolor\": \"#E5ECF6\", \"showlakes\": true, \"showland\": true, \"subunitcolor\": \"white\"}, \"hoverlabel\": {\"align\": \"left\"}, \"hovermode\": \"closest\", \"mapbox\": {\"style\": \"light\"}, \"paper_bgcolor\": \"white\", \"plot_bgcolor\": \"#E5ECF6\", \"polar\": {\"angularaxis\": {\"gridcolor\": \"white\", \"linecolor\": \"white\", \"ticks\": \"\"}, \"bgcolor\": \"#E5ECF6\", \"radialaxis\": {\"gridcolor\": \"white\", \"linecolor\": \"white\", \"ticks\": \"\"}}, \"scene\": {\"xaxis\": {\"backgroundcolor\": \"#E5ECF6\", \"gridcolor\": \"white\", \"gridwidth\": 2, \"linecolor\": \"white\", \"showbackground\": true, \"ticks\": \"\", \"zerolinecolor\": \"white\"}, \"yaxis\": {\"backgroundcolor\": \"#E5ECF6\", \"gridcolor\": \"white\", \"gridwidth\": 2, \"linecolor\": \"white\", \"showbackground\": true, \"ticks\": \"\", \"zerolinecolor\": \"white\"}, \"zaxis\": {\"backgroundcolor\": \"#E5ECF6\", \"gridcolor\": \"white\", \"gridwidth\": 2, \"linecolor\": \"white\", \"showbackground\": true, \"ticks\": \"\", \"zerolinecolor\": \"white\"}}, \"shapedefaults\": {\"line\": {\"color\": \"#2a3f5f\"}}, \"ternary\": {\"aaxis\": {\"gridcolor\": \"white\", \"linecolor\": \"white\", \"ticks\": \"\"}, \"baxis\": {\"gridcolor\": \"white\", \"linecolor\": \"white\", \"ticks\": \"\"}, \"bgcolor\": \"#E5ECF6\", \"caxis\": {\"gridcolor\": \"white\", \"linecolor\": \"white\", \"ticks\": \"\"}}, \"title\": {\"x\": 0.05}, \"xaxis\": {\"automargin\": true, \"gridcolor\": \"white\", \"linecolor\": \"white\", \"ticks\": \"\", \"title\": {\"standoff\": 15}, \"zerolinecolor\": \"white\", \"zerolinewidth\": 2}, \"yaxis\": {\"automargin\": true, \"gridcolor\": \"white\", \"linecolor\": \"white\", \"ticks\": \"\", \"title\": {\"standoff\": 15}, \"zerolinecolor\": \"white\", \"zerolinewidth\": 2}}}, \"title\": {\"font\": {\"color\": \"#4D5663\"}, \"text\": \"Top 20 Bigrams in comments after removing stop words\"}, \"xaxis\": {\"gridcolor\": \"#E1E5ED\", \"linecolor\": \"black\", \"showgrid\": true, \"tickfont\": {\"color\": \"#4D5663\"}, \"title\": {\"font\": {\"color\": \"#4D5663\"}, \"text\": \"\"}, \"zerolinecolor\": \"#E1E5ED\"}, \"yaxis\": {\"gridcolor\": \"#E1E5ED\", \"linecolor\": \"black\", \"showgrid\": true, \"tickfont\": {\"color\": \"#4D5663\"}, \"title\": {\"font\": {\"color\": \"#4D5663\"}, \"text\": \"Count\"}, \"zerolinecolor\": \"#E1E5ED\"}},                        {\"showLink\": true, \"linkText\": \"Export to plot.ly\", \"plotlyServerURL\": \"https://plot.ly\", \"responsive\": true}                    ).then(function(){\n",
       "                            \n",
       "var gd = document.getElementById('71e00072-1f1d-462d-8e0b-4d0775f61fd8');\n",
       "var x = new MutationObserver(function (mutations, observer) {{\n",
       "        var display = window.getComputedStyle(gd).display;\n",
       "        if (!display || display === 'none') {{\n",
       "            console.log([gd, 'removed!']);\n",
       "            Plotly.purge(gd);\n",
       "            observer.disconnect();\n",
       "        }}\n",
       "}});\n",
       "\n",
       "// Listen for the removal of the full notebook cells\n",
       "var notebookContainer = gd.closest('#notebook-container');\n",
       "if (notebookContainer) {{\n",
       "    x.observe(notebookContainer, {childList: true});\n",
       "}}\n",
       "\n",
       "// Listen for the clearing of the current output cell\n",
       "var outputEl = gd.closest('.output');\n",
       "if (outputEl) {{\n",
       "    x.observe(outputEl, {childList: true});\n",
       "}}\n",
       "\n",
       "                        })                };                });            </script>        </div>"
      ]
     },
     "metadata": {},
     "output_type": "display_data"
    }
   ],
   "source": [
    "df4.groupby('ReviewText').sum()['count'].sort_values(ascending=False).iplot(\n",
    "    kind='bar', yTitle='Count', linecolor='black', title='Top 20 Bigrams in comments after removing stop words')"
   ]
  },
  {
   "cell_type": "code",
   "execution_count": 26,
   "metadata": {},
   "outputs": [
    {
     "name": "stdout",
     "output_type": "stream",
     "text": [
      "think future sad 30\n",
      "trying think future 20\n",
      "just trying think 19\n",
      "future sad elon 13\n",
      "sad elon musk 12\n",
      "real life tony 11\n",
      "life tony stark 11\n",
      "richest man earth 7\n",
      "time elon musk 6\n",
      "world richest man 6\n",
      "gary snail south 6\n",
      "snail south park 6\n",
      "richest man world 6\n",
      "wanna think future 5\n",
      "elon musk world 5\n",
      "musk world richest 5\n",
      "just wanna think 4\n",
      "want think future 4\n",
      "world richest person 4\n",
      "trying savior just 4\n"
     ]
    }
   ],
   "source": [
    "def get_top_n_trigram(corpus, n=None):\n",
    "    vec = CountVectorizer(ngram_range=(3, 3), stop_words='english').fit(corpus)\n",
    "    bag_of_words = vec.transform(corpus)\n",
    "    sum_words = bag_of_words.sum(axis=0) \n",
    "    words_freq = [(word, sum_words[0, idx]) for word, idx in vec.vocabulary_.items()]\n",
    "    words_freq =sorted(words_freq, key = lambda x: x[1], reverse=True)\n",
    "    return words_freq[:n]\n",
    "common_words = get_top_n_trigram(df['Review Text'], 20)\n",
    "for word, freq in common_words:\n",
    "    print(word, freq)\n",
    "df6 = pd.DataFrame(common_words, columns = ['ReviewText' , 'count'])"
   ]
  },
  {
   "cell_type": "code",
   "execution_count": 27,
   "metadata": {},
   "outputs": [
    {
     "data": {
      "application/vnd.plotly.v1+json": {
       "config": {
        "linkText": "Export to plot.ly",
        "plotlyServerURL": "https://plot.ly",
        "showLink": true
       },
       "data": [
        {
         "marker": {
          "color": "rgba(255, 153, 51, 0.6)",
          "line": {
           "color": "rgba(255, 153, 51, 1.0)",
           "width": 1
          }
         },
         "name": "count",
         "orientation": "v",
         "text": "",
         "type": "bar",
         "x": [
          "think future sad",
          "trying think future",
          "just trying think",
          "future sad elon",
          "sad elon musk",
          "life tony stark",
          "real life tony",
          "richest man earth",
          "richest man world",
          "gary snail south",
          "time elon musk",
          "snail south park",
          "world richest man",
          "elon musk world",
          "musk world richest",
          "wanna think future",
          "just wanna think",
          "trying savior just",
          "want think future",
          "world richest person"
         ],
         "y": [
          30,
          20,
          19,
          13,
          12,
          11,
          11,
          7,
          6,
          6,
          6,
          6,
          6,
          5,
          5,
          5,
          4,
          4,
          4,
          4
         ]
        }
       ],
       "layout": {
        "legend": {
         "bgcolor": "#F5F6F9",
         "font": {
          "color": "#4D5663"
         }
        },
        "paper_bgcolor": "#F5F6F9",
        "plot_bgcolor": "#F5F6F9",
        "template": {
         "data": {
          "bar": [
           {
            "error_x": {
             "color": "#2a3f5f"
            },
            "error_y": {
             "color": "#2a3f5f"
            },
            "marker": {
             "line": {
              "color": "#E5ECF6",
              "width": 0.5
             }
            },
            "type": "bar"
           }
          ],
          "barpolar": [
           {
            "marker": {
             "line": {
              "color": "#E5ECF6",
              "width": 0.5
             }
            },
            "type": "barpolar"
           }
          ],
          "carpet": [
           {
            "aaxis": {
             "endlinecolor": "#2a3f5f",
             "gridcolor": "white",
             "linecolor": "white",
             "minorgridcolor": "white",
             "startlinecolor": "#2a3f5f"
            },
            "baxis": {
             "endlinecolor": "#2a3f5f",
             "gridcolor": "white",
             "linecolor": "white",
             "minorgridcolor": "white",
             "startlinecolor": "#2a3f5f"
            },
            "type": "carpet"
           }
          ],
          "choropleth": [
           {
            "colorbar": {
             "outlinewidth": 0,
             "ticks": ""
            },
            "type": "choropleth"
           }
          ],
          "contour": [
           {
            "colorbar": {
             "outlinewidth": 0,
             "ticks": ""
            },
            "colorscale": [
             [
              0,
              "#0d0887"
             ],
             [
              0.1111111111111111,
              "#46039f"
             ],
             [
              0.2222222222222222,
              "#7201a8"
             ],
             [
              0.3333333333333333,
              "#9c179e"
             ],
             [
              0.4444444444444444,
              "#bd3786"
             ],
             [
              0.5555555555555556,
              "#d8576b"
             ],
             [
              0.6666666666666666,
              "#ed7953"
             ],
             [
              0.7777777777777778,
              "#fb9f3a"
             ],
             [
              0.8888888888888888,
              "#fdca26"
             ],
             [
              1,
              "#f0f921"
             ]
            ],
            "type": "contour"
           }
          ],
          "contourcarpet": [
           {
            "colorbar": {
             "outlinewidth": 0,
             "ticks": ""
            },
            "type": "contourcarpet"
           }
          ],
          "heatmap": [
           {
            "colorbar": {
             "outlinewidth": 0,
             "ticks": ""
            },
            "colorscale": [
             [
              0,
              "#0d0887"
             ],
             [
              0.1111111111111111,
              "#46039f"
             ],
             [
              0.2222222222222222,
              "#7201a8"
             ],
             [
              0.3333333333333333,
              "#9c179e"
             ],
             [
              0.4444444444444444,
              "#bd3786"
             ],
             [
              0.5555555555555556,
              "#d8576b"
             ],
             [
              0.6666666666666666,
              "#ed7953"
             ],
             [
              0.7777777777777778,
              "#fb9f3a"
             ],
             [
              0.8888888888888888,
              "#fdca26"
             ],
             [
              1,
              "#f0f921"
             ]
            ],
            "type": "heatmap"
           }
          ],
          "heatmapgl": [
           {
            "colorbar": {
             "outlinewidth": 0,
             "ticks": ""
            },
            "colorscale": [
             [
              0,
              "#0d0887"
             ],
             [
              0.1111111111111111,
              "#46039f"
             ],
             [
              0.2222222222222222,
              "#7201a8"
             ],
             [
              0.3333333333333333,
              "#9c179e"
             ],
             [
              0.4444444444444444,
              "#bd3786"
             ],
             [
              0.5555555555555556,
              "#d8576b"
             ],
             [
              0.6666666666666666,
              "#ed7953"
             ],
             [
              0.7777777777777778,
              "#fb9f3a"
             ],
             [
              0.8888888888888888,
              "#fdca26"
             ],
             [
              1,
              "#f0f921"
             ]
            ],
            "type": "heatmapgl"
           }
          ],
          "histogram": [
           {
            "marker": {
             "colorbar": {
              "outlinewidth": 0,
              "ticks": ""
             }
            },
            "type": "histogram"
           }
          ],
          "histogram2d": [
           {
            "colorbar": {
             "outlinewidth": 0,
             "ticks": ""
            },
            "colorscale": [
             [
              0,
              "#0d0887"
             ],
             [
              0.1111111111111111,
              "#46039f"
             ],
             [
              0.2222222222222222,
              "#7201a8"
             ],
             [
              0.3333333333333333,
              "#9c179e"
             ],
             [
              0.4444444444444444,
              "#bd3786"
             ],
             [
              0.5555555555555556,
              "#d8576b"
             ],
             [
              0.6666666666666666,
              "#ed7953"
             ],
             [
              0.7777777777777778,
              "#fb9f3a"
             ],
             [
              0.8888888888888888,
              "#fdca26"
             ],
             [
              1,
              "#f0f921"
             ]
            ],
            "type": "histogram2d"
           }
          ],
          "histogram2dcontour": [
           {
            "colorbar": {
             "outlinewidth": 0,
             "ticks": ""
            },
            "colorscale": [
             [
              0,
              "#0d0887"
             ],
             [
              0.1111111111111111,
              "#46039f"
             ],
             [
              0.2222222222222222,
              "#7201a8"
             ],
             [
              0.3333333333333333,
              "#9c179e"
             ],
             [
              0.4444444444444444,
              "#bd3786"
             ],
             [
              0.5555555555555556,
              "#d8576b"
             ],
             [
              0.6666666666666666,
              "#ed7953"
             ],
             [
              0.7777777777777778,
              "#fb9f3a"
             ],
             [
              0.8888888888888888,
              "#fdca26"
             ],
             [
              1,
              "#f0f921"
             ]
            ],
            "type": "histogram2dcontour"
           }
          ],
          "mesh3d": [
           {
            "colorbar": {
             "outlinewidth": 0,
             "ticks": ""
            },
            "type": "mesh3d"
           }
          ],
          "parcoords": [
           {
            "line": {
             "colorbar": {
              "outlinewidth": 0,
              "ticks": ""
             }
            },
            "type": "parcoords"
           }
          ],
          "pie": [
           {
            "automargin": true,
            "type": "pie"
           }
          ],
          "scatter": [
           {
            "marker": {
             "colorbar": {
              "outlinewidth": 0,
              "ticks": ""
             }
            },
            "type": "scatter"
           }
          ],
          "scatter3d": [
           {
            "line": {
             "colorbar": {
              "outlinewidth": 0,
              "ticks": ""
             }
            },
            "marker": {
             "colorbar": {
              "outlinewidth": 0,
              "ticks": ""
             }
            },
            "type": "scatter3d"
           }
          ],
          "scattercarpet": [
           {
            "marker": {
             "colorbar": {
              "outlinewidth": 0,
              "ticks": ""
             }
            },
            "type": "scattercarpet"
           }
          ],
          "scattergeo": [
           {
            "marker": {
             "colorbar": {
              "outlinewidth": 0,
              "ticks": ""
             }
            },
            "type": "scattergeo"
           }
          ],
          "scattergl": [
           {
            "marker": {
             "colorbar": {
              "outlinewidth": 0,
              "ticks": ""
             }
            },
            "type": "scattergl"
           }
          ],
          "scattermapbox": [
           {
            "marker": {
             "colorbar": {
              "outlinewidth": 0,
              "ticks": ""
             }
            },
            "type": "scattermapbox"
           }
          ],
          "scatterpolar": [
           {
            "marker": {
             "colorbar": {
              "outlinewidth": 0,
              "ticks": ""
             }
            },
            "type": "scatterpolar"
           }
          ],
          "scatterpolargl": [
           {
            "marker": {
             "colorbar": {
              "outlinewidth": 0,
              "ticks": ""
             }
            },
            "type": "scatterpolargl"
           }
          ],
          "scatterternary": [
           {
            "marker": {
             "colorbar": {
              "outlinewidth": 0,
              "ticks": ""
             }
            },
            "type": "scatterternary"
           }
          ],
          "surface": [
           {
            "colorbar": {
             "outlinewidth": 0,
             "ticks": ""
            },
            "colorscale": [
             [
              0,
              "#0d0887"
             ],
             [
              0.1111111111111111,
              "#46039f"
             ],
             [
              0.2222222222222222,
              "#7201a8"
             ],
             [
              0.3333333333333333,
              "#9c179e"
             ],
             [
              0.4444444444444444,
              "#bd3786"
             ],
             [
              0.5555555555555556,
              "#d8576b"
             ],
             [
              0.6666666666666666,
              "#ed7953"
             ],
             [
              0.7777777777777778,
              "#fb9f3a"
             ],
             [
              0.8888888888888888,
              "#fdca26"
             ],
             [
              1,
              "#f0f921"
             ]
            ],
            "type": "surface"
           }
          ],
          "table": [
           {
            "cells": {
             "fill": {
              "color": "#EBF0F8"
             },
             "line": {
              "color": "white"
             }
            },
            "header": {
             "fill": {
              "color": "#C8D4E3"
             },
             "line": {
              "color": "white"
             }
            },
            "type": "table"
           }
          ]
         },
         "layout": {
          "annotationdefaults": {
           "arrowcolor": "#2a3f5f",
           "arrowhead": 0,
           "arrowwidth": 1
          },
          "autotypenumbers": "strict",
          "coloraxis": {
           "colorbar": {
            "outlinewidth": 0,
            "ticks": ""
           }
          },
          "colorscale": {
           "diverging": [
            [
             0,
             "#8e0152"
            ],
            [
             0.1,
             "#c51b7d"
            ],
            [
             0.2,
             "#de77ae"
            ],
            [
             0.3,
             "#f1b6da"
            ],
            [
             0.4,
             "#fde0ef"
            ],
            [
             0.5,
             "#f7f7f7"
            ],
            [
             0.6,
             "#e6f5d0"
            ],
            [
             0.7,
             "#b8e186"
            ],
            [
             0.8,
             "#7fbc41"
            ],
            [
             0.9,
             "#4d9221"
            ],
            [
             1,
             "#276419"
            ]
           ],
           "sequential": [
            [
             0,
             "#0d0887"
            ],
            [
             0.1111111111111111,
             "#46039f"
            ],
            [
             0.2222222222222222,
             "#7201a8"
            ],
            [
             0.3333333333333333,
             "#9c179e"
            ],
            [
             0.4444444444444444,
             "#bd3786"
            ],
            [
             0.5555555555555556,
             "#d8576b"
            ],
            [
             0.6666666666666666,
             "#ed7953"
            ],
            [
             0.7777777777777778,
             "#fb9f3a"
            ],
            [
             0.8888888888888888,
             "#fdca26"
            ],
            [
             1,
             "#f0f921"
            ]
           ],
           "sequentialminus": [
            [
             0,
             "#0d0887"
            ],
            [
             0.1111111111111111,
             "#46039f"
            ],
            [
             0.2222222222222222,
             "#7201a8"
            ],
            [
             0.3333333333333333,
             "#9c179e"
            ],
            [
             0.4444444444444444,
             "#bd3786"
            ],
            [
             0.5555555555555556,
             "#d8576b"
            ],
            [
             0.6666666666666666,
             "#ed7953"
            ],
            [
             0.7777777777777778,
             "#fb9f3a"
            ],
            [
             0.8888888888888888,
             "#fdca26"
            ],
            [
             1,
             "#f0f921"
            ]
           ]
          },
          "colorway": [
           "#636efa",
           "#EF553B",
           "#00cc96",
           "#ab63fa",
           "#FFA15A",
           "#19d3f3",
           "#FF6692",
           "#B6E880",
           "#FF97FF",
           "#FECB52"
          ],
          "font": {
           "color": "#2a3f5f"
          },
          "geo": {
           "bgcolor": "white",
           "lakecolor": "white",
           "landcolor": "#E5ECF6",
           "showlakes": true,
           "showland": true,
           "subunitcolor": "white"
          },
          "hoverlabel": {
           "align": "left"
          },
          "hovermode": "closest",
          "mapbox": {
           "style": "light"
          },
          "paper_bgcolor": "white",
          "plot_bgcolor": "#E5ECF6",
          "polar": {
           "angularaxis": {
            "gridcolor": "white",
            "linecolor": "white",
            "ticks": ""
           },
           "bgcolor": "#E5ECF6",
           "radialaxis": {
            "gridcolor": "white",
            "linecolor": "white",
            "ticks": ""
           }
          },
          "scene": {
           "xaxis": {
            "backgroundcolor": "#E5ECF6",
            "gridcolor": "white",
            "gridwidth": 2,
            "linecolor": "white",
            "showbackground": true,
            "ticks": "",
            "zerolinecolor": "white"
           },
           "yaxis": {
            "backgroundcolor": "#E5ECF6",
            "gridcolor": "white",
            "gridwidth": 2,
            "linecolor": "white",
            "showbackground": true,
            "ticks": "",
            "zerolinecolor": "white"
           },
           "zaxis": {
            "backgroundcolor": "#E5ECF6",
            "gridcolor": "white",
            "gridwidth": 2,
            "linecolor": "white",
            "showbackground": true,
            "ticks": "",
            "zerolinecolor": "white"
           }
          },
          "shapedefaults": {
           "line": {
            "color": "#2a3f5f"
           }
          },
          "ternary": {
           "aaxis": {
            "gridcolor": "white",
            "linecolor": "white",
            "ticks": ""
           },
           "baxis": {
            "gridcolor": "white",
            "linecolor": "white",
            "ticks": ""
           },
           "bgcolor": "#E5ECF6",
           "caxis": {
            "gridcolor": "white",
            "linecolor": "white",
            "ticks": ""
           }
          },
          "title": {
           "x": 0.05
          },
          "xaxis": {
           "automargin": true,
           "gridcolor": "white",
           "linecolor": "white",
           "ticks": "",
           "title": {
            "standoff": 15
           },
           "zerolinecolor": "white",
           "zerolinewidth": 2
          },
          "yaxis": {
           "automargin": true,
           "gridcolor": "white",
           "linecolor": "white",
           "ticks": "",
           "title": {
            "standoff": 15
           },
           "zerolinecolor": "white",
           "zerolinewidth": 2
          }
         }
        },
        "title": {
         "font": {
          "color": "#4D5663"
         },
         "text": "Top 20 trigrams in review after removing stop words"
        },
        "xaxis": {
         "gridcolor": "#E1E5ED",
         "linecolor": "black",
         "showgrid": true,
         "tickfont": {
          "color": "#4D5663"
         },
         "title": {
          "font": {
           "color": "#4D5663"
          },
          "text": ""
         },
         "zerolinecolor": "#E1E5ED"
        },
        "yaxis": {
         "gridcolor": "#E1E5ED",
         "linecolor": "black",
         "showgrid": true,
         "tickfont": {
          "color": "#4D5663"
         },
         "title": {
          "font": {
           "color": "#4D5663"
          },
          "text": "Count"
         },
         "zerolinecolor": "#E1E5ED"
        }
       }
      },
      "text/html": [
       "<div>                            <div id=\"365919cc-59dc-4b16-a2fa-2bef7580386a\" class=\"plotly-graph-div\" style=\"height:525px; width:100%;\"></div>            <script type=\"text/javascript\">                require([\"plotly\"], function(Plotly) {                    window.PLOTLYENV=window.PLOTLYENV || {};\n",
       "                    window.PLOTLYENV.BASE_URL='https://plot.ly';                                    if (document.getElementById(\"365919cc-59dc-4b16-a2fa-2bef7580386a\")) {                    Plotly.newPlot(                        \"365919cc-59dc-4b16-a2fa-2bef7580386a\",                        [{\"marker\": {\"color\": \"rgba(255, 153, 51, 0.6)\", \"line\": {\"color\": \"rgba(255, 153, 51, 1.0)\", \"width\": 1}}, \"name\": \"count\", \"orientation\": \"v\", \"text\": \"\", \"type\": \"bar\", \"x\": [\"think future sad\", \"trying think future\", \"just trying think\", \"future sad elon\", \"sad elon musk\", \"life tony stark\", \"real life tony\", \"richest man earth\", \"richest man world\", \"gary snail south\", \"time elon musk\", \"snail south park\", \"world richest man\", \"elon musk world\", \"musk world richest\", \"wanna think future\", \"just wanna think\", \"trying savior just\", \"want think future\", \"world richest person\"], \"y\": [30, 20, 19, 13, 12, 11, 11, 7, 6, 6, 6, 6, 6, 5, 5, 5, 4, 4, 4, 4]}],                        {\"legend\": {\"bgcolor\": \"#F5F6F9\", \"font\": {\"color\": \"#4D5663\"}}, \"paper_bgcolor\": \"#F5F6F9\", \"plot_bgcolor\": \"#F5F6F9\", \"template\": {\"data\": {\"bar\": [{\"error_x\": {\"color\": \"#2a3f5f\"}, \"error_y\": {\"color\": \"#2a3f5f\"}, \"marker\": {\"line\": {\"color\": \"#E5ECF6\", \"width\": 0.5}}, \"type\": \"bar\"}], \"barpolar\": [{\"marker\": {\"line\": {\"color\": \"#E5ECF6\", \"width\": 0.5}}, \"type\": \"barpolar\"}], \"carpet\": [{\"aaxis\": {\"endlinecolor\": \"#2a3f5f\", \"gridcolor\": \"white\", \"linecolor\": \"white\", \"minorgridcolor\": \"white\", \"startlinecolor\": \"#2a3f5f\"}, \"baxis\": {\"endlinecolor\": \"#2a3f5f\", \"gridcolor\": \"white\", \"linecolor\": \"white\", \"minorgridcolor\": \"white\", \"startlinecolor\": \"#2a3f5f\"}, \"type\": \"carpet\"}], \"choropleth\": [{\"colorbar\": {\"outlinewidth\": 0, \"ticks\": \"\"}, \"type\": \"choropleth\"}], \"contour\": [{\"colorbar\": {\"outlinewidth\": 0, \"ticks\": \"\"}, \"colorscale\": [[0.0, \"#0d0887\"], [0.1111111111111111, \"#46039f\"], [0.2222222222222222, \"#7201a8\"], [0.3333333333333333, \"#9c179e\"], [0.4444444444444444, \"#bd3786\"], [0.5555555555555556, \"#d8576b\"], [0.6666666666666666, \"#ed7953\"], [0.7777777777777778, \"#fb9f3a\"], [0.8888888888888888, \"#fdca26\"], [1.0, \"#f0f921\"]], \"type\": \"contour\"}], \"contourcarpet\": [{\"colorbar\": {\"outlinewidth\": 0, \"ticks\": \"\"}, \"type\": \"contourcarpet\"}], \"heatmap\": [{\"colorbar\": {\"outlinewidth\": 0, \"ticks\": \"\"}, \"colorscale\": [[0.0, \"#0d0887\"], [0.1111111111111111, \"#46039f\"], [0.2222222222222222, \"#7201a8\"], [0.3333333333333333, \"#9c179e\"], [0.4444444444444444, \"#bd3786\"], [0.5555555555555556, \"#d8576b\"], [0.6666666666666666, \"#ed7953\"], [0.7777777777777778, \"#fb9f3a\"], [0.8888888888888888, \"#fdca26\"], [1.0, \"#f0f921\"]], \"type\": \"heatmap\"}], \"heatmapgl\": [{\"colorbar\": {\"outlinewidth\": 0, \"ticks\": \"\"}, \"colorscale\": [[0.0, \"#0d0887\"], [0.1111111111111111, \"#46039f\"], [0.2222222222222222, \"#7201a8\"], [0.3333333333333333, \"#9c179e\"], [0.4444444444444444, \"#bd3786\"], [0.5555555555555556, \"#d8576b\"], [0.6666666666666666, \"#ed7953\"], [0.7777777777777778, \"#fb9f3a\"], [0.8888888888888888, \"#fdca26\"], [1.0, \"#f0f921\"]], \"type\": \"heatmapgl\"}], \"histogram\": [{\"marker\": {\"colorbar\": {\"outlinewidth\": 0, \"ticks\": \"\"}}, \"type\": \"histogram\"}], \"histogram2d\": [{\"colorbar\": {\"outlinewidth\": 0, \"ticks\": \"\"}, \"colorscale\": [[0.0, \"#0d0887\"], [0.1111111111111111, \"#46039f\"], [0.2222222222222222, \"#7201a8\"], [0.3333333333333333, \"#9c179e\"], [0.4444444444444444, \"#bd3786\"], [0.5555555555555556, \"#d8576b\"], [0.6666666666666666, \"#ed7953\"], [0.7777777777777778, \"#fb9f3a\"], [0.8888888888888888, \"#fdca26\"], [1.0, \"#f0f921\"]], \"type\": \"histogram2d\"}], \"histogram2dcontour\": [{\"colorbar\": {\"outlinewidth\": 0, \"ticks\": \"\"}, \"colorscale\": [[0.0, \"#0d0887\"], [0.1111111111111111, \"#46039f\"], [0.2222222222222222, \"#7201a8\"], [0.3333333333333333, \"#9c179e\"], [0.4444444444444444, \"#bd3786\"], [0.5555555555555556, \"#d8576b\"], [0.6666666666666666, \"#ed7953\"], [0.7777777777777778, \"#fb9f3a\"], [0.8888888888888888, \"#fdca26\"], [1.0, \"#f0f921\"]], \"type\": \"histogram2dcontour\"}], \"mesh3d\": [{\"colorbar\": {\"outlinewidth\": 0, \"ticks\": \"\"}, \"type\": \"mesh3d\"}], \"parcoords\": [{\"line\": {\"colorbar\": {\"outlinewidth\": 0, \"ticks\": \"\"}}, \"type\": \"parcoords\"}], \"pie\": [{\"automargin\": true, \"type\": \"pie\"}], \"scatter\": [{\"marker\": {\"colorbar\": {\"outlinewidth\": 0, \"ticks\": \"\"}}, \"type\": \"scatter\"}], \"scatter3d\": [{\"line\": {\"colorbar\": {\"outlinewidth\": 0, \"ticks\": \"\"}}, \"marker\": {\"colorbar\": {\"outlinewidth\": 0, \"ticks\": \"\"}}, \"type\": \"scatter3d\"}], \"scattercarpet\": [{\"marker\": {\"colorbar\": {\"outlinewidth\": 0, \"ticks\": \"\"}}, \"type\": \"scattercarpet\"}], \"scattergeo\": [{\"marker\": {\"colorbar\": {\"outlinewidth\": 0, \"ticks\": \"\"}}, \"type\": \"scattergeo\"}], \"scattergl\": [{\"marker\": {\"colorbar\": {\"outlinewidth\": 0, \"ticks\": \"\"}}, \"type\": \"scattergl\"}], \"scattermapbox\": [{\"marker\": {\"colorbar\": {\"outlinewidth\": 0, \"ticks\": \"\"}}, \"type\": \"scattermapbox\"}], \"scatterpolar\": [{\"marker\": {\"colorbar\": {\"outlinewidth\": 0, \"ticks\": \"\"}}, \"type\": \"scatterpolar\"}], \"scatterpolargl\": [{\"marker\": {\"colorbar\": {\"outlinewidth\": 0, \"ticks\": \"\"}}, \"type\": \"scatterpolargl\"}], \"scatterternary\": [{\"marker\": {\"colorbar\": {\"outlinewidth\": 0, \"ticks\": \"\"}}, \"type\": \"scatterternary\"}], \"surface\": [{\"colorbar\": {\"outlinewidth\": 0, \"ticks\": \"\"}, \"colorscale\": [[0.0, \"#0d0887\"], [0.1111111111111111, \"#46039f\"], [0.2222222222222222, \"#7201a8\"], [0.3333333333333333, \"#9c179e\"], [0.4444444444444444, \"#bd3786\"], [0.5555555555555556, \"#d8576b\"], [0.6666666666666666, \"#ed7953\"], [0.7777777777777778, \"#fb9f3a\"], [0.8888888888888888, \"#fdca26\"], [1.0, \"#f0f921\"]], \"type\": \"surface\"}], \"table\": [{\"cells\": {\"fill\": {\"color\": \"#EBF0F8\"}, \"line\": {\"color\": \"white\"}}, \"header\": {\"fill\": {\"color\": \"#C8D4E3\"}, \"line\": {\"color\": \"white\"}}, \"type\": \"table\"}]}, \"layout\": {\"annotationdefaults\": {\"arrowcolor\": \"#2a3f5f\", \"arrowhead\": 0, \"arrowwidth\": 1}, \"autotypenumbers\": \"strict\", \"coloraxis\": {\"colorbar\": {\"outlinewidth\": 0, \"ticks\": \"\"}}, \"colorscale\": {\"diverging\": [[0, \"#8e0152\"], [0.1, \"#c51b7d\"], [0.2, \"#de77ae\"], [0.3, \"#f1b6da\"], [0.4, \"#fde0ef\"], [0.5, \"#f7f7f7\"], [0.6, \"#e6f5d0\"], [0.7, \"#b8e186\"], [0.8, \"#7fbc41\"], [0.9, \"#4d9221\"], [1, \"#276419\"]], \"sequential\": [[0.0, \"#0d0887\"], [0.1111111111111111, \"#46039f\"], [0.2222222222222222, \"#7201a8\"], [0.3333333333333333, \"#9c179e\"], [0.4444444444444444, \"#bd3786\"], [0.5555555555555556, \"#d8576b\"], [0.6666666666666666, \"#ed7953\"], [0.7777777777777778, \"#fb9f3a\"], [0.8888888888888888, \"#fdca26\"], [1.0, \"#f0f921\"]], \"sequentialminus\": [[0.0, \"#0d0887\"], [0.1111111111111111, \"#46039f\"], [0.2222222222222222, \"#7201a8\"], [0.3333333333333333, \"#9c179e\"], [0.4444444444444444, \"#bd3786\"], [0.5555555555555556, \"#d8576b\"], [0.6666666666666666, \"#ed7953\"], [0.7777777777777778, \"#fb9f3a\"], [0.8888888888888888, \"#fdca26\"], [1.0, \"#f0f921\"]]}, \"colorway\": [\"#636efa\", \"#EF553B\", \"#00cc96\", \"#ab63fa\", \"#FFA15A\", \"#19d3f3\", \"#FF6692\", \"#B6E880\", \"#FF97FF\", \"#FECB52\"], \"font\": {\"color\": \"#2a3f5f\"}, \"geo\": {\"bgcolor\": \"white\", \"lakecolor\": \"white\", \"landcolor\": \"#E5ECF6\", \"showlakes\": true, \"showland\": true, \"subunitcolor\": \"white\"}, \"hoverlabel\": {\"align\": \"left\"}, \"hovermode\": \"closest\", \"mapbox\": {\"style\": \"light\"}, \"paper_bgcolor\": \"white\", \"plot_bgcolor\": \"#E5ECF6\", \"polar\": {\"angularaxis\": {\"gridcolor\": \"white\", \"linecolor\": \"white\", \"ticks\": \"\"}, \"bgcolor\": \"#E5ECF6\", \"radialaxis\": {\"gridcolor\": \"white\", \"linecolor\": \"white\", \"ticks\": \"\"}}, \"scene\": {\"xaxis\": {\"backgroundcolor\": \"#E5ECF6\", \"gridcolor\": \"white\", \"gridwidth\": 2, \"linecolor\": \"white\", \"showbackground\": true, \"ticks\": \"\", \"zerolinecolor\": \"white\"}, \"yaxis\": {\"backgroundcolor\": \"#E5ECF6\", \"gridcolor\": \"white\", \"gridwidth\": 2, \"linecolor\": \"white\", \"showbackground\": true, \"ticks\": \"\", \"zerolinecolor\": \"white\"}, \"zaxis\": {\"backgroundcolor\": \"#E5ECF6\", \"gridcolor\": \"white\", \"gridwidth\": 2, \"linecolor\": \"white\", \"showbackground\": true, \"ticks\": \"\", \"zerolinecolor\": \"white\"}}, \"shapedefaults\": {\"line\": {\"color\": \"#2a3f5f\"}}, \"ternary\": {\"aaxis\": {\"gridcolor\": \"white\", \"linecolor\": \"white\", \"ticks\": \"\"}, \"baxis\": {\"gridcolor\": \"white\", \"linecolor\": \"white\", \"ticks\": \"\"}, \"bgcolor\": \"#E5ECF6\", \"caxis\": {\"gridcolor\": \"white\", \"linecolor\": \"white\", \"ticks\": \"\"}}, \"title\": {\"x\": 0.05}, \"xaxis\": {\"automargin\": true, \"gridcolor\": \"white\", \"linecolor\": \"white\", \"ticks\": \"\", \"title\": {\"standoff\": 15}, \"zerolinecolor\": \"white\", \"zerolinewidth\": 2}, \"yaxis\": {\"automargin\": true, \"gridcolor\": \"white\", \"linecolor\": \"white\", \"ticks\": \"\", \"title\": {\"standoff\": 15}, \"zerolinecolor\": \"white\", \"zerolinewidth\": 2}}}, \"title\": {\"font\": {\"color\": \"#4D5663\"}, \"text\": \"Top 20 trigrams in review after removing stop words\"}, \"xaxis\": {\"gridcolor\": \"#E1E5ED\", \"linecolor\": \"black\", \"showgrid\": true, \"tickfont\": {\"color\": \"#4D5663\"}, \"title\": {\"font\": {\"color\": \"#4D5663\"}, \"text\": \"\"}, \"zerolinecolor\": \"#E1E5ED\"}, \"yaxis\": {\"gridcolor\": \"#E1E5ED\", \"linecolor\": \"black\", \"showgrid\": true, \"tickfont\": {\"color\": \"#4D5663\"}, \"title\": {\"font\": {\"color\": \"#4D5663\"}, \"text\": \"Count\"}, \"zerolinecolor\": \"#E1E5ED\"}},                        {\"showLink\": true, \"linkText\": \"Export to plot.ly\", \"plotlyServerURL\": \"https://plot.ly\", \"responsive\": true}                    ).then(function(){\n",
       "                            \n",
       "var gd = document.getElementById('365919cc-59dc-4b16-a2fa-2bef7580386a');\n",
       "var x = new MutationObserver(function (mutations, observer) {{\n",
       "        var display = window.getComputedStyle(gd).display;\n",
       "        if (!display || display === 'none') {{\n",
       "            console.log([gd, 'removed!']);\n",
       "            Plotly.purge(gd);\n",
       "            observer.disconnect();\n",
       "        }}\n",
       "}});\n",
       "\n",
       "// Listen for the removal of the full notebook cells\n",
       "var notebookContainer = gd.closest('#notebook-container');\n",
       "if (notebookContainer) {{\n",
       "    x.observe(notebookContainer, {childList: true});\n",
       "}}\n",
       "\n",
       "// Listen for the clearing of the current output cell\n",
       "var outputEl = gd.closest('.output');\n",
       "if (outputEl) {{\n",
       "    x.observe(outputEl, {childList: true});\n",
       "}}\n",
       "\n",
       "                        })                };                });            </script>        </div>"
      ]
     },
     "metadata": {},
     "output_type": "display_data"
    }
   ],
   "source": [
    "df6.groupby('ReviewText').sum()['count'].sort_values(ascending=False).iplot(\n",
    "    kind='bar', yTitle='Count', linecolor='black', title='Top 20 Trigrams in comments after removing stop words')"
   ]
  },
  {
   "cell_type": "markdown",
   "metadata": {},
   "source": [
    "#100 Words Cloud in Tableau"
   ]
  },
  {
   "cell_type": "code",
   "execution_count": 29,
   "metadata": {},
   "outputs": [],
   "source": [
    "def get_top_n_words(corpus, n=None):\n",
    "    vec = CountVectorizer(stop_words = 'english').fit(corpus)\n",
    "    bag_of_words = vec.transform(corpus)\n",
    "    sum_words = bag_of_words.sum(axis=0) \n",
    "    words_freq = [(word, sum_words[0, idx]) for word, idx in vec.vocabulary_.items()]\n",
    "    words_freq =sorted(words_freq, key = lambda x: x[1], reverse=True)\n",
    "    return words_freq[:n]\n",
    "common_words = get_top_n_words(df['Review Text'], 100)\n",
    "Vocubulary_df = pd.DataFrame(common_words, columns=['Word', 'freq'])\n",
    "Vocubulary_df.to_excel(r'Word_count.xlsx')\n"
   ]
  },
  {
   "cell_type": "markdown",
   "metadata": {},
   "source": [
    "#Topic Modeling Review Text"
   ]
  },
  {
   "cell_type": "code",
   "execution_count": 32,
   "metadata": {},
   "outputs": [],
   "source": [
    "reindexed_data = df['Review Text']\n",
    "tfidf_vectorizer = TfidfVectorizer(stop_words='english', use_idf=True, smooth_idf=True)\n",
    "reindexed_data = reindexed_data.values\n",
    "document_term_matrix = tfidf_vectorizer.fit_transform(reindexed_data)"
   ]
  },
  {
   "cell_type": "code",
   "execution_count": 33,
   "metadata": {},
   "outputs": [],
   "source": [
    "\n",
    "n_topics = 6\n",
    "lsa_model = TruncatedSVD(n_components=n_topics)\n",
    "lsa_topic_matrix = lsa_model.fit_transform(document_term_matrix)"
   ]
  },
  {
   "cell_type": "code",
   "execution_count": 34,
   "metadata": {},
   "outputs": [],
   "source": [
    "def get_keys(topic_matrix):\n",
    "    '''\n",
    "    returns an integer list of predicted topic \n",
    "    categories for a given topic matrix\n",
    "    '''\n",
    "    keys = topic_matrix.argmax(axis=1).tolist()\n",
    "    return keys\n",
    "\n",
    "def keys_to_counts(keys):\n",
    "    '''\n",
    "    returns a tuple of topic categories and their \n",
    "    accompanying magnitudes for a given list of keys\n",
    "    '''\n",
    "    count_pairs = Counter(keys).items()\n",
    "    categories = [pair[0] for pair in count_pairs]\n",
    "    counts = [pair[1] for pair in count_pairs]\n",
    "    return (categories, counts)"
   ]
  },
  {
   "cell_type": "code",
   "execution_count": 35,
   "metadata": {},
   "outputs": [],
   "source": [
    "lsa_keys = get_keys(lsa_topic_matrix)\n",
    "lsa_categories, lsa_counts = keys_to_counts(lsa_keys)"
   ]
  },
  {
   "cell_type": "code",
   "execution_count": 36,
   "metadata": {},
   "outputs": [],
   "source": [
    "def get_top_n_words(n, keys, document_term_matrix, tfidf_vectorizer):\n",
    "    '''\n",
    "    returns a list of n_topic strings, where each string contains the n most common \n",
    "    words in a predicted category, in order\n",
    "    '''\n",
    "    top_word_indices = []\n",
    "    for topic in range(n_topics):\n",
    "        temp_vector_sum = 0\n",
    "        for i in range(len(keys)):\n",
    "            if keys[i] == topic:\n",
    "                temp_vector_sum += document_term_matrix[i]\n",
    "        temp_vector_sum = temp_vector_sum.toarray()\n",
    "        top_n_word_indices = np.flip(np.argsort(temp_vector_sum)[0][-n:],0)\n",
    "        top_word_indices.append(top_n_word_indices)   \n",
    "    top_words = []\n",
    "    for topic in top_word_indices:\n",
    "        topic_words = []\n",
    "        for index in topic:\n",
    "            temp_word_vector = np.zeros((1,document_term_matrix.shape[1]))\n",
    "            temp_word_vector[:,index] = 1\n",
    "            the_word = tfidf_vectorizer.inverse_transform(temp_word_vector)[0][0]\n",
    "            topic_words.append(the_word.encode('ascii').decode('utf-8'))\n",
    "        top_words.append(\" \".join(topic_words))         \n",
    "    return top_words"
   ]
  },
  {
   "cell_type": "code",
   "execution_count": 37,
   "metadata": {},
   "outputs": [
    {
     "name": "stdout",
     "output_type": "stream",
     "text": [
      "Topic 1:  elon musk just\n",
      "Topic 2:  man richest world\n",
      "Topic 3:  stark tony life\n",
      "Topic 4:  future trying sad\n",
      "Topic 5:  guy mars like\n",
      "Topic 6:  version earthquakes slowed\n"
     ]
    }
   ],
   "source": [
    "\n",
    "top_n_words_lsa = get_top_n_words(3, lsa_keys, document_term_matrix, tfidf_vectorizer)\n",
    "\n",
    "for i in range(len(top_n_words_lsa)):\n",
    "    print(\"Topic {}: \".format(i+1), top_n_words_lsa[i])"
   ]
  },
  {
   "cell_type": "code",
   "execution_count": null,
   "metadata": {},
   "outputs": [],
   "source": []
  },
  {
   "cell_type": "markdown",
   "metadata": {},
   "source": [
    "#LSA Topic Counts\n"
   ]
  },
  {
   "cell_type": "code",
   "execution_count": 39,
   "metadata": {},
   "outputs": [
    {
     "data": {
      "text/plain": [
       "<BarContainer object of 6 artists>"
      ]
     },
     "execution_count": 39,
     "metadata": {},
     "output_type": "execute_result"
    },
    {
     "data": {
      "text/plain": [
       "[<matplotlib.axis.XTick at 0x29f2f0ada20>,\n",
       " <matplotlib.axis.XTick at 0x29f2f0ad358>,\n",
       " <matplotlib.axis.XTick at 0x29f2f0ad240>,\n",
       " <matplotlib.axis.XTick at 0x29f2ed0f0b8>,\n",
       " <matplotlib.axis.XTick at 0x29f2ed0f518>,\n",
       " <matplotlib.axis.XTick at 0x29f2ed0f9e8>]"
      ]
     },
     "execution_count": 39,
     "metadata": {},
     "output_type": "execute_result"
    },
    {
     "data": {
      "text/plain": [
       "[Text(0,0,'Topic 0: \\nelon musk just'),\n",
       " Text(0,0,'Topic 1: \\nman richest world'),\n",
       " Text(0,0,'Topic 5: \\nversion earthquakes slowed'),\n",
       " Text(0,0,'Topic 4: \\nguy mars like'),\n",
       " Text(0,0,'Topic 3: \\nfuture trying sad'),\n",
       " Text(0,0,'Topic 2: \\nstark tony life')]"
      ]
     },
     "execution_count": 39,
     "metadata": {},
     "output_type": "execute_result"
    },
    {
     "data": {
      "text/plain": [
       "Text(0,0.5,'Number of Comment Text')"
      ]
     },
     "execution_count": 39,
     "metadata": {},
     "output_type": "execute_result"
    },
    {
     "data": {
      "text/plain": [
       "Text(0.5,1,'LSA topic counts')"
      ]
     },
     "execution_count": 39,
     "metadata": {},
     "output_type": "execute_result"
    },
    {
     "data": {
      "image/png": "[encoded data removed]",
      "text/plain": [
       "<Figure size 1152x576 with 1 Axes>"
      ]
     },
     "metadata": {
      "needs_background": "light"
     },
     "output_type": "display_data"
    }
   ],
   "source": [
    "top_3_words = get_top_n_words(3, lsa_keys, document_term_matrix, tfidf_vectorizer)\n",
    "labels = ['Topic {}: \\n'.format(i) + top_3_words[i] for i in lsa_categories]\n",
    "fig, ax = plt.subplots(figsize=(16,8))\n",
    "ax.bar(lsa_categories, lsa_counts);\n",
    "ax.set_xticks(lsa_categories);\n",
    "ax.set_xticklabels(labels);\n",
    "ax.set_ylabel('Number of Comment Text');\n",
    "ax.set_title('LSA topic counts');\n",
    "plt.show()"
   ]
  },
  {
   "cell_type": "code",
   "execution_count": null,
   "metadata": {},
   "outputs": [],
   "source": []
  }
 ],
 "metadata": {
  "kernelspec": {
   "display_name": "Python 3",
   "language": "python",
   "name": "python3"
  },
  "language_info": {
   "codemirror_mode": {
    "name": "ipython",
    "version": 3
   },
   "file_extension": ".py",
   "mimetype": "text/x-python",
   "name": "python",
   "nbconvert_exporter": "python",
   "pygments_lexer": "ipython3",
   "version": "3.6.5"
  },
  "toc": {
   "base_numbering": 1,
   "nav_menu": {},
   "number_sections": true,
   "sideBar": true,
   "skip_h1_title": false,
   "title_cell": "Table of Contents",
   "title_sidebar": "Contents",
   "toc_cell": false,
   "toc_position": {},
   "toc_section_display": true,
   "toc_window_display": false
  }
 },
 "nbformat": 4,
 "nbformat_minor": 4
}
